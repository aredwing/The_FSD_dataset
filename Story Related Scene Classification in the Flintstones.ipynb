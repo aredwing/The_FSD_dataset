{
 "cells": [
  {
   "cell_type": "markdown",
   "metadata": {},
   "source": [
    "# Introduction\n",
    "This notebook is an implementation of experiments described in the paper \"Towards story-related classification of movie scenes\", submitted to the collection of \"Science of Stories\", at Plos One (url to be updated after acceptance)."
   ]
  },
  {
   "cell_type": "code",
   "execution_count": 1,
   "metadata": {
    "ExecuteTime": {
     "end_time": "2020-01-14T09:18:57.769228Z",
     "start_time": "2020-01-14T09:18:51.621395Z"
    }
   },
   "outputs": [],
   "source": [
    "import os\n",
    "import re\n",
    "from fractions import Fraction\n",
    "import pandas as pd\n",
    "import numpy as np\n",
    "from numpy.linalg import norm\n",
    "import shap\n",
    "import xgboost\n",
    "\n",
    "from scipy.stats import entropy, ttest_rel, sem\n",
    "\n",
    "from sklearn.linear_model import LogisticRegression\n",
    "from sklearn.preprocessing import normalize\n",
    "from sklearn.preprocessing import LabelBinarizer\n",
    "from sklearn.multiclass import OneVsRestClassifier\n",
    "from sklearn.model_selection import cross_validate\n",
    "from sklearn.model_selection import LeaveOneGroupOut\n",
    "from sklearn.preprocessing import normalize\n",
    "from sklearn.metrics import make_scorer\n",
    "\n",
    "from xgboost import XGBClassifier\n",
    "from xgboost import plot_importance\n",
    "\n",
    "from collections import Counter\n",
    "\n",
    "from matplotlib import pyplot\n",
    "import matplotlib.pyplot as plt"
   ]
  },
  {
   "cell_type": "code",
   "execution_count": 2,
   "metadata": {
    "ExecuteTime": {
     "end_time": "2020-01-14T09:18:57.794957Z",
     "start_time": "2020-01-14T09:18:57.775014Z"
    }
   },
   "outputs": [],
   "source": [
    "SEASON_EP = {'1': 28,\n",
    "             '2': 32,\n",
    "             '3': 1}\n",
    "def generate_ep(SEASON_EP):\n",
    "    ep_list = []\n",
    "    for season in SEASON_EP:\n",
    "        ep_list += ['S'+season+'E'+str(ep) for ep in range(1, SEASON_EP[season]+1)]\n",
    "    ep_list.remove('S1E1')\n",
    "    return ep_list\n",
    "\n",
    "EP_LIST = generate_ep(SEASON_EP)\n",
    "\n",
    "group_ep = {}\n",
    "for i in range(60):\n",
    "    group_ep[str(i+1)] = EP_LIST[i]\n",
    "\n",
    "label_list = list([\n",
    "    \"Inciting incident\",\n",
    "    \"Climax 1\",\n",
    "    \"Obstacle\",\n",
    "    \"Midpoint\",\n",
    "    \"Disaster\",\n",
    "    \"Crisis\",\n",
    "    \"Climax 2\",\n",
    "    \"Climax 3\",\n",
    "    \"Wrap-up\",\n",
    "    \"Non-Key\"\n",
    "])\n",
    "\n",
    "reduce_list = [\n",
    "    #\"Midpoint\",\n",
    "    #\"Disaster\",\n",
    "    #\"Crisis\",\n",
    "    #\"Climax 2\",\n",
    "    \"Climax 3\",\n",
    "    \"Wrap-up\",\n",
    "    \"Non-Key\"\n",
    "]"
   ]
  },
  {
   "cell_type": "code",
   "execution_count": 3,
   "metadata": {
    "ExecuteTime": {
     "end_time": "2020-01-14T09:18:57.882492Z",
     "start_time": "2020-01-14T09:18:57.805674Z"
    }
   },
   "outputs": [],
   "source": [
    "def label_string_to_tuple(y, class_reduce_list=[]):\n",
    "    \"\"\"\n",
    "    Originally, the annotations are in the format of strings.\n",
    "    We need to convert it into tuple format for future operating.\n",
    "    \n",
    "    @input: df_label, a DataFrame format data structure that is read from csv using pd.read_csv()\n",
    "    @output: labels_tuple, a list, each element is a list of tuples: (label, prob)\n",
    "    \"\"\"\n",
    "    \n",
    "    y_tuple = []\n",
    "    \n",
    "    for label in y['Label'].values:\n",
    "        labels = re.findall('\\(([^)]+)', label[1:-1])\n",
    "        label_per_scene = []\n",
    "        prob_nk = 0\n",
    "        for l in labels:\n",
    "            lab = l.split(',')[0][1:-1]\n",
    "            prob = float(l.split(',')[1][1:])\n",
    "            if lab in class_reduce_list:\n",
    "                prob_nk += prob\n",
    "            else:\n",
    "                label_per_scene.append((lab, prob))\n",
    "        if prob_nk != 0:\n",
    "            label_per_scene.append(('Non-Key', prob_nk))\n",
    "        scene_label = np.array(label_per_scene, dtype=object)\n",
    "        y_tuple.append(scene_label)\n",
    "    return np.array(y_tuple)\n",
    "\n",
    "def find_least_multiple(y_tuple):\n",
    "    \"\"\"\n",
    "    \"\"\"\n",
    "    num_annotators = []\n",
    "    \n",
    "    for scene in y_tuple:\n",
    "        for s in scene:\n",
    "            num_annotators.append(Fraction(s[1]).limit_denominator().denominator)\n",
    "#         num_annotators.append(len(scene))\n",
    "    unique = np.unique(num_annotators)\n",
    "    least_multiple = np.lcm.reduce(unique)\n",
    "    print(\"Found least common multiple: \", least_multiple)\n",
    "    \n",
    "    return least_multiple\n",
    "\n",
    "def oversample_label(y_tuple, scale):  \n",
    "    \"\"\"\n",
    "    \"\"\"\n",
    "    oversampled_label = []\n",
    "    for scene in y_tuple:\n",
    "        oversampled_scene_labels = []\n",
    "        for i in range(1, len(scene) + 1):\n",
    "            oversampled_scene_labels += [scene[i-1][0]] * round(scene[i-1][1] * int(scale))\n",
    "        oversampled_label.append(oversampled_scene_labels)\n",
    "        \n",
    "    oversample_label = np.array(oversampled_label)\n",
    "    print(oversample_label.shape)\n",
    "    \n",
    "    y_sampled = []\n",
    "    for i in range(oversample_label.shape[1]):\n",
    "        y_sampled += list(oversample_label[:,i])\n",
    "    \n",
    "    return np.array(y_sampled)\n",
    "\n",
    "def least_multiple_oversample(X, y):\n",
    "    \"\"\"\n",
    "    \"\"\"\n",
    "    oversample_scale = find_least_multiple(y)\n",
    "    \n",
    "    # oversample features\n",
    "    X_sampled = np.tile(X, (oversample_scale, 1))\n",
    "\n",
    "    # oversample labels\n",
    "    y_sampled = oversample_label(y, oversample_scale)\n",
    "    \n",
    "    return X_sampled, y_sampled, oversample_scale\n",
    "\n",
    "def label_to_numbers(y_sampled):\n",
    "    y_number_sampled = []\n",
    "    \n",
    "    for y in y_sampled:\n",
    "        y_number_sampled.append(label_list.index(y) + 1)\n",
    "        \n",
    "    return np.array(y_number_sampled)"
   ]
  },
  {
   "cell_type": "code",
   "execution_count": 4,
   "metadata": {
    "ExecuteTime": {
     "end_time": "2020-01-14T09:18:57.918971Z",
     "start_time": "2020-01-14T09:18:57.893544Z"
    }
   },
   "outputs": [],
   "source": [
    "## First we load the data\n",
    "\n",
    "raw_feature_dir = './data/features/'\n",
    "raw_label_dir = './data/labels/'\n",
    "\n",
    "feature_list = ['id', 'clos_beg_id', 'r_id_loc', 'start_time', 'dur', 'r_t_loc', 'sec', \n",
    "                'clock_drift', 'protagonist_appear', 'ava_charNet_score']\n",
    "\n",
    "def load_data(EP_LIST, \n",
    "              sample=True, \n",
    "              class_reduce=False, \n",
    "              return_tuple=False):\n",
    "    X_column_headers = feature_list\n",
    "    y_column_headers = ['Label']\n",
    "    X = pd.DataFrame(columns=X_column_headers)\n",
    "    y = pd.DataFrame(columns=y_column_headers)\n",
    "    \n",
    "    for ep in EP_LIST:\n",
    "        data_file = raw_feature_dir + ep + '-Scenes.csv'\n",
    "        label_file = raw_label_dir + 'Final_Labels_' + ep + '.csv'\n",
    "        \n",
    "        ep_df = pd.read_csv(data_file, usecols=X_column_headers)\n",
    "        label_df = pd.read_csv(label_file, header=None, usecols=[1] ,names=y_column_headers)\n",
    "        \n",
    "        X = X.append(ep_df, sort=False)\n",
    "        y = pd.concat([y, label_df])\n",
    "    if not class_reduce:\n",
    "        y_tuple = label_string_to_tuple(y)\n",
    "    else:\n",
    "        y_tuple = label_string_to_tuple(y, class_reduce_list=reduce_list)\n",
    "    \n",
    "    if sample:\n",
    "        X_data, y_data, scale = least_multiple_oversample(X.values, y_tuple)\n",
    "        y_data = label_to_numbers(y_data)\n",
    "    else:\n",
    "        pass\n",
    "    \n",
    "    if return_tuple:\n",
    "        return y_tuple\n",
    "    else:\n",
    "        return X_data, y_data, scale\n",
    "\n",
    "def group_generation(X, scale):\n",
    "    scene_id = list(X[:int(len(X)/scale),0])\n",
    "    group_ep = []\n",
    "\n",
    "    num_scenes = []\n",
    "    count = 1\n",
    "    for i in range(len(scene_id)):\n",
    "        if scene_id[i] == 1.0:\n",
    "            num_scenes.append(count)\n",
    "            count = 1\n",
    "        else:\n",
    "            count += 1\n",
    "\n",
    "    num_scenes.remove(1.0)\n",
    "    num_scenes.append(scene_id[-1])\n",
    "\n",
    "    for i in range(1, len(num_scenes) + 1):\n",
    "        group_ep += [i] * int(num_scenes[i-1])\n",
    "    \n",
    "    groups = group_ep * scale\n",
    "    return groups"
   ]
  },
  {
   "cell_type": "markdown",
   "metadata": {},
   "source": [
    "## Data statistics"
   ]
  },
  {
   "cell_type": "code",
   "execution_count": 5,
   "metadata": {
    "ExecuteTime": {
     "end_time": "2020-01-14T09:19:19.506400Z",
     "start_time": "2020-01-14T09:19:19.489637Z"
    }
   },
   "outputs": [],
   "source": [
    "def get_scene_majority(scene_annotations):\n",
    "    if len(scene_annotations) == 1:\n",
    "        label = scene_annotations[0][0]\n",
    "        prob = scene_annotations[0][1]\n",
    "        return label, prob\n",
    "    else:\n",
    "        for annotation in scene_annotations:\n",
    "            label = annotation[0]\n",
    "            prob = annotation[1]\n",
    "            if prob >= 0.5:\n",
    "                return label, prob\n",
    "    return None, None"
   ]
  },
  {
   "cell_type": "code",
   "execution_count": 6,
   "metadata": {
    "ExecuteTime": {
     "end_time": "2020-01-14T09:19:20.704863Z",
     "start_time": "2020-01-14T09:19:20.103598Z"
    }
   },
   "outputs": [
    {
     "name": "stdout",
     "output_type": "stream",
     "text": [
      "Found least common multiple:  60\n",
      "(1569, 60)\n"
     ]
    }
   ],
   "source": [
    "y_tuple = load_data(EP_LIST, return_tuple=True)"
   ]
  },
  {
   "cell_type": "code",
   "execution_count": 7,
   "metadata": {
    "ExecuteTime": {
     "end_time": "2019-12-24T07:25:01.342196Z",
     "start_time": "2019-12-24T07:25:01.328374Z"
    }
   },
   "outputs": [],
   "source": [
    "label_statistic = {\n",
    "    'disagree': 0,\n",
    "    'agree': 0,\n",
    "    'major_nk': 0,\n",
    "    'all_nk': 0,\n",
    "    'major_k': 0,\n",
    "    'all_k': 0\n",
    "}\n",
    "for a in y_tuple:\n",
    "    label, prob = get_scene_majority(a)\n",
    "    if not label:\n",
    "        label_statistic['disagree'] += 1\n",
    "    else:\n",
    "        label_statistic['agree'] += 1\n",
    "        if label == 'Non-Key':\n",
    "            label_statistic['major_nk'] += 1\n",
    "            if prob == 1.0:\n",
    "                label_statistic['all_nk'] += 1\n",
    "        else:\n",
    "            label_statistic['major_k'] += 1\n",
    "            if prob == 1.0:\n",
    "                label_statistic['all_k'] += 1"
   ]
  },
  {
   "cell_type": "code",
   "execution_count": 8,
   "metadata": {
    "ExecuteTime": {
     "end_time": "2019-12-24T07:25:02.360488Z",
     "start_time": "2019-12-24T07:25:02.350758Z"
    }
   },
   "outputs": [
    {
     "data": {
      "text/plain": [
       "{'disagree': 117,\n",
       " 'agree': 1452,\n",
       " 'major_nk': 999,\n",
       " 'all_nk': 625,\n",
       " 'major_k': 453,\n",
       " 'all_k': 92}"
      ]
     },
     "execution_count": 8,
     "metadata": {},
     "output_type": "execute_result"
    }
   ],
   "source": [
    "label_statistic"
   ]
  },
  {
   "cell_type": "code",
   "execution_count": 9,
   "metadata": {
    "ExecuteTime": {
     "end_time": "2019-12-24T07:25:03.561167Z",
     "start_time": "2019-12-24T07:25:03.468287Z"
    }
   },
   "outputs": [],
   "source": [
    "fig, ax = plt.subplots(figsize=(10,10))\n",
    "\n",
    "\n",
    "size = 0.3\n",
    "vals = np.array([[label_statistic['major_nk'], label_statistic['major_k']], \n",
    "                 [label_statistic['disagree'], 0]])\n",
    "\n",
    "cmap = plt.get_cmap(\"tab20c\")\n",
    "outer_colors = cmap(np.arange(2)*4)\n",
    "inner_colors = cmap(np.array([1, 2, 5, 6]))\n",
    "\n",
    "ax.pie(vals.sum(axis=1), radius=1, colors=outer_colors,\n",
    "       wedgeprops=dict(width=size, edgecolor='w'))\n",
    "\n",
    "ax.pie(vals.flatten(), radius=1-size, colors=inner_colors,\n",
    "       wedgeprops=dict(width=size, edgecolor='w'))\n",
    "\n",
    "ax.set(aspect=\"equal\")\n",
    "plt.savefig('Nested Pie charts - agreement.png')\n",
    "plt.close()"
   ]
  },
  {
   "cell_type": "code",
   "execution_count": 10,
   "metadata": {
    "ExecuteTime": {
     "end_time": "2019-12-24T07:25:04.954052Z",
     "start_time": "2019-12-24T07:25:04.387619Z"
    }
   },
   "outputs": [
    {
     "name": "stdout",
     "output_type": "stream",
     "text": [
      "Found least common multiple:  60\n",
      "(1569, 60)\n"
     ]
    }
   ],
   "source": [
    "X, y, scale = load_data(EP_LIST)\n",
    "GROUP_EP=group_generation(X, scale)"
   ]
  },
  {
   "cell_type": "code",
   "execution_count": 11,
   "metadata": {
    "ExecuteTime": {
     "end_time": "2019-12-24T07:25:06.596442Z",
     "start_time": "2019-12-24T07:25:06.024124Z"
    }
   },
   "outputs": [
    {
     "name": "stdout",
     "output_type": "stream",
     "text": [
      "Found least common multiple:  60\n",
      "(1569, 60)\n"
     ]
    }
   ],
   "source": [
    "X_reduced, y_reduced, scale = load_data(EP_LIST, class_reduce=True)"
   ]
  },
  {
   "cell_type": "code",
   "execution_count": 12,
   "metadata": {
    "ExecuteTime": {
     "end_time": "2019-12-24T07:25:07.237822Z",
     "start_time": "2019-12-24T07:25:07.229091Z"
    }
   },
   "outputs": [
    {
     "name": "stdout",
     "output_type": "stream",
     "text": [
      "(94140, 10) (94140,)\n"
     ]
    }
   ],
   "source": [
    "print(X.shape, y.shape)"
   ]
  },
  {
   "cell_type": "code",
   "execution_count": 13,
   "metadata": {
    "ExecuteTime": {
     "end_time": "2019-12-24T07:25:08.015606Z",
     "start_time": "2019-12-24T07:25:07.999829Z"
    }
   },
   "outputs": [],
   "source": [
    "def sampling_restore(X_sampled, y_sampled):\n",
    "    if int(len(X_sampled)/60) != int(len(y_sampled)/60):\n",
    "        print(\"Wrong shape when doing sampling restore!\")\n",
    "    \n",
    "    ep_len = int(len(X_sampled)/60)\n",
    "    X_restore = X_sampled[:ep_len]\n",
    "\n",
    "    y_restore = np.zeros((ep_len, len(label_list)))\n",
    "\n",
    "    for i, label in enumerate(y_sampled):\n",
    "        y_restore[i%ep_len, (label-1)] += 1\n",
    "\n",
    "    y_restore = y_restore/60\n",
    "    \n",
    "    if not reduce_list:\n",
    "        return X_restore, y_restore\n",
    "    else:\n",
    "        reduce_idx = np.array([label_list.index(l) for l in reduce_list if l != 'Non-Key'])\n",
    "        y_restore = np.delete(y_restore, reduce_idx, axis=1)\n",
    "        return X_restore, y_restore\n",
    "\n",
    "def full_label_vector(y):\n",
    "    y_full = np.zeros((y.shape[0], len(label_list)), dtype=np.float32)\n",
    "    for index, new_y in enumerate(y_full):\n",
    "        for annotation in y[index]:\n",
    "            label, prob = annotation[0], annotation[1]\n",
    "            new_y[label_list.index(label)] = prob  \n",
    "    return y_full"
   ]
  },
  {
   "cell_type": "code",
   "execution_count": 14,
   "metadata": {
    "ExecuteTime": {
     "end_time": "2019-12-24T07:25:09.036357Z",
     "start_time": "2019-12-24T07:25:09.028413Z"
    }
   },
   "outputs": [],
   "source": [
    "def compute_kl_divergence(pk, qk):\n",
    "    '''\n",
    "    pk: true distribution\n",
    "    qk: predicted distribution\n",
    "    '''\n",
    "    return entropy(pk, qk)\n",
    "\n",
    "def compute_cosine_similarity(pk, qk):\n",
    "    return np.inner(pk, qk)/(norm(pk) * norm(qk))"
   ]
  },
  {
   "cell_type": "code",
   "execution_count": 15,
   "metadata": {
    "ExecuteTime": {
     "end_time": "2019-12-24T07:25:09.705581Z",
     "start_time": "2019-12-24T07:25:09.699477Z"
    }
   },
   "outputs": [],
   "source": [
    "the_model = None\n",
    "model_label_similarity = {'Logistic': [],\n",
    "                          'XGBoost': [],\n",
    "                          'XGBoost_basic': [],\n",
    "                          'XGBoost_Label_reduce': []\n",
    "                         }\n",
    "\n",
    "model_kl_divergence = {'Logistic': [],\n",
    "                       'XGBoost': [],\n",
    "                       'XGBoost_basic': [],\n",
    "                       'XGBoost_Label_reduce': []\n",
    "                      }"
   ]
  },
  {
   "cell_type": "code",
   "execution_count": 16,
   "metadata": {
    "ExecuteTime": {
     "end_time": "2019-12-24T07:25:11.431547Z",
     "start_time": "2019-12-24T07:25:11.424421Z"
    }
   },
   "outputs": [],
   "source": [
    "model_label_similarity_back = model_label_similarity\n",
    "model_kl_divergence_back = model_kl_divergence"
   ]
  },
  {
   "cell_type": "code",
   "execution_count": 17,
   "metadata": {
    "ExecuteTime": {
     "end_time": "2019-12-24T07:25:11.951330Z",
     "start_time": "2019-12-24T07:25:11.943242Z"
    }
   },
   "outputs": [],
   "source": [
    "model_label_similarity = model_label_similarity_back\n",
    "model_kl_divergence = model_kl_divergence_back"
   ]
  },
  {
   "cell_type": "code",
   "execution_count": 18,
   "metadata": {
    "ExecuteTime": {
     "end_time": "2019-12-24T07:25:16.191599Z",
     "start_time": "2019-12-24T07:25:16.170336Z"
    }
   },
   "outputs": [],
   "source": [
    "## Implementation of our customized score function\n",
    "## It measure the similarity between predict class probability vectors and the true class distribution\n",
    "def similarity_scoring(model, X, y):\n",
    "    X_restore, y_restore = sampling_restore(X, y)\n",
    "    y_predict_proba = model.predict_proba(X_restore)\n",
    "    \n",
    "    if the_model not in model_label_similarity:\n",
    "        model_label_similarity[the_model] = []\n",
    "    \n",
    "    similarity = np.zeros(y_restore.shape[0])\n",
    "    if y_restore.shape == y_predict_proba.shape:\n",
    "        for i in range(y_restore.shape[0]):\n",
    "            similarity[i] = compute_cosine_similarity(y_restore[i], y_predict_proba[i])\n",
    "    else:\n",
    "        print(\"Wrong shape when calculating similarity!\")\n",
    "        print(\"Predicted shape: \", y_predict_proba.shape)\n",
    "        print(\"Restored shape: \", y_restore.shape)\n",
    "    \n",
    "    label_similarity = np.zeros((y_restore.shape[1]))\n",
    "    for i in range(y_restore.shape[1]):\n",
    "        label_similarity[i] = compute_cosine_similarity(y_restore[:, i], y_predict_proba[:, i])\n",
    "    \n",
    "    model_label_similarity[the_model].append(label_similarity)\n",
    "    \n",
    "    return np.average(similarity)\n",
    "\n",
    "def kl_divergence_scoring(model, X, y):\n",
    "    X_restore, y_restore = sampling_restore(X, y)\n",
    "    y_predict_proba = model.predict_proba(X_restore)\n",
    "    \n",
    "    if the_model not in model_kl_divergence:\n",
    "        model_kl_divergence[the_model] = []\n",
    "    \n",
    "    kl_divergence = np.zeros(y_restore.shape[0])\n",
    "    if y_restore.shape == y_predict_proba.shape:\n",
    "        for i in range(y_restore.shape[0]):\n",
    "            #Negative KL divergence because we need the score to be the higher the better.\n",
    "            kl_divergence[i] = -compute_kl_divergence(y_restore[i], y_predict_proba[i])\n",
    "    else:\n",
    "        print(\"Wrong shape when calculating kl divergence!\")\n",
    "    \n",
    "    label_kl_divergence = np.zeros((y_restore.shape[1]))\n",
    "    for i in range(y_restore.shape[1]):\n",
    "        label_kl_divergence[i] = compute_kl_divergence(y_restore[:, i], y_predict_proba[:, i])\n",
    "        \n",
    "\n",
    "    model_kl_divergence[the_model].append(label_kl_divergence)\n",
    "    \n",
    "    return np.average(kl_divergence)"
   ]
  },
  {
   "cell_type": "code",
   "execution_count": 14,
   "metadata": {
    "ExecuteTime": {
     "end_time": "2019-09-03T13:44:36.446701Z",
     "start_time": "2019-09-03T13:42:20.896925Z"
    },
    "collapsed": true
   },
   "outputs": [
    {
     "name": "stderr",
     "output_type": "stream",
     "text": [
      "[Parallel(n_jobs=1)]: Using backend SequentialBackend with 1 concurrent workers.\n"
     ]
    },
    {
     "name": "stdout",
     "output_type": "stream",
     "text": [
      "[CV]  ................................................................\n",
      "[CV]  , Similarity=0.6660685090031891, KL_divergence=-1.092939051113129, total=   2.2s\n",
      "[CV]  ................................................................\n"
     ]
    },
    {
     "name": "stderr",
     "output_type": "stream",
     "text": [
      "[Parallel(n_jobs=1)]: Done   1 out of   1 | elapsed:    2.2s remaining:    0.0s\n"
     ]
    },
    {
     "name": "stdout",
     "output_type": "stream",
     "text": [
      "[CV]  , Similarity=0.7383103204931627, KL_divergence=-0.9706021390827728, total=   1.8s\n",
      "[CV]  ................................................................\n"
     ]
    },
    {
     "name": "stderr",
     "output_type": "stream",
     "text": [
      "[Parallel(n_jobs=1)]: Done   2 out of   2 | elapsed:    4.0s remaining:    0.0s\n"
     ]
    },
    {
     "name": "stdout",
     "output_type": "stream",
     "text": [
      "[CV]  , Similarity=0.5115459113017179, KL_divergence=-1.7026951786197824, total=   1.9s\n",
      "[CV]  ................................................................\n",
      "[CV]  , Similarity=0.7054811813809923, KL_divergence=-1.1267536871390493, total=   2.1s\n",
      "[CV]  ................................................................\n",
      "[CV]  , Similarity=0.5677265765584614, KL_divergence=-1.391448733300194, total=   1.7s\n",
      "[CV]  ................................................................\n"
     ]
    },
    {
     "name": "stderr",
     "output_type": "stream",
     "text": [
      "/Users/liu/anaconda3/lib/python3.7/site-packages/ipykernel_launcher.py:9: RuntimeWarning: invalid value encountered in double_scalars\n",
      "  if __name__ == '__main__':\n",
      "/Users/liu/anaconda3/lib/python3.7/site-packages/scipy/stats/_distn_infrastructure.py:2507: RuntimeWarning: invalid value encountered in true_divide\n",
      "  pk = 1.0*pk / np.sum(pk, axis=0)\n"
     ]
    },
    {
     "name": "stdout",
     "output_type": "stream",
     "text": [
      "[CV]  , Similarity=0.8252107284494249, KL_divergence=-0.8196588192156101, total=   1.8s\n",
      "[CV]  ................................................................\n",
      "[CV]  , Similarity=0.5847847265662565, KL_divergence=-1.1678673532378072, total=   1.7s\n",
      "[CV]  ................................................................\n",
      "[CV]  , Similarity=0.7647450616564166, KL_divergence=-0.88895202810827, total=   2.3s\n",
      "[CV]  ................................................................\n",
      "[CV]  , Similarity=0.7171548569610094, KL_divergence=-1.0200658420777384, total=   2.7s\n",
      "[CV]  ................................................................\n",
      "[CV]  , Similarity=0.7813837495827097, KL_divergence=-0.8975484320434748, total=   1.7s\n",
      "[CV]  ................................................................\n",
      "[CV]  , Similarity=0.8541739322284887, KL_divergence=-0.726595493224175, total=   1.7s\n",
      "[CV]  ................................................................\n",
      "[CV]  , Similarity=0.5755550783127922, KL_divergence=-1.3548804873277527, total=   1.9s\n",
      "[CV]  ................................................................\n",
      "[CV]  , Similarity=0.7154802898916226, KL_divergence=-1.0233812373172395, total=   2.0s\n",
      "[CV]  ................................................................\n",
      "[CV]  , Similarity=0.6446282881674548, KL_divergence=-1.2088245678578484, total=   1.7s\n",
      "[CV]  ................................................................\n",
      "[CV]  , Similarity=0.5067513705879746, KL_divergence=-1.387570318272171, total=   1.6s\n",
      "[CV]  ................................................................\n",
      "[CV]  , Similarity=0.8290235763399438, KL_divergence=-0.8124038496967396, total=   1.8s\n",
      "[CV]  ................................................................\n",
      "[CV]  , Similarity=0.7425031936864342, KL_divergence=-0.9847658877453699, total=   1.6s\n",
      "[CV]  ................................................................\n",
      "[CV]  , Similarity=0.7742197068196506, KL_divergence=-0.836708065752409, total=   1.7s\n",
      "[CV]  ................................................................\n",
      "[CV]  , Similarity=0.4732586658765586, KL_divergence=-1.6496494044991594, total=   1.7s\n",
      "[CV]  ................................................................\n",
      "[CV]  , Similarity=0.7210500617502374, KL_divergence=-0.857552662939595, total=   1.5s\n",
      "[CV]  ................................................................\n",
      "[CV]  , Similarity=0.8229351565119235, KL_divergence=-0.7735226259092294, total=   1.6s\n",
      "[CV]  ................................................................\n",
      "[CV]  , Similarity=0.6732557140235587, KL_divergence=-1.207206341918572, total=   2.1s\n",
      "[CV]  ................................................................\n",
      "[CV]  , Similarity=0.6926294859294404, KL_divergence=-1.0946226387763434, total=   1.6s\n",
      "[CV]  ................................................................\n",
      "[CV]  , Similarity=0.8195960008075713, KL_divergence=-0.8209411756553008, total=   1.4s\n",
      "[CV]  ................................................................\n",
      "[CV]  , Similarity=0.5477492044897168, KL_divergence=-1.5599246584018494, total=   1.6s\n",
      "[CV]  ................................................................\n"
     ]
    },
    {
     "name": "stderr",
     "output_type": "stream",
     "text": [
      "/Users/liu/anaconda3/lib/python3.7/site-packages/ipykernel_launcher.py:9: RuntimeWarning: invalid value encountered in double_scalars\n",
      "  if __name__ == '__main__':\n",
      "/Users/liu/anaconda3/lib/python3.7/site-packages/scipy/stats/_distn_infrastructure.py:2507: RuntimeWarning: invalid value encountered in true_divide\n",
      "  pk = 1.0*pk / np.sum(pk, axis=0)\n"
     ]
    },
    {
     "name": "stdout",
     "output_type": "stream",
     "text": [
      "[CV]  , Similarity=0.7118904952153989, KL_divergence=-1.0163294971613568, total=   1.5s\n",
      "[CV]  ................................................................\n",
      "[CV]  , Similarity=0.6788340945315302, KL_divergence=-1.1645867158031193, total=   1.5s\n",
      "[CV]  ................................................................\n",
      "[CV]  , Similarity=0.8475222605964952, KL_divergence=-0.7603226869047925, total=   1.6s\n",
      "[CV]  ................................................................\n",
      "[CV]  , Similarity=0.708303613348997, KL_divergence=-1.1424017438488796, total=   1.6s\n",
      "[CV]  ................................................................\n",
      "[CV]  , Similarity=0.83835812238506, KL_divergence=-0.7917152269539781, total=   1.5s\n",
      "[CV]  ................................................................\n",
      "[CV]  , Similarity=0.7543911065492438, KL_divergence=-0.9478553025400105, total=   1.7s\n",
      "[CV]  ................................................................\n",
      "[CV]  , Similarity=0.8487610643813763, KL_divergence=-0.7605923118192296, total=   1.6s\n",
      "[CV]  ................................................................\n",
      "[CV]  , Similarity=0.6896918619914018, KL_divergence=-1.075970911634821, total=   1.5s\n",
      "[CV]  ................................................................\n",
      "[CV]  , Similarity=0.745582308339552, KL_divergence=-1.1038483145227924, total=   1.8s\n",
      "[CV]  ................................................................\n",
      "[CV]  , Similarity=0.7549662063079728, KL_divergence=-0.9528660581070627, total=   1.8s\n",
      "[CV]  ................................................................\n",
      "[CV]  , Similarity=0.6455927410602528, KL_divergence=-1.123862647895115, total=   1.8s\n",
      "[CV]  ................................................................\n",
      "[CV]  , Similarity=0.8148403132071089, KL_divergence=-0.8383468810785196, total=   1.9s\n",
      "[CV]  ................................................................\n",
      "[CV]  , Similarity=0.667900886155069, KL_divergence=-1.224818311216754, total=   1.7s\n",
      "[CV]  ................................................................\n",
      "[CV]  , Similarity=0.7733627293206999, KL_divergence=-0.8896896089219242, total=   1.6s\n",
      "[CV]  ................................................................\n",
      "[CV]  , Similarity=0.8428956676064178, KL_divergence=-0.7458987169480329, total=   1.7s\n",
      "[CV]  ................................................................\n",
      "[CV]  , Similarity=0.8198209858141452, KL_divergence=-0.8265781270853055, total=   1.9s\n",
      "[CV]  ................................................................\n",
      "[CV]  , Similarity=0.7179639771994483, KL_divergence=-0.9644530565755653, total=   2.2s\n",
      "[CV]  ................................................................\n",
      "[CV]  , Similarity=0.661921978355364, KL_divergence=-1.200634752131278, total=   1.8s\n",
      "[CV]  ................................................................\n",
      "[CV]  , Similarity=0.608349210698215, KL_divergence=-1.2820881104021866, total=   2.3s\n",
      "[CV]  ................................................................\n",
      "[CV]  , Similarity=0.7409765784136122, KL_divergence=-1.0104660424748402, total=   1.9s\n",
      "[CV]  ................................................................\n",
      "[CV]  , Similarity=0.5151515748136934, KL_divergence=-1.5374574605039975, total=   2.0s\n",
      "[CV]  ................................................................\n",
      "[CV]  , Similarity=0.8774100850082582, KL_divergence=-0.7100619161188553, total=   1.8s\n",
      "[CV]  ................................................................\n",
      "[CV]  , Similarity=0.7081042263990919, KL_divergence=-1.1367981301056518, total=   1.8s\n",
      "[CV]  ................................................................\n"
     ]
    },
    {
     "name": "stderr",
     "output_type": "stream",
     "text": [
      "/Users/liu/anaconda3/lib/python3.7/site-packages/ipykernel_launcher.py:9: RuntimeWarning: invalid value encountered in double_scalars\n",
      "  if __name__ == '__main__':\n",
      "/Users/liu/anaconda3/lib/python3.7/site-packages/scipy/stats/_distn_infrastructure.py:2507: RuntimeWarning: invalid value encountered in true_divide\n",
      "  pk = 1.0*pk / np.sum(pk, axis=0)\n"
     ]
    },
    {
     "name": "stdout",
     "output_type": "stream",
     "text": [
      "[CV]  , Similarity=0.7890042805898513, KL_divergence=-0.9310379178463694, total=   1.7s\n",
      "[CV]  ................................................................\n",
      "[CV]  , Similarity=0.7185178281337847, KL_divergence=-1.0778455587706122, total=   1.7s\n",
      "[CV]  ................................................................\n",
      "[CV]  , Similarity=0.7984422116404236, KL_divergence=-0.8352302182101441, total=   2.0s\n",
      "[CV]  ................................................................\n",
      "[CV]  , Similarity=0.6214696294798593, KL_divergence=-1.1609085358312752, total=   2.2s\n",
      "[CV]  ................................................................\n",
      "[CV]  , Similarity=0.6800534633570522, KL_divergence=-1.1911666922972304, total=   2.2s\n",
      "[CV]  ................................................................\n",
      "[CV]  , Similarity=0.8076833080934599, KL_divergence=-0.8622572223060659, total=   1.7s\n",
      "[CV]  ................................................................\n",
      "[CV]  , Similarity=0.8046800120038082, KL_divergence=-0.8668204417218561, total=   2.0s\n",
      "[CV]  ................................................................\n",
      "[CV]  , Similarity=0.8466389415945761, KL_divergence=-0.7482325667388088, total=   1.7s\n",
      "[CV]  ................................................................\n",
      "[CV]  , Similarity=0.5810138386506508, KL_divergence=-1.403493552118145, total=   1.7s\n",
      "[CV]  ................................................................\n",
      "[CV]  , Similarity=0.6354151451629881, KL_divergence=-1.2319124440821612, total=   2.0s\n",
      "[CV]  ................................................................\n",
      "[CV]  , Similarity=0.7778877376534614, KL_divergence=-0.954911725321898, total=   1.8s\n",
      "[CV]  ................................................................\n",
      "[CV]  , Similarity=0.7817695467119158, KL_divergence=-0.895996330973164, total=   2.1s\n"
     ]
    },
    {
     "name": "stderr",
     "output_type": "stream",
     "text": [
      "[Parallel(n_jobs=1)]: Done  60 out of  60 | elapsed:  1.8min finished\n"
     ]
    }
   ],
   "source": [
    "# Logistic Regression Baseline\n",
    "X_normed = normalize(X, axis=0)\n",
    "\n",
    "logo = LeaveOneGroupOut()\n",
    "split = logo.split(X_normed, y, GROUP_EP)\n",
    "scoring = {'Similarity': similarity_scoring,\n",
    "           'KL_divergence': kl_divergence_scoring}\n",
    "\n",
    "model = LogisticRegression(solver='lbfgs', multi_class='multinomial')\n",
    "\n",
    "the_model = 'Logistic'\n",
    "\n",
    "logistic_baseline = cross_validate(model, X_normed, y, cv=split, \n",
    "                                    scoring=scoring, \n",
    "                                    return_train_score=False, return_estimator=True, verbose=3)\n"
   ]
  },
  {
   "cell_type": "code",
   "execution_count": 27,
   "metadata": {
    "ExecuteTime": {
     "end_time": "2019-12-24T09:22:58.493064Z",
     "start_time": "2019-12-24T09:22:57.589081Z"
    }
   },
   "outputs": [
    {
     "ename": "NameError",
     "evalue": "name 'logistic_baseline' is not defined",
     "output_type": "error",
     "traceback": [
      "\u001b[0;31m---------------------------------------------------------------------------\u001b[0m",
      "\u001b[0;31mNameError\u001b[0m                                 Traceback (most recent call last)",
      "\u001b[0;32m<ipython-input-27-a5e7f0489d24>\u001b[0m in \u001b[0;36m<module>\u001b[0;34m\u001b[0m\n\u001b[1;32m      1\u001b[0m print('Logistic_regression similarity: ava. %.3f, std. %.3f' % \n\u001b[0;32m----> 2\u001b[0;31m       (np.average(logistic_baseline['test_Similarity']), sem(logistic_baseline['test_Similarity'])))\n\u001b[0m\u001b[1;32m      3\u001b[0m \u001b[0;34m\u001b[0m\u001b[0m\n\u001b[1;32m      4\u001b[0m print('Logistic_regression kl_divergence: ava. %.3f, std. %.3f' % \n\u001b[1;32m      5\u001b[0m       (np.average(-logistic_baseline['test_KL_divergence']), sem(-logistic_baseline['test_KL_divergence'])))\n",
      "\u001b[0;31mNameError\u001b[0m: name 'logistic_baseline' is not defined"
     ]
    }
   ],
   "source": [
    "print('Logistic_regression similarity: ava. %.3f, std. %.3f' % \n",
    "      (np.average(logistic_baseline['test_Similarity']), sem(logistic_baseline['test_Similarity'])))\n",
    "\n",
    "print('Logistic_regression kl_divergence: ava. %.3f, std. %.3f' % \n",
    "      (np.average(-logistic_baseline['test_KL_divergence']), sem(-logistic_baseline['test_KL_divergence'])))"
   ]
  },
  {
   "cell_type": "code",
   "execution_count": 16,
   "metadata": {
    "ExecuteTime": {
     "end_time": "2019-09-03T13:45:02.075686Z",
     "start_time": "2019-09-03T13:45:02.062031Z"
    }
   },
   "outputs": [
    {
     "data": {
      "text/plain": [
       "array([60, 60, 60, 60, 59, 58, 60, 60, 59, 60])"
      ]
     },
     "execution_count": 16,
     "metadata": {},
     "output_type": "execute_result"
    }
   ],
   "source": [
    "np.count_nonzero(~np.isnan(model_label_similarity['Logistic']), axis=0)"
   ]
  },
  {
   "cell_type": "code",
   "execution_count": 17,
   "metadata": {
    "ExecuteTime": {
     "end_time": "2019-09-03T13:45:02.628064Z",
     "start_time": "2019-09-03T13:45:02.611315Z"
    }
   },
   "outputs": [
    {
     "data": {
      "text/plain": [
       "array([60, 60, 60, 60, 59, 58, 60, 60, 59, 60])"
      ]
     },
     "execution_count": 17,
     "metadata": {},
     "output_type": "execute_result"
    }
   ],
   "source": [
    "np.count_nonzero(~np.isnan(model_kl_divergence['Logistic']), axis=0)"
   ]
  },
  {
   "cell_type": "code",
   "execution_count": 18,
   "metadata": {
    "ExecuteTime": {
     "end_time": "2019-09-03T13:45:03.160934Z",
     "start_time": "2019-09-03T13:45:03.147562Z"
    }
   },
   "outputs": [
    {
     "name": "stdout",
     "output_type": "stream",
     "text": [
      "Label similarity, logistic_regression:\n",
      "[0.39681255 0.30731824 0.43604488 0.31855511 0.29038782 0.27896306\n",
      " 0.34265871 0.28815421 0.24543012 0.8522055 ]\n",
      "[0.0103945552203636 0.010760821066093789 0.011048450063420564\n",
      " 0.01045791082063875 0.011179893658396783 0.010030956839975213\n",
      " 0.010397671834218756 0.009022410356482902 0.005538135756269406\n",
      " 0.007970536693395938]\n"
     ]
    }
   ],
   "source": [
    "print('Label similarity, logistic_regression:')\n",
    "print(np.nanmean(model_label_similarity['Logistic'], axis=0))\n",
    "print(sem(model_label_similarity['Logistic'], axis=0, nan_policy='omit'))"
   ]
  },
  {
   "cell_type": "code",
   "execution_count": 19,
   "metadata": {
    "ExecuteTime": {
     "end_time": "2019-09-03T13:45:03.763006Z",
     "start_time": "2019-09-03T13:45:03.744750Z"
    }
   },
   "outputs": [
    {
     "name": "stdout",
     "output_type": "stream",
     "text": [
      "Label kl_divergence, logistic_regression:\n",
      "[1.94221775 2.45344329 1.64057095 2.33842889 2.58801494 2.65900122\n",
      " 2.24461334 2.62540847 2.94150719 0.28739579]\n",
      "[0.06040955106577388 0.06897400493097892 0.05430068546893383\n",
      " 0.06383541765513992 0.07181458102070792 0.06769048860374526\n",
      " 0.05890117881374444 0.062310744444273494 0.04863056666285239\n",
      " 0.018756049387736236]\n"
     ]
    }
   ],
   "source": [
    "print('Label kl_divergence, logistic_regression:')\n",
    "print(np.nanmean(model_kl_divergence['Logistic'], axis=0))\n",
    "print(sem(model_kl_divergence['Logistic'], axis=0, nan_policy='omit'))"
   ]
  },
  {
   "cell_type": "code",
   "execution_count": 19,
   "metadata": {
    "ExecuteTime": {
     "end_time": "2019-12-24T08:07:03.392368Z",
     "start_time": "2019-12-24T07:25:23.683671Z"
    },
    "collapsed": true
   },
   "outputs": [
    {
     "name": "stderr",
     "output_type": "stream",
     "text": [
      "[Parallel(n_jobs=1)]: Using backend SequentialBackend with 1 concurrent workers.\n"
     ]
    },
    {
     "name": "stdout",
     "output_type": "stream",
     "text": [
      "[CV]  ................................................................\n",
      "[CV]  , Similarity=0.7138235077064666, KL_divergence=-0.8266503486031361, total=  36.3s\n",
      "[CV]  ................................................................\n"
     ]
    },
    {
     "name": "stderr",
     "output_type": "stream",
     "text": [
      "[Parallel(n_jobs=1)]: Done   1 out of   1 | elapsed:   36.3s remaining:    0.0s\n"
     ]
    },
    {
     "name": "stdout",
     "output_type": "stream",
     "text": [
      "[CV]  , Similarity=0.8347373439604795, KL_divergence=-0.5791631022901615, total=  53.1s\n",
      "[CV]  ................................................................\n"
     ]
    },
    {
     "name": "stderr",
     "output_type": "stream",
     "text": [
      "[Parallel(n_jobs=1)]: Done   2 out of   2 | elapsed:  1.5min remaining:    0.0s\n"
     ]
    },
    {
     "name": "stdout",
     "output_type": "stream",
     "text": [
      "[CV]  , Similarity=0.5582646803510749, KL_divergence=-1.2882277483229942, total=  48.8s\n",
      "[CV]  ................................................................\n",
      "[CV]  , Similarity=0.8710291069359856, KL_divergence=-0.473607633104652, total=  43.5s\n",
      "[CV]  ................................................................\n",
      "[CV]  , Similarity=0.6788926662626152, KL_divergence=-0.8856643628598718, total=  39.9s\n",
      "[CV]  ................................................................\n"
     ]
    },
    {
     "name": "stderr",
     "output_type": "stream",
     "text": [
      "/Users/liu/anaconda3/lib/python3.7/site-packages/ipykernel_launcher.py:9: RuntimeWarning: invalid value encountered in double_scalars\n",
      "  if __name__ == '__main__':\n",
      "/Users/liu/anaconda3/lib/python3.7/site-packages/scipy/stats/_distn_infrastructure.py:2507: RuntimeWarning: invalid value encountered in true_divide\n",
      "  pk = 1.0*pk / np.sum(pk, axis=0)\n"
     ]
    },
    {
     "name": "stdout",
     "output_type": "stream",
     "text": [
      "[CV]  , Similarity=0.8426353334098902, KL_divergence=-0.6170708086526898, total=  37.4s\n",
      "[CV]  ................................................................\n",
      "[CV]  , Similarity=0.8299916765428741, KL_divergence=-0.4513674806412177, total=  38.6s\n",
      "[CV]  ................................................................\n",
      "[CV]  , Similarity=0.861756959794493, KL_divergence=-0.5040028250877037, total=  33.6s\n",
      "[CV]  ................................................................\n",
      "[CV]  , Similarity=0.7231543638962197, KL_divergence=-0.9399389536012497, total=  30.8s\n",
      "[CV]  ................................................................\n",
      "[CV]  , Similarity=0.8448083141191094, KL_divergence=-0.5996083556423979, total=  36.3s\n",
      "[CV]  ................................................................\n",
      "[CV]  , Similarity=0.8842914223432471, KL_divergence=-0.5426226286519642, total=  33.4s\n",
      "[CV]  ................................................................\n",
      "[CV]  , Similarity=0.7044173467346267, KL_divergence=-0.8353493038286661, total=  32.0s\n",
      "[CV]  ................................................................\n",
      "[CV]  , Similarity=0.8492081765321486, KL_divergence=-0.5044214727440861, total=  49.2s\n",
      "[CV]  ................................................................\n",
      "[CV]  , Similarity=0.7995627968205115, KL_divergence=-0.6620309660801892, total=  53.8s\n",
      "[CV]  ................................................................\n",
      "[CV]  , Similarity=0.7673411928043451, KL_divergence=-0.6927820205317852, total= 1.0min\n",
      "[CV]  ................................................................\n",
      "[CV]  , Similarity=0.8866162213143645, KL_divergence=-0.5223713602083133, total=  51.3s\n",
      "[CV]  ................................................................\n",
      "[CV]  , Similarity=0.7549892596469938, KL_divergence=-0.8434154681683973, total=  55.5s\n",
      "[CV]  ................................................................\n",
      "[CV]  , Similarity=0.8462302883376237, KL_divergence=-0.5039318326444991, total=  53.7s\n",
      "[CV]  ................................................................\n",
      "[CV]  , Similarity=0.7538545067975256, KL_divergence=-0.7455147298726349, total=  49.4s\n",
      "[CV]  ................................................................\n",
      "[CV]  , Similarity=0.8563367506980806, KL_divergence=-0.5136276905932277, total=  48.6s\n",
      "[CV]  ................................................................\n",
      "[CV]  , Similarity=0.840955656644161, KL_divergence=-0.5195369100844675, total=  57.7s\n",
      "[CV]  ................................................................\n",
      "[CV]  , Similarity=0.7943956805407771, KL_divergence=-0.6229781456988254, total=  42.9s\n",
      "[CV]  ................................................................\n",
      "[CV]  , Similarity=0.7800363290426815, KL_divergence=-0.7569192935226098, total=  46.9s\n",
      "[CV]  ................................................................\n",
      "[CV]  , Similarity=0.8349770393814969, KL_divergence=-0.6897125044559159, total=  41.7s\n",
      "[CV]  ................................................................\n",
      "[CV]  , Similarity=0.6538694084841202, KL_divergence=-1.1884857070429204, total=  45.3s\n",
      "[CV]  ................................................................\n"
     ]
    },
    {
     "name": "stderr",
     "output_type": "stream",
     "text": [
      "/Users/liu/anaconda3/lib/python3.7/site-packages/ipykernel_launcher.py:9: RuntimeWarning: invalid value encountered in double_scalars\n",
      "  if __name__ == '__main__':\n",
      "/Users/liu/anaconda3/lib/python3.7/site-packages/scipy/stats/_distn_infrastructure.py:2507: RuntimeWarning: invalid value encountered in true_divide\n",
      "  pk = 1.0*pk / np.sum(pk, axis=0)\n"
     ]
    },
    {
     "name": "stdout",
     "output_type": "stream",
     "text": [
      "[CV]  , Similarity=0.863446012441509, KL_divergence=-0.5203623493826635, total=  42.1s\n",
      "[CV]  ................................................................\n",
      "[CV]  , Similarity=0.8220106740704014, KL_divergence=-0.5657981785213458, total=  47.2s\n",
      "[CV]  ................................................................\n",
      "[CV]  , Similarity=0.9106003916235101, KL_divergence=-0.41862385068717956, total=  46.3s\n",
      "[CV]  ................................................................\n",
      "[CV]  , Similarity=0.7862493784895487, KL_divergence=-0.8413737988831768, total=  42.4s\n",
      "[CV]  ................................................................\n",
      "[CV]  , Similarity=0.8833218930193876, KL_divergence=-0.5008526220978784, total=  47.5s\n",
      "[CV]  ................................................................\n",
      "[CV]  , Similarity=0.840440208549801, KL_divergence=-0.6473798683894173, total=  40.8s\n",
      "[CV]  ................................................................\n",
      "[CV]  , Similarity=0.8901235424559325, KL_divergence=-0.5000939179691928, total= 1.0min\n",
      "[CV]  ................................................................\n",
      "[CV]  , Similarity=0.8476484923304071, KL_divergence=-0.6109635440870472, total=  43.9s\n",
      "[CV]  ................................................................\n",
      "[CV]  , Similarity=0.8611304530641679, KL_divergence=-0.5770627378258941, total=  39.2s\n",
      "[CV]  ................................................................\n",
      "[CV]  , Similarity=0.8235911847320994, KL_divergence=-0.5774561189117525, total=  39.6s\n",
      "[CV]  ................................................................\n",
      "[CV]  , Similarity=0.7786219604936533, KL_divergence=-0.6863090463464401, total=  39.4s\n",
      "[CV]  ................................................................\n",
      "[CV]  , Similarity=0.872602190133645, KL_divergence=-0.5566917097675022, total=  38.0s\n",
      "[CV]  ................................................................\n",
      "[CV]  , Similarity=0.77919361153508, KL_divergence=-0.7895095189683394, total=  40.6s\n",
      "[CV]  ................................................................\n",
      "[CV]  , Similarity=0.8147936546817035, KL_divergence=-0.6568812507878686, total=  39.1s\n",
      "[CV]  ................................................................\n",
      "[CV]  , Similarity=0.8766089536110746, KL_divergence=-0.4781445098332876, total=  42.1s\n",
      "[CV]  ................................................................\n",
      "[CV]  , Similarity=0.9201829882975238, KL_divergence=-0.39554678241339986, total=  37.5s\n",
      "[CV]  ................................................................\n",
      "[CV]  , Similarity=0.7604684205773482, KL_divergence=-0.797248231515462, total=  37.6s\n",
      "[CV]  ................................................................\n",
      "[CV]  , Similarity=0.7801597611173536, KL_divergence=-0.6338205621354177, total=  40.0s\n",
      "[CV]  ................................................................\n",
      "[CV]  , Similarity=0.6978586255485267, KL_divergence=-0.933820257330375, total=  40.7s\n",
      "[CV]  ................................................................\n",
      "[CV]  , Similarity=0.796207231502515, KL_divergence=-0.6663603729571661, total=  41.3s\n",
      "[CV]  ................................................................\n",
      "[CV]  , Similarity=0.7976550157170852, KL_divergence=-0.7310121471335761, total=  37.7s\n",
      "[CV]  ................................................................\n",
      "[CV]  , Similarity=0.8796996186054035, KL_divergence=-0.6290149664791018, total=  32.4s\n",
      "[CV]  ................................................................\n",
      "[CV]  , Similarity=0.8115780868485984, KL_divergence=-0.6493659580782065, total=  27.9s\n",
      "[CV]  ................................................................\n"
     ]
    },
    {
     "name": "stderr",
     "output_type": "stream",
     "text": [
      "/Users/liu/anaconda3/lib/python3.7/site-packages/ipykernel_launcher.py:9: RuntimeWarning: invalid value encountered in double_scalars\n",
      "  if __name__ == '__main__':\n",
      "/Users/liu/anaconda3/lib/python3.7/site-packages/scipy/stats/_distn_infrastructure.py:2507: RuntimeWarning: invalid value encountered in true_divide\n",
      "  pk = 1.0*pk / np.sum(pk, axis=0)\n"
     ]
    },
    {
     "name": "stdout",
     "output_type": "stream",
     "text": [
      "[CV]  , Similarity=0.7864102819780159, KL_divergence=-0.6987579926630494, total=  33.0s\n",
      "[CV]  ................................................................\n",
      "[CV]  , Similarity=0.8205054388348016, KL_divergence=-0.5560934007364238, total=  32.5s\n",
      "[CV]  ................................................................\n",
      "[CV]  , Similarity=0.8739461352224681, KL_divergence=-0.48353284211117076, total=  45.6s\n",
      "[CV]  ................................................................\n",
      "[CV]  , Similarity=0.7777404058466835, KL_divergence=-0.6459200902639791, total=  41.7s\n",
      "[CV]  ................................................................\n",
      "[CV]  , Similarity=0.7272870480206556, KL_divergence=-0.8419145398953677, total=  34.7s\n",
      "[CV]  ................................................................\n",
      "[CV]  , Similarity=0.8217846239419468, KL_divergence=-0.7524384295379198, total=  34.2s\n",
      "[CV]  ................................................................\n",
      "[CV]  , Similarity=0.842227397091243, KL_divergence=-0.5899849529497969, total=  31.6s\n",
      "[CV]  ................................................................\n",
      "[CV]  , Similarity=0.8566605911228308, KL_divergence=-0.5516790584331829, total=  37.1s\n",
      "[CV]  ................................................................\n",
      "[CV]  , Similarity=0.701413512604872, KL_divergence=-1.0739435675557931, total=  28.8s\n",
      "[CV]  ................................................................\n",
      "[CV]  , Similarity=0.7374572678145789, KL_divergence=-0.7757082862654686, total=  30.5s\n",
      "[CV]  ................................................................\n",
      "[CV]  , Similarity=0.7784359773653373, KL_divergence=-0.7658467228948332, total=  40.5s\n",
      "[CV]  ................................................................\n",
      "[CV]  , Similarity=0.7829792216599765, KL_divergence=-0.6447992856613106, total=  41.4s\n"
     ]
    },
    {
     "name": "stderr",
     "output_type": "stream",
     "text": [
      "[Parallel(n_jobs=1)]: Done  60 out of  60 | elapsed: 41.7min finished\n"
     ]
    }
   ],
   "source": [
    "# All features\n",
    "scoring = {'Similarity': similarity_scoring,\n",
    "           'KL_divergence': kl_divergence_scoring}\n",
    "\n",
    "X_normed = normalize(X, axis=0)\n",
    "\n",
    "the_model = 'XGBoost'\n",
    "reduce_list = []\n",
    "\n",
    "logo = LeaveOneGroupOut()\n",
    "split = logo.split(X_normed, y, GROUP_EP)\n",
    "model = OneVsRestClassifier(XGBClassifier())\n",
    "\n",
    "scores_ova_xgb_all = cross_validate(model, X_normed, y, cv=split, \n",
    "                                    scoring=scoring, \n",
    "                                    return_train_score=False, return_estimator=True, verbose=3)"
   ]
  },
  {
   "cell_type": "code",
   "execution_count": 28,
   "metadata": {
    "ExecuteTime": {
     "end_time": "2019-12-24T09:23:04.517281Z",
     "start_time": "2019-12-24T09:23:04.490193Z"
    }
   },
   "outputs": [
    {
     "name": "stdout",
     "output_type": "stream",
     "text": [
      "XGBoost similarity: ava. 0.806, std. 0.009\n",
      "XGBoost kl_divergence: ava. 0.668, std. 0.023\n"
     ]
    }
   ],
   "source": [
    "print('XGBoost similarity: ava. %.3f, std. %.3f' % \n",
    "      (np.average(scores_ova_xgb_all['test_Similarity']), sem(scores_ova_xgb_all['test_Similarity'])))\n",
    "\n",
    "print('XGBoost kl_divergence: ava. %.3f, std. %.3f' % \n",
    "      (np.average(-scores_ova_xgb_all['test_KL_divergence']), sem(-scores_ova_xgb_all['test_KL_divergence'])))"
   ]
  },
  {
   "cell_type": "code",
   "execution_count": 22,
   "metadata": {
    "ExecuteTime": {
     "end_time": "2019-09-03T14:36:44.994978Z",
     "start_time": "2019-09-03T14:36:44.931837Z"
    }
   },
   "outputs": [
    {
     "data": {
      "text/plain": [
       "array([60, 60, 60, 60, 59, 58, 60, 60, 59, 60])"
      ]
     },
     "execution_count": 22,
     "metadata": {},
     "output_type": "execute_result"
    }
   ],
   "source": [
    "np.count_nonzero(~np.isnan(model_kl_divergence['XGBoost']), axis=0)"
   ]
  },
  {
   "cell_type": "code",
   "execution_count": 23,
   "metadata": {
    "ExecuteTime": {
     "end_time": "2019-09-03T14:36:45.553318Z",
     "start_time": "2019-09-03T14:36:45.512887Z"
    }
   },
   "outputs": [
    {
     "name": "stdout",
     "output_type": "stream",
     "text": [
      "Label similarity, XGBoost:\n",
      "[0.66709136 0.59020341 0.52033838 0.41998875 0.42481847 0.37981626\n",
      " 0.51842901 0.64798601 0.88817035 0.9011951 ]\n",
      "[0.031115688584546598 0.0310974329007635 0.019180633135531904\n",
      " 0.028917820463926335 0.03485760598426559 0.03301419728205311\n",
      " 0.029244596261169865 0.03479539808956835 0.031367616152629285\n",
      " 0.00790185745099855]\n"
     ]
    }
   ],
   "source": [
    "print('Label similarity, XGBoost:')\n",
    "print(np.nanmean(model_label_similarity['XGBoost'], axis=0))\n",
    "print(sem(model_label_similarity['XGBoost'], axis=0, nan_policy='omit'))"
   ]
  },
  {
   "cell_type": "code",
   "execution_count": 24,
   "metadata": {
    "ExecuteTime": {
     "end_time": "2019-09-03T14:36:46.170990Z",
     "start_time": "2019-09-03T14:36:46.158822Z"
    }
   },
   "outputs": [
    {
     "name": "stdout",
     "output_type": "stream",
     "text": [
      "Label kl_divergence, XGBoost:\n",
      "[1.19994831 1.40314008 1.35840234 1.95879272 2.06564567 2.19657656\n",
      " 1.60004081 1.0775122  0.49107016 0.21393546]\n",
      "[0.0875762769349859 0.09473523033050071 0.06476402371114441\n",
      " 0.10968270403013756 0.14458415521384205 0.12488462441997683\n",
      " 0.10815179414931496 0.09588225213614898 0.16575944794036807\n",
      " 0.019554795912735855]\n"
     ]
    }
   ],
   "source": [
    "print('Label kl_divergence, XGBoost:')\n",
    "print(np.nanmean(model_kl_divergence['XGBoost'], axis=0))\n",
    "print(sem(model_kl_divergence['XGBoost'], axis=0, nan_policy='omit'))"
   ]
  },
  {
   "cell_type": "code",
   "execution_count": 21,
   "metadata": {
    "ExecuteTime": {
     "end_time": "2019-12-24T08:36:40.640574Z",
     "start_time": "2019-12-24T08:10:48.302009Z"
    },
    "collapsed": true
   },
   "outputs": [
    {
     "name": "stderr",
     "output_type": "stream",
     "text": [
      "[Parallel(n_jobs=1)]: Using backend SequentialBackend with 1 concurrent workers.\n"
     ]
    },
    {
     "name": "stdout",
     "output_type": "stream",
     "text": [
      "[CV]  ................................................................\n",
      "[CV]  , Similarity=0.706554221595547, KL_divergence=-0.8830297899056537, total=  24.2s\n",
      "[CV]  ................................................................\n"
     ]
    },
    {
     "name": "stderr",
     "output_type": "stream",
     "text": [
      "[Parallel(n_jobs=1)]: Done   1 out of   1 | elapsed:   24.2s remaining:    0.0s\n"
     ]
    },
    {
     "name": "stdout",
     "output_type": "stream",
     "text": [
      "[CV]  , Similarity=0.8319899315188548, KL_divergence=-0.5835686220582409, total=  22.7s\n",
      "[CV]  ................................................................\n"
     ]
    },
    {
     "name": "stderr",
     "output_type": "stream",
     "text": [
      "[Parallel(n_jobs=1)]: Done   2 out of   2 | elapsed:   46.9s remaining:    0.0s\n"
     ]
    },
    {
     "name": "stdout",
     "output_type": "stream",
     "text": [
      "[CV]  , Similarity=0.5455090581577722, KL_divergence=-1.3303706708796301, total=  23.7s\n",
      "[CV]  ................................................................\n",
      "[CV]  , Similarity=0.8708802472256227, KL_divergence=-0.47752130162041007, total=  26.1s\n",
      "[CV]  ................................................................\n",
      "[CV]  , Similarity=0.689549464022607, KL_divergence=-0.8485166406024476, total=  34.2s\n",
      "[CV]  ................................................................\n"
     ]
    },
    {
     "name": "stderr",
     "output_type": "stream",
     "text": [
      "/Users/liu/anaconda3/lib/python3.7/site-packages/ipykernel_launcher.py:9: RuntimeWarning: invalid value encountered in double_scalars\n",
      "  if __name__ == '__main__':\n",
      "/Users/liu/anaconda3/lib/python3.7/site-packages/scipy/stats/_distn_infrastructure.py:2507: RuntimeWarning: invalid value encountered in true_divide\n",
      "  pk = 1.0*pk / np.sum(pk, axis=0)\n"
     ]
    },
    {
     "name": "stdout",
     "output_type": "stream",
     "text": [
      "[CV]  , Similarity=0.8531805189928987, KL_divergence=-0.5933282731030746, total=  30.7s\n",
      "[CV]  ................................................................\n",
      "[CV]  , Similarity=0.8336152725970988, KL_divergence=-0.45324140332249147, total=  30.1s\n",
      "[CV]  ................................................................\n",
      "[CV]  , Similarity=0.8656217912117984, KL_divergence=-0.49293004512689015, total=  31.1s\n",
      "[CV]  ................................................................\n",
      "[CV]  , Similarity=0.741818278575745, KL_divergence=-0.933370356849378, total=  30.5s\n",
      "[CV]  ................................................................\n",
      "[CV]  , Similarity=0.8453765300891429, KL_divergence=-0.5994086222538464, total=  27.0s\n",
      "[CV]  ................................................................\n",
      "[CV]  , Similarity=0.884440326415443, KL_divergence=-0.5391061666220661, total=  22.3s\n",
      "[CV]  ................................................................\n",
      "[CV]  , Similarity=0.7052129152128799, KL_divergence=-0.8113853940718728, total=  24.7s\n",
      "[CV]  ................................................................\n",
      "[CV]  , Similarity=0.8389974769351423, KL_divergence=-0.5140064860238273, total=  23.9s\n",
      "[CV]  ................................................................\n",
      "[CV]  , Similarity=0.7972710922779962, KL_divergence=-0.7217170656777623, total=  23.1s\n",
      "[CV]  ................................................................\n",
      "[CV]  , Similarity=0.7731893351586553, KL_divergence=-0.6549404498963709, total=  22.5s\n",
      "[CV]  ................................................................\n",
      "[CV]  , Similarity=0.8852263435258775, KL_divergence=-0.5157691848715098, total=  22.3s\n",
      "[CV]  ................................................................\n",
      "[CV]  , Similarity=0.7685017704052015, KL_divergence=-0.7973613068824181, total=  22.6s\n",
      "[CV]  ................................................................\n",
      "[CV]  , Similarity=0.8398831566106011, KL_divergence=-0.5192455395428064, total=  22.1s\n",
      "[CV]  ................................................................\n",
      "[CV]  , Similarity=0.7598548398044516, KL_divergence=-0.7556843210043764, total=  25.2s\n",
      "[CV]  ................................................................\n",
      "[CV]  , Similarity=0.8618418993543384, KL_divergence=-0.5089533905512781, total=  22.1s\n",
      "[CV]  ................................................................\n",
      "[CV]  , Similarity=0.8431914550489777, KL_divergence=-0.5379941036946698, total=  22.4s\n",
      "[CV]  ................................................................\n",
      "[CV]  , Similarity=0.8006884636120262, KL_divergence=-0.6131178382502882, total=  24.0s\n",
      "[CV]  ................................................................\n",
      "[CV]  , Similarity=0.7700151396019641, KL_divergence=-0.7990958531702494, total=  25.0s\n",
      "[CV]  ................................................................\n",
      "[CV]  , Similarity=0.8359712447007839, KL_divergence=-0.7091312071369479, total=  28.4s\n",
      "[CV]  ................................................................\n",
      "[CV]  , Similarity=0.6521980012661462, KL_divergence=-1.1392483546448942, total=  30.9s\n",
      "[CV]  ................................................................\n"
     ]
    },
    {
     "name": "stderr",
     "output_type": "stream",
     "text": [
      "/Users/liu/anaconda3/lib/python3.7/site-packages/ipykernel_launcher.py:9: RuntimeWarning: invalid value encountered in double_scalars\n",
      "  if __name__ == '__main__':\n",
      "/Users/liu/anaconda3/lib/python3.7/site-packages/scipy/stats/_distn_infrastructure.py:2507: RuntimeWarning: invalid value encountered in true_divide\n",
      "  pk = 1.0*pk / np.sum(pk, axis=0)\n"
     ]
    },
    {
     "name": "stdout",
     "output_type": "stream",
     "text": [
      "[CV]  , Similarity=0.8625439100303732, KL_divergence=-0.520687820244634, total=  29.5s\n",
      "[CV]  ................................................................\n",
      "[CV]  , Similarity=0.8214197012067099, KL_divergence=-0.5599630742196527, total=  32.2s\n",
      "[CV]  ................................................................\n",
      "[CV]  , Similarity=0.9080484421411272, KL_divergence=-0.42281839110680025, total=  32.9s\n",
      "[CV]  ................................................................\n",
      "[CV]  , Similarity=0.779346369819698, KL_divergence=-0.8472227902464501, total=  33.8s\n",
      "[CV]  ................................................................\n",
      "[CV]  , Similarity=0.8842030445897038, KL_divergence=-0.4950240135503232, total=  35.8s\n",
      "[CV]  ................................................................\n",
      "[CV]  , Similarity=0.8502507352340298, KL_divergence=-0.5995360917628944, total=  27.0s\n",
      "[CV]  ................................................................\n",
      "[CV]  , Similarity=0.90224634669369, KL_divergence=-0.44317718275778545, total=  23.8s\n",
      "[CV]  ................................................................\n",
      "[CV]  , Similarity=0.835492523547127, KL_divergence=-0.6456568033237858, total=  24.6s\n",
      "[CV]  ................................................................\n",
      "[CV]  , Similarity=0.8614484158845113, KL_divergence=-0.5593162576949483, total=  24.0s\n",
      "[CV]  ................................................................\n",
      "[CV]  , Similarity=0.8247274134501239, KL_divergence=-0.583680822935157, total=  28.0s\n",
      "[CV]  ................................................................\n",
      "[CV]  , Similarity=0.7748704334930188, KL_divergence=-0.697258953103277, total=  31.6s\n",
      "[CV]  ................................................................\n",
      "[CV]  , Similarity=0.8728701025212862, KL_divergence=-0.5320030341566256, total=  23.5s\n",
      "[CV]  ................................................................\n",
      "[CV]  , Similarity=0.7668244588357847, KL_divergence=-0.8238228704606594, total=  33.1s\n",
      "[CV]  ................................................................\n",
      "[CV]  , Similarity=0.8089878617318028, KL_divergence=-0.6830290186828165, total=  26.0s\n",
      "[CV]  ................................................................\n",
      "[CV]  , Similarity=0.8860034670378227, KL_divergence=-0.45500758717702505, total=  22.5s\n",
      "[CV]  ................................................................\n",
      "[CV]  , Similarity=0.9174986502756403, KL_divergence=-0.39276933730969155, total=  25.9s\n",
      "[CV]  ................................................................\n",
      "[CV]  , Similarity=0.7647021736318566, KL_divergence=-0.7707835057724315, total=  28.0s\n",
      "[CV]  ................................................................\n",
      "[CV]  , Similarity=0.783691023513644, KL_divergence=-0.6293621529805424, total=  30.8s\n",
      "[CV]  ................................................................\n",
      "[CV]  , Similarity=0.6889370394738438, KL_divergence=-0.9865276792722707, total=  26.5s\n",
      "[CV]  ................................................................\n",
      "[CV]  , Similarity=0.7975311054018456, KL_divergence=-0.6607935275081634, total=  25.3s\n",
      "[CV]  ................................................................\n",
      "[CV]  , Similarity=0.7888118771616682, KL_divergence=-0.7151682418507592, total=  23.2s\n",
      "[CV]  ................................................................\n",
      "[CV]  , Similarity=0.889924162558739, KL_divergence=-0.6094628272250523, total=  25.6s\n",
      "[CV]  ................................................................\n",
      "[CV]  , Similarity=0.8035008627483505, KL_divergence=-0.6726027632159091, total=  22.3s\n",
      "[CV]  ................................................................\n"
     ]
    },
    {
     "name": "stderr",
     "output_type": "stream",
     "text": [
      "/Users/liu/anaconda3/lib/python3.7/site-packages/ipykernel_launcher.py:9: RuntimeWarning: invalid value encountered in double_scalars\n",
      "  if __name__ == '__main__':\n",
      "/Users/liu/anaconda3/lib/python3.7/site-packages/scipy/stats/_distn_infrastructure.py:2507: RuntimeWarning: invalid value encountered in true_divide\n",
      "  pk = 1.0*pk / np.sum(pk, axis=0)\n"
     ]
    },
    {
     "name": "stdout",
     "output_type": "stream",
     "text": [
      "[CV]  , Similarity=0.783526658895327, KL_divergence=-0.7020855285744867, total=  22.1s\n",
      "[CV]  ................................................................\n",
      "[CV]  , Similarity=0.8381653191545181, KL_divergence=-0.5206495207456295, total=  22.2s\n",
      "[CV]  ................................................................\n",
      "[CV]  , Similarity=0.8781905377776428, KL_divergence=-0.48852550489454266, total=  22.5s\n",
      "[CV]  ................................................................\n",
      "[CV]  , Similarity=0.7798595923064746, KL_divergence=-0.6356650051336213, total=  24.9s\n",
      "[CV]  ................................................................\n",
      "[CV]  , Similarity=0.7499323549639111, KL_divergence=-0.8002795703741654, total=  22.4s\n",
      "[CV]  ................................................................\n",
      "[CV]  , Similarity=0.8105566270156357, KL_divergence=-0.7675597791198284, total=  22.2s\n",
      "[CV]  ................................................................\n",
      "[CV]  , Similarity=0.8426997307918443, KL_divergence=-0.5911708121051411, total=  22.4s\n",
      "[CV]  ................................................................\n",
      "[CV]  , Similarity=0.8555146699078816, KL_divergence=-0.5498146981720193, total=  21.8s\n",
      "[CV]  ................................................................\n",
      "[CV]  , Similarity=0.7365344927542867, KL_divergence=-0.9421424955749972, total=  23.0s\n",
      "[CV]  ................................................................\n",
      "[CV]  , Similarity=0.7364377511086784, KL_divergence=-0.7544792321050756, total=  27.2s\n",
      "[CV]  ................................................................\n",
      "[CV]  , Similarity=0.7785767853030163, KL_divergence=-0.7391246765048846, total=  22.1s\n",
      "[CV]  ................................................................\n",
      "[CV]  , Similarity=0.7936926790802207, KL_divergence=-0.6335164988244555, total=  21.5s\n"
     ]
    },
    {
     "name": "stderr",
     "output_type": "stream",
     "text": [
      "[Parallel(n_jobs=1)]: Done  60 out of  60 | elapsed: 25.9min finished\n"
     ]
    }
   ],
   "source": [
    "# Basic feature\n",
    "\n",
    "scoring = {'Similarity': similarity_scoring,\n",
    "           'KL_divergence': kl_divergence_scoring}\n",
    "\n",
    "the_model = 'XGBoost_basic'\n",
    "\n",
    "X_basic = X[:, :-3]\n",
    "X_normed_basic = normalize(X_basic, axis=0)\n",
    "\n",
    "logo = LeaveOneGroupOut()\n",
    "split = logo.split(X_normed_basic, y, GROUP_EP)\n",
    "model = OneVsRestClassifier(XGBClassifier())\n",
    "\n",
    "scores_ova_xgb_basic = cross_validate(model, X_normed_basic, y, cv=split, scoring=scoring, \n",
    "                                      return_train_score=False, return_estimator=True, verbose=3)"
   ]
  },
  {
   "cell_type": "code",
   "execution_count": 22,
   "metadata": {
    "ExecuteTime": {
     "end_time": "2019-12-24T08:38:54.729399Z",
     "start_time": "2019-12-24T08:38:54.694427Z"
    }
   },
   "outputs": [
    {
     "name": "stdout",
     "output_type": "stream",
     "text": [
      "XGBoost_basic similarity: ava. 0.808, std. 0.009\n",
      "XGBoost_basic kl_divergence: ava. 0.663, std. 0.023\n"
     ]
    }
   ],
   "source": [
    "print('XGBoost_basic similarity: ava. %.3f, std. %.3f' % \n",
    "      (np.average(scores_ova_xgb_basic['test_Similarity']), sem(scores_ova_xgb_basic['test_Similarity'])))\n",
    "\n",
    "print('XGBoost_basic kl_divergence: ava. %.3f, std. %.3f' % \n",
    "      (np.average(-scores_ova_xgb_basic['test_KL_divergence']), sem(-scores_ova_xgb_basic['test_KL_divergence'])))"
   ]
  },
  {
   "cell_type": "code",
   "execution_count": 28,
   "metadata": {
    "ExecuteTime": {
     "end_time": "2019-09-03T15:19:15.942586Z",
     "start_time": "2019-09-03T15:19:15.897175Z"
    }
   },
   "outputs": [
    {
     "name": "stdout",
     "output_type": "stream",
     "text": [
      "Label similarity, XGBoost_basic:\n",
      "[0.66772135 0.58098244 0.52069817 0.41130185 0.43329407 0.36635892\n",
      " 0.53250524 0.66176313 0.89344334 0.90243347]\n",
      "[0.03138088908106871 0.031316666151705565 0.018946670415924703\n",
      " 0.028172518930573293 0.03338685361380185 0.03257181966069677\n",
      " 0.02990588557058852 0.03545228138408217 0.02975692853775661\n",
      " 0.008152491448584702]\n"
     ]
    }
   ],
   "source": [
    "print('Label similarity, XGBoost_basic:')\n",
    "print(np.nanmean(model_label_similarity['XGBoost_basic'], axis=0))\n",
    "print(sem(model_label_similarity['XGBoost_basic'], axis=0, nan_policy='omit'))"
   ]
  },
  {
   "cell_type": "code",
   "execution_count": 29,
   "metadata": {
    "ExecuteTime": {
     "end_time": "2019-09-03T15:19:37.436532Z",
     "start_time": "2019-09-03T15:19:37.398767Z"
    }
   },
   "outputs": [
    {
     "name": "stdout",
     "output_type": "stream",
     "text": [
      "Label kl_divergence, XGBoost_basic:\n",
      "[1.19562096 1.42884629 1.35243266 1.96036933 2.01300152 2.23514002\n",
      " 1.56288003 1.06364443 0.48491121 0.21159819]\n",
      "[0.08767547217414529 0.0982546696378912 0.06595498857318845\n",
      " 0.10148275323451107 0.13473647924990612 0.12613647207990267\n",
      " 0.10739710522067157 0.09825663913678881 0.16395453100284746\n",
      " 0.020203324608377895]\n"
     ]
    }
   ],
   "source": [
    "print('Label kl_divergence, XGBoost_basic:')\n",
    "print(np.nanmean(model_kl_divergence['XGBoost_basic'], axis=0))\n",
    "print(sem(model_kl_divergence['XGBoost_basic'], axis=0, nan_policy='omit'))"
   ]
  },
  {
   "cell_type": "code",
   "execution_count": 30,
   "metadata": {
    "ExecuteTime": {
     "end_time": "2019-09-03T15:52:12.546321Z",
     "start_time": "2019-09-03T15:24:13.475942Z"
    },
    "collapsed": true
   },
   "outputs": [
    {
     "name": "stderr",
     "output_type": "stream",
     "text": [
      "[Parallel(n_jobs=1)]: Using backend SequentialBackend with 1 concurrent workers.\n"
     ]
    },
    {
     "name": "stdout",
     "output_type": "stream",
     "text": [
      "[CV]  ................................................................\n",
      "[CV]  , Similarity=0.7182933039138403, KL_divergence=-0.8308351203484579, total=  29.8s\n",
      "[CV]  ................................................................\n"
     ]
    },
    {
     "name": "stderr",
     "output_type": "stream",
     "text": [
      "[Parallel(n_jobs=1)]: Done   1 out of   1 | elapsed:   29.8s remaining:    0.0s\n"
     ]
    },
    {
     "name": "stdout",
     "output_type": "stream",
     "text": [
      "[CV]  , Similarity=0.8347249797348013, KL_divergence=-0.5772144005954225, total=  33.6s\n",
      "[CV]  ................................................................\n"
     ]
    },
    {
     "name": "stderr",
     "output_type": "stream",
     "text": [
      "[Parallel(n_jobs=1)]: Done   2 out of   2 | elapsed:  1.1min remaining:    0.0s\n"
     ]
    },
    {
     "name": "stdout",
     "output_type": "stream",
     "text": [
      "[CV]  , Similarity=0.5395920262813201, KL_divergence=-1.3123646272968026, total=  30.6s\n",
      "[CV]  ................................................................\n",
      "[CV]  , Similarity=0.8507966042794339, KL_divergence=-0.5079731018455294, total=  36.6s\n",
      "[CV]  ................................................................\n",
      "[CV]  , Similarity=0.6913149690210261, KL_divergence=-0.8427859274781515, total=  37.4s\n",
      "[CV]  ................................................................\n"
     ]
    },
    {
     "name": "stderr",
     "output_type": "stream",
     "text": [
      "/Users/liu/anaconda3/lib/python3.7/site-packages/ipykernel_launcher.py:9: RuntimeWarning: invalid value encountered in double_scalars\n",
      "  if __name__ == '__main__':\n",
      "/Users/liu/anaconda3/lib/python3.7/site-packages/scipy/stats/_distn_infrastructure.py:2507: RuntimeWarning: invalid value encountered in true_divide\n",
      "  pk = 1.0*pk / np.sum(pk, axis=0)\n"
     ]
    },
    {
     "name": "stdout",
     "output_type": "stream",
     "text": [
      "[CV]  , Similarity=0.8474339417247608, KL_divergence=-0.5937803082273414, total=  30.5s\n",
      "[CV]  ................................................................\n",
      "[CV]  , Similarity=0.82623482195342, KL_divergence=-0.4422335590876118, total=  30.0s\n",
      "[CV]  ................................................................\n",
      "[CV]  , Similarity=0.8695905453210074, KL_divergence=-0.4857517209825918, total=  26.0s\n",
      "[CV]  ................................................................\n",
      "[CV]  , Similarity=0.7379309527708335, KL_divergence=-0.9493650484451465, total=  25.1s\n",
      "[CV]  ................................................................\n",
      "[CV]  , Similarity=0.8436779254465777, KL_divergence=-0.5825280957228938, total=  27.8s\n",
      "[CV]  ................................................................\n",
      "[CV]  , Similarity=0.887138099213275, KL_divergence=-0.5340586531969805, total=  28.4s\n",
      "[CV]  ................................................................\n",
      "[CV]  , Similarity=0.6994715564407193, KL_divergence=-0.8423820195630518, total=  29.9s\n",
      "[CV]  ................................................................\n",
      "[CV]  , Similarity=0.8481415116876967, KL_divergence=-0.5010041406138438, total=  29.2s\n",
      "[CV]  ................................................................\n",
      "[CV]  , Similarity=0.7984984055530613, KL_divergence=-0.6594139911998708, total=  30.9s\n",
      "[CV]  ................................................................\n",
      "[CV]  , Similarity=0.7991124680178648, KL_divergence=-0.6316203850936544, total=  44.3s\n",
      "[CV]  ................................................................\n",
      "[CV]  , Similarity=0.8862658638066361, KL_divergence=-0.5196184173235783, total=  32.2s\n",
      "[CV]  ................................................................\n",
      "[CV]  , Similarity=0.7592588792414069, KL_divergence=-0.8148900042883512, total=  34.3s\n",
      "[CV]  ................................................................\n",
      "[CV]  , Similarity=0.8395703727408499, KL_divergence=-0.5310605750542737, total=  33.1s\n",
      "[CV]  ................................................................\n",
      "[CV]  , Similarity=0.75507470115939, KL_divergence=-0.7500414656397929, total=  32.0s\n",
      "[CV]  ................................................................\n",
      "[CV]  , Similarity=0.8656832754133351, KL_divergence=-0.5014661110588426, total=  33.4s\n",
      "[CV]  ................................................................\n",
      "[CV]  , Similarity=0.8400748536175995, KL_divergence=-0.5238881922120582, total=  36.5s\n",
      "[CV]  ................................................................\n",
      "[CV]  , Similarity=0.7895931315191308, KL_divergence=-0.635483637366538, total=  33.2s\n",
      "[CV]  ................................................................\n",
      "[CV]  , Similarity=0.7751618568966147, KL_divergence=-0.787879208418766, total=  38.2s\n",
      "[CV]  ................................................................\n",
      "[CV]  , Similarity=0.8337516586295007, KL_divergence=-0.697684234104428, total=  29.1s\n",
      "[CV]  ................................................................\n",
      "[CV]  , Similarity=0.6525956204771927, KL_divergence=-1.1682369489555122, total=  30.4s\n",
      "[CV]  ................................................................\n"
     ]
    },
    {
     "name": "stderr",
     "output_type": "stream",
     "text": [
      "/Users/liu/anaconda3/lib/python3.7/site-packages/ipykernel_launcher.py:9: RuntimeWarning: invalid value encountered in double_scalars\n",
      "  if __name__ == '__main__':\n",
      "/Users/liu/anaconda3/lib/python3.7/site-packages/scipy/stats/_distn_infrastructure.py:2507: RuntimeWarning: invalid value encountered in true_divide\n",
      "  pk = 1.0*pk / np.sum(pk, axis=0)\n"
     ]
    },
    {
     "name": "stdout",
     "output_type": "stream",
     "text": [
      "[CV]  , Similarity=0.8627710128541515, KL_divergence=-0.5286820352834484, total=  29.6s\n",
      "[CV]  ................................................................\n",
      "[CV]  , Similarity=0.8203072615445102, KL_divergence=-0.5758854854298141, total=  29.9s\n",
      "[CV]  ................................................................\n",
      "[CV]  , Similarity=0.9047765395602408, KL_divergence=-0.4236420075463099, total=  29.2s\n",
      "[CV]  ................................................................\n",
      "[CV]  , Similarity=0.7734285397062323, KL_divergence=-0.8541529598414443, total=  33.7s\n",
      "[CV]  ................................................................\n",
      "[CV]  , Similarity=0.8861174472447603, KL_divergence=-0.49233983793406616, total=  39.6s\n",
      "[CV]  ................................................................\n",
      "[CV]  , Similarity=0.848456598802673, KL_divergence=-0.6169537902214612, total=  28.8s\n",
      "[CV]  ................................................................\n",
      "[CV]  , Similarity=0.9023919643219842, KL_divergence=-0.4542110874511387, total=  27.0s\n",
      "[CV]  ................................................................\n",
      "[CV]  , Similarity=0.8509171486038003, KL_divergence=-0.6266554978413356, total=  28.6s\n",
      "[CV]  ................................................................\n",
      "[CV]  , Similarity=0.8627600832171864, KL_divergence=-0.5767807469786411, total=  42.4s\n",
      "[CV]  ................................................................\n",
      "[CV]  , Similarity=0.8263950322546292, KL_divergence=-0.5736335655961587, total=  27.4s\n",
      "[CV]  ................................................................\n",
      "[CV]  , Similarity=0.7821164882729956, KL_divergence=-0.7066384304443548, total=  31.1s\n",
      "[CV]  ................................................................\n",
      "[CV]  , Similarity=0.8702498692340973, KL_divergence=-0.5559052875140196, total=  24.0s\n",
      "[CV]  ................................................................\n",
      "[CV]  , Similarity=0.7743943765065469, KL_divergence=-0.8128225199772305, total=  29.4s\n",
      "[CV]  ................................................................\n",
      "[CV]  , Similarity=0.8077481118675814, KL_divergence=-0.673840331501057, total=  31.3s\n",
      "[CV]  ................................................................\n",
      "[CV]  , Similarity=0.8811748821211667, KL_divergence=-0.46555801386713486, total=  26.3s\n",
      "[CV]  ................................................................\n",
      "[CV]  , Similarity=0.9281824755828979, KL_divergence=-0.3803682470514148, total=  30.9s\n",
      "[CV]  ................................................................\n",
      "[CV]  , Similarity=0.7599607871417234, KL_divergence=-0.7798297644001844, total=  28.9s\n",
      "[CV]  ................................................................\n",
      "[CV]  , Similarity=0.7865027641641346, KL_divergence=-0.6186658344980637, total=  30.5s\n",
      "[CV]  ................................................................\n",
      "[CV]  , Similarity=0.707635501606324, KL_divergence=-0.9178594493561036, total=  30.0s\n",
      "[CV]  ................................................................\n",
      "[CV]  , Similarity=0.792534468842057, KL_divergence=-0.6723277209649253, total=  28.8s\n",
      "[CV]  ................................................................\n",
      "[CV]  , Similarity=0.7880448810148694, KL_divergence=-0.7267898073717126, total=  29.3s\n",
      "[CV]  ................................................................\n",
      "[CV]  , Similarity=0.8812029301546166, KL_divergence=-0.637547907989161, total=  28.7s\n",
      "[CV]  ................................................................\n",
      "[CV]  , Similarity=0.8071788441433886, KL_divergence=-0.6730452074339199, total=  27.0s\n",
      "[CV]  ................................................................\n"
     ]
    },
    {
     "name": "stderr",
     "output_type": "stream",
     "text": [
      "/Users/liu/anaconda3/lib/python3.7/site-packages/ipykernel_launcher.py:9: RuntimeWarning: invalid value encountered in double_scalars\n",
      "  if __name__ == '__main__':\n",
      "/Users/liu/anaconda3/lib/python3.7/site-packages/scipy/stats/_distn_infrastructure.py:2507: RuntimeWarning: invalid value encountered in true_divide\n",
      "  pk = 1.0*pk / np.sum(pk, axis=0)\n"
     ]
    },
    {
     "name": "stdout",
     "output_type": "stream",
     "text": [
      "[CV]  , Similarity=0.7855828760908791, KL_divergence=-0.7042701629027064, total=  31.7s\n",
      "[CV]  ................................................................\n",
      "[CV]  , Similarity=0.8255760251831833, KL_divergence=-0.5376487274056119, total=  33.3s\n",
      "[CV]  ................................................................\n",
      "[CV]  , Similarity=0.8765119263933979, KL_divergence=-0.49411565408468056, total=  30.3s\n",
      "[CV]  ................................................................\n",
      "[CV]  , Similarity=0.7708456967132051, KL_divergence=-0.6572518867263115, total=  31.7s\n",
      "[CV]  ................................................................\n",
      "[CV]  , Similarity=0.7346804709408338, KL_divergence=-0.8329963411076758, total=  30.9s\n",
      "[CV]  ................................................................\n",
      "[CV]  , Similarity=0.8186588801313451, KL_divergence=-0.747773065484409, total=  33.1s\n",
      "[CV]  ................................................................\n",
      "[CV]  , Similarity=0.8380909036209179, KL_divergence=-0.6069016071812882, total=  35.6s\n",
      "[CV]  ................................................................\n",
      "[CV]  , Similarity=0.8543516674531386, KL_divergence=-0.5533093194720597, total=  31.9s\n",
      "[CV]  ................................................................\n",
      "[CV]  , Similarity=0.7056102229132267, KL_divergence=-1.0497412531594414, total=  31.8s\n",
      "[CV]  ................................................................\n",
      "[CV]  , Similarity=0.7314394239075392, KL_divergence=-0.7793633448438658, total=  32.6s\n",
      "[CV]  ................................................................\n",
      "[CV]  , Similarity=0.777154259199183, KL_divergence=-0.7702777786704599, total=  39.2s\n",
      "[CV]  ................................................................\n",
      "[CV]  , Similarity=0.7896110962403406, KL_divergence=-0.6405371125952944, total=  32.0s\n"
     ]
    },
    {
     "name": "stderr",
     "output_type": "stream",
     "text": [
      "[Parallel(n_jobs=1)]: Done  60 out of  60 | elapsed: 31.5min finished\n"
     ]
    }
   ],
   "source": [
    "# Basic feature + vtc\n",
    "\n",
    "scoring = {'Similarity': similarity_scoring,\n",
    "           'KL_divergence': kl_divergence_scoring}\n",
    "\n",
    "X_basic_vtc = X[:, :-2]\n",
    "X_normed_basic_vtc = normalize(X_basic_vtc, axis=0)\n",
    "\n",
    "the_model = 'XGBoost_basic_twoclock'\n",
    "\n",
    "logo = LeaveOneGroupOut()\n",
    "split = logo.split(X_normed_basic_vtc, y, GROUP_EP)\n",
    "model = OneVsRestClassifier(XGBClassifier())\n",
    "\n",
    "scores_ova_xgb_basic_vtc = cross_validate(model, X_normed_basic_vtc, y, cv=split, scoring=scoring, \n",
    "                                          return_train_score=False, return_estimator=True, verbose=3)"
   ]
  },
  {
   "cell_type": "code",
   "execution_count": 31,
   "metadata": {
    "ExecuteTime": {
     "end_time": "2019-09-03T16:42:10.214916Z",
     "start_time": "2019-09-03T16:42:10.187999Z"
    }
   },
   "outputs": [
    {
     "name": "stdout",
     "output_type": "stream",
     "text": [
      "XGBoost_basic_twoclock similarity: ava. 0.807, std. 0.009\n",
      "XGBoost_basic_twoclock kl_divergence: ava. 0.666, std. 0.023\n"
     ]
    }
   ],
   "source": [
    "print('XGBoost_basic_twoclock similarity: ava. %.3f, std. %.3f' % \n",
    "      (np.average(scores_ova_xgb_basic_vtc['test_Similarity']), sem(scores_ova_xgb_basic_vtc['test_Similarity'])))\n",
    "\n",
    "print('XGBoost_basic_twoclock kl_divergence: ava. %.3f, std. %.3f' % \n",
    "      (np.average(-scores_ova_xgb_basic_vtc['test_KL_divergence']), sem(-scores_ova_xgb_basic_vtc['test_KL_divergence'])))"
   ]
  },
  {
   "cell_type": "code",
   "execution_count": 32,
   "metadata": {
    "ExecuteTime": {
     "end_time": "2019-09-03T16:43:01.141701Z",
     "start_time": "2019-09-03T16:43:01.068552Z"
    }
   },
   "outputs": [
    {
     "name": "stdout",
     "output_type": "stream",
     "text": [
      "Label similarity, XGBoost_basic_twoclock:\n",
      "[0.66324834 0.58686533 0.51977412 0.42462086 0.43533706 0.36623655\n",
      " 0.52895931 0.65196591 0.89035652 0.90184358]\n",
      "[0.03121905908882709 0.03215061406795535 0.019549302745846698\n",
      " 0.028616176325914452 0.03375967017525571 0.031770994976427776\n",
      " 0.02976086987671591 0.034834787813763854 0.03086571820733869\n",
      " 0.008143205728349662]\n"
     ]
    }
   ],
   "source": [
    "print('Label similarity, XGBoost_basic_twoclock:')\n",
    "print(np.nanmean(model_label_similarity['XGBoost_basic_twoclock'], axis=0))\n",
    "print(sem(model_label_similarity['XGBoost_basic_twoclock'], axis=0, nan_policy='omit'))"
   ]
  },
  {
   "cell_type": "code",
   "execution_count": 33,
   "metadata": {
    "ExecuteTime": {
     "end_time": "2019-09-03T16:43:04.116539Z",
     "start_time": "2019-09-03T16:43:04.069179Z"
    }
   },
   "outputs": [
    {
     "name": "stdout",
     "output_type": "stream",
     "text": [
      "Label kl_divergence, XGBoost_basic_twoclock:\n",
      "[1.21229926 1.41882827 1.35425765 1.93432531 2.03570194 2.22083552\n",
      " 1.57494136 1.06939215 0.48515849 0.21213347]\n",
      "[0.0888094915839906 0.09789880728867957 0.06577019432429701\n",
      " 0.10921262517949422 0.13982216791116137 0.12255528675913586\n",
      " 0.10559343905726143 0.095161781990422 0.16181449387617838\n",
      " 0.0199161975566405]\n"
     ]
    }
   ],
   "source": [
    "print('Label kl_divergence, XGBoost_basic_twoclock:')\n",
    "print(np.nanmean(model_kl_divergence['XGBoost_basic_twoclock'], axis=0))\n",
    "print(sem(model_kl_divergence['XGBoost_basic_twoclock'], axis=0, nan_policy='omit'))"
   ]
  },
  {
   "cell_type": "code",
   "execution_count": 25,
   "metadata": {
    "collapsed": true
   },
   "outputs": [
    {
     "name": "stderr",
     "output_type": "stream",
     "text": [
      "[Parallel(n_jobs=1)]: Using backend SequentialBackend with 1 concurrent workers.\n"
     ]
    },
    {
     "name": "stdout",
     "output_type": "stream",
     "text": [
      "[CV]  ................................................................\n",
      "[CV]  , Similarity=0.7306928344571707, KL_divergence=-0.7848181634112622, total=  21.7s\n",
      "[CV]  ................................................................\n"
     ]
    },
    {
     "name": "stderr",
     "output_type": "stream",
     "text": [
      "[Parallel(n_jobs=1)]: Done   1 out of   1 | elapsed:   21.7s remaining:    0.0s\n"
     ]
    },
    {
     "name": "stdout",
     "output_type": "stream",
     "text": [
      "[CV]  , Similarity=0.8566871243219347, KL_divergence=-0.5216029831397051, total=  22.5s\n",
      "[CV]  ................................................................\n"
     ]
    },
    {
     "name": "stderr",
     "output_type": "stream",
     "text": [
      "[Parallel(n_jobs=1)]: Done   2 out of   2 | elapsed:   44.1s remaining:    0.0s\n"
     ]
    },
    {
     "name": "stdout",
     "output_type": "stream",
     "text": [
      "[CV]  , Similarity=0.6248255258045062, KL_divergence=-1.0893419580332346, total=  22.4s\n",
      "[CV]  ................................................................\n",
      "[CV]  , Similarity=0.8970413950569037, KL_divergence=-0.39936313976742266, total=  23.5s\n",
      "[CV]  ................................................................\n",
      "[CV]  , Similarity=0.6858583882859731, KL_divergence=-0.8612981862635213, total=  21.8s\n",
      "[CV]  ................................................................\n",
      "[CV]  , Similarity=0.8602452646081375, KL_divergence=-0.5830656086609397, total=  21.6s\n",
      "[CV]  ................................................................\n",
      "[CV]  , Similarity=0.8805017069663466, KL_divergence=-0.32656429999073455, total=  24.0s\n",
      "[CV]  ................................................................\n",
      "[CV]  , Similarity=0.8759116628892155, KL_divergence=-0.4605156450307998, total=  25.9s\n",
      "[CV]  ................................................................\n",
      "[CV]  , Similarity=0.7797376377755543, KL_divergence=-0.7289652615027142, total=  23.2s\n",
      "[CV]  ................................................................\n",
      "[CV]  , Similarity=0.8682634342064307, KL_divergence=-0.5397512837438243, total=  21.9s\n",
      "[CV]  ................................................................\n",
      "[CV]  , Similarity=0.8882571797909681, KL_divergence=-0.5252738810336791, total=  22.8s\n",
      "[CV]  ................................................................\n",
      "[CV]  , Similarity=0.7039416713889985, KL_divergence=-0.8316144064692047, total=  26.1s\n",
      "[CV]  ................................................................\n",
      "[CV]  , Similarity=0.8737178478079068, KL_divergence=-0.44901470948740896, total=  22.1s\n",
      "[CV]  ................................................................\n",
      "[CV]  , Similarity=0.8385712342480075, KL_divergence=-0.5577305285019221, total=  22.6s\n",
      "[CV]  ................................................................\n",
      "[CV]  , Similarity=0.8130337185965129, KL_divergence=-0.5451510697904751, total=  22.5s\n",
      "[CV]  ................................................................\n",
      "[CV]  , Similarity=0.8995932431645431, KL_divergence=-0.4926992370415651, total=  24.4s\n",
      "[CV]  ................................................................\n",
      "[CV]  , Similarity=0.7914953584174367, KL_divergence=-0.7542823494940569, total=  29.7s\n",
      "[CV]  ................................................................\n",
      "[CV]  , Similarity=0.9098798166433558, KL_divergence=-0.31790525620954213, total=  25.6s\n",
      "[CV]  ................................................................\n",
      "[CV]  , Similarity=0.7709997855541368, KL_divergence=-0.6793370800353059, total=  21.7s\n",
      "[CV]  ................................................................\n",
      "[CV]  , Similarity=0.8789261475825775, KL_divergence=-0.457303436980287, total=  23.9s\n",
      "[CV]  ................................................................\n",
      "[CV]  , Similarity=0.9012775333624669, KL_divergence=-0.4124588798126543, total=  22.2s\n",
      "[CV]  ................................................................\n",
      "[CV]  , Similarity=0.8316645510359019, KL_divergence=-0.5039996479395212, total=  24.5s\n",
      "[CV]  ................................................................\n",
      "[CV]  , Similarity=0.77434331273076, KL_divergence=-0.7461135239033493, total=  24.7s\n",
      "[CV]  ................................................................\n",
      "[CV]  , Similarity=0.8566988697145623, KL_divergence=-0.6267629149452605, total=  25.6s\n",
      "[CV]  ................................................................\n",
      "[CV]  , Similarity=0.6838759808902802, KL_divergence=-1.1159873606233832, total=  21.9s\n",
      "[CV]  ................................................................\n"
     ]
    },
    {
     "name": "stderr",
     "output_type": "stream",
     "text": [
      "/Users/liu/anaconda3/lib/python3.7/site-packages/ipykernel_launcher.py:9: RuntimeWarning: invalid value encountered in double_scalars\n",
      "  if __name__ == '__main__':\n",
      "/Users/liu/anaconda3/lib/python3.7/site-packages/scipy/stats/_distn_infrastructure.py:2507: RuntimeWarning: invalid value encountered in true_divide\n",
      "  pk = 1.0*pk / np.sum(pk, axis=0)\n"
     ]
    },
    {
     "name": "stdout",
     "output_type": "stream",
     "text": [
      "[CV]  , Similarity=0.8671019726050084, KL_divergence=-0.497272034025434, total=  22.9s\n",
      "[CV]  ................................................................\n",
      "[CV]  , Similarity=0.8350690940386514, KL_divergence=-0.5212282252176859, total=  21.5s\n",
      "[CV]  ................................................................\n",
      "[CV]  , Similarity=0.9186855528913346, KL_divergence=-0.35935352180433966, total=  22.8s\n",
      "[CV]  ................................................................\n",
      "[CV]  , Similarity=0.8448136791786862, KL_divergence=-0.6512945715212206, total=  23.7s\n",
      "[CV]  ................................................................\n",
      "[CV]  , Similarity=0.9137026777116826, KL_divergence=-0.4421506721890065, total=  21.6s\n",
      "[CV]  ................................................................\n",
      "[CV]  , Similarity=0.8446667328456899, KL_divergence=-0.6251400545688586, total=  21.9s\n",
      "[CV]  ................................................................\n",
      "[CV]  , Similarity=0.897020788386928, KL_divergence=-0.4635958245127807, total=  21.5s\n",
      "[CV]  ................................................................\n",
      "[CV]  , Similarity=0.8598921499789118, KL_divergence=-0.5730944416167553, total=  24.2s\n",
      "[CV]  ................................................................\n",
      "[CV]  , Similarity=0.8679858219394512, KL_divergence=-0.5401832632564606, total=  22.3s\n",
      "[CV]  ................................................................\n",
      "[CV]  , Similarity=0.8438011532282106, KL_divergence=-0.5221253108980866, total=  22.6s\n",
      "[CV]  ................................................................\n",
      "[CV]  , Similarity=0.8039598007387008, KL_divergence=-0.614284499854816, total=  25.0s\n",
      "[CV]  ................................................................\n",
      "[CV]  , Similarity=0.8927349989179071, KL_divergence=-0.5046508814494522, total=  23.0s\n",
      "[CV]  ................................................................\n",
      "[CV]  , Similarity=0.8060037810196099, KL_divergence=-0.7007748533383747, total=  21.7s\n",
      "[CV]  ................................................................\n",
      "[CV]  , Similarity=0.8447453434471015, KL_divergence=-0.5927718165206678, total=  21.5s\n",
      "[CV]  ................................................................\n",
      "[CV]  , Similarity=0.9187718516272873, KL_divergence=-0.3321930838134551, total=  24.9s\n",
      "[CV]  ................................................................\n",
      "[CV]  , Similarity=0.9336837572924999, KL_divergence=-0.3469570044859315, total=  23.4s\n",
      "[CV]  ................................................................\n",
      "[CV]  , Similarity=0.7741896431335229, KL_divergence=-0.770822095117242, total=  22.2s\n",
      "[CV]  ................................................................\n",
      "[CV]  , Similarity=0.8249650582290688, KL_divergence=-0.5237207122798393, total=  23.2s\n",
      "[CV]  ................................................................\n",
      "[CV]  , Similarity=0.7671384543048909, KL_divergence=-0.7630839513885672, total=  23.0s\n",
      "[CV]  ................................................................\n",
      "[CV]  , Similarity=0.8086245607991756, KL_divergence=-0.6198082484795928, total=  21.5s\n",
      "[CV]  ................................................................\n",
      "[CV]  , Similarity=0.8006004738158202, KL_divergence=-0.7110888731769914, total=  22.5s\n",
      "[CV]  ................................................................\n",
      "[CV]  , Similarity=0.9019327845061584, KL_divergence=-0.5589276265013796, total=  20.8s\n",
      "[CV]  ................................................................\n",
      "[CV]  , Similarity=0.824488487563825, KL_divergence=-0.605478901718694, total=  22.1s\n",
      "[CV]  ................................................................\n"
     ]
    },
    {
     "name": "stderr",
     "output_type": "stream",
     "text": [
      "/Users/liu/anaconda3/lib/python3.7/site-packages/ipykernel_launcher.py:9: RuntimeWarning: invalid value encountered in double_scalars\n",
      "  if __name__ == '__main__':\n",
      "/Users/liu/anaconda3/lib/python3.7/site-packages/scipy/stats/_distn_infrastructure.py:2507: RuntimeWarning: invalid value encountered in true_divide\n",
      "  pk = 1.0*pk / np.sum(pk, axis=0)\n"
     ]
    },
    {
     "name": "stdout",
     "output_type": "stream",
     "text": [
      "[CV]  , Similarity=0.8244975779068062, KL_divergence=-0.5922775559262696, total=  21.1s\n",
      "[CV]  ................................................................\n",
      "[CV]  , Similarity=0.8405649726298805, KL_divergence=-0.48695112885546415, total=  21.3s\n",
      "[CV]  ................................................................\n",
      "[CV]  , Similarity=0.8911294585212237, KL_divergence=-0.44792298030554306, total=  21.4s\n",
      "[CV]  ................................................................\n",
      "[CV]  , Similarity=0.7936745260173794, KL_divergence=-0.6085338535061356, total=  23.8s\n",
      "[CV]  ................................................................\n",
      "[CV]  , Similarity=0.7387827301309116, KL_divergence=-0.814586527092419, total=  22.3s\n",
      "[CV]  ................................................................\n",
      "[CV]  , Similarity=0.8463883985051541, KL_divergence=-0.6026355997276466, total=  23.0s\n",
      "[CV]  ................................................................\n",
      "[CV]  , Similarity=0.8720237467175956, KL_divergence=-0.45856971959771237, total=  24.7s\n",
      "[CV]  ................................................................\n",
      "[CV]  , Similarity=0.8734022553637066, KL_divergence=-0.5081557093081205, total=  28.7s\n",
      "[CV]  ................................................................\n",
      "[CV]  , Similarity=0.7334085376311859, KL_divergence=-1.0066863434866942, total=  24.5s\n",
      "[CV]  ................................................................\n",
      "[CV]  , Similarity=0.7692066849540646, KL_divergence=-0.703027797960334, total=  22.2s\n",
      "[CV]  ................................................................\n",
      "[CV]  , Similarity=0.8151151109613844, KL_divergence=-0.677227599427273, total=  24.1s\n",
      "[CV]  ................................................................\n",
      "[CV]  , Similarity=0.8056467659311183, KL_divergence=-0.6016452404280119, total=  31.1s\n"
     ]
    },
    {
     "name": "stderr",
     "output_type": "stream",
     "text": [
      "[Parallel(n_jobs=1)]: Done  60 out of  60 | elapsed: 23.3min finished\n"
     ]
    }
   ],
   "source": [
    "# All features, class_reduced\n",
    "scoring = {'Similarity': similarity_scoring,\n",
    "           'KL_divergence': kl_divergence_scoring}\n",
    "\n",
    "X_normed = normalize(X, axis=0)\n",
    "\n",
    "the_model = 'XGBoost_Label_reduce'\n",
    "\n",
    "logo = LeaveOneGroupOut()\n",
    "split = logo.split(X_normed, y_reduced, GROUP_EP)\n",
    "model = OneVsRestClassifier(XGBClassifier())\n",
    "\n",
    "scores_ova_xgb_reduced_all = cross_validate(model, X_normed, y_reduced, cv=split, \n",
    "                                            scoring=scoring, \n",
    "                                            return_train_score=False, return_estimator=True, verbose=3)"
   ]
  },
  {
   "cell_type": "code",
   "execution_count": 26,
   "metadata": {},
   "outputs": [
    {
     "name": "stdout",
     "output_type": "stream",
     "text": [
      "XGBoost_reduced similarity: ava. 0.831, std. 0.008\n",
      "XGBoost_reduced kl_divergence: ava. 0.594, std. 0.022\n"
     ]
    }
   ],
   "source": [
    "print('XGBoost_reduced similarity: ava. %.3f, std. %.3f' % \n",
    "      (np.average(scores_ova_xgb_reduced_all['test_Similarity']), sem(scores_ova_xgb_reduced_all['test_Similarity'])))\n",
    "\n",
    "print('XGBoost_reduced kl_divergence: ava. %.3f, std. %.3f' % \n",
    "      (np.average(-scores_ova_xgb_reduced_all['test_KL_divergence']), sem(-scores_ova_xgb_reduced_all['test_KL_divergence'])))"
   ]
  },
  {
   "cell_type": "code",
   "execution_count": 34,
   "metadata": {
    "ExecuteTime": {
     "end_time": "2019-09-02T08:49:37.945030Z",
     "start_time": "2019-09-02T08:49:37.916412Z"
    }
   },
   "outputs": [],
   "source": [
    "#label_dist = [0.0656, 0.0372, 0.0864, 0.0338, 0.0260, 0.0223, 0.0338, 0.0329, 0.0306, 0.6313]\n",
    "def evaluation(X, y, \n",
    "               ignore_non_key=False, \n",
    "               rand_method=None, \n",
    "               label_dist=None, \n",
    "               label_temporal_dist=None,\n",
    "               eval_method='similarity'\n",
    "              ):\n",
    "    \n",
    "    X_restore, y_restore = sampling_restore(X, y)\n",
    "    if ignore_non_key:\n",
    "        y_restore = y_restore[:,:-1]\n",
    "    y_rand_predict = np.zeros_like(y_restore)\n",
    "    \n",
    "    for i, y_true in enumerate(y_restore):\n",
    "        if rand_method is None:\n",
    "            prob = [0, 0, 0, 0, 0, 0, 0, 0, 0, 1.0] if not ignore_non_key else [0, 0, 1.0, 0, 0, 0, 0, 0, 0]\n",
    "        elif rand_method == 'dist':\n",
    "            prob = label_dist if not ignore_non_key else label_dist[:-1]\n",
    "        elif rand_method == 'temporal_dist':\n",
    "            if ignore_non_key:\n",
    "                label_temporal = label_temporal_dist[:, :-1]\n",
    "            else:\n",
    "                label_temporal = label_temporal_dist\n",
    "            start_percentile = X_restore[i, feature_list.index('r_t_loc')]\n",
    "            end_percentile = X_restore[i + 1, feature_list.index('r_t_loc')] if i < X_restore.shape[0] - 1 else None\n",
    "            if i == X_restore.shape[0] - 1:\n",
    "                #print(int(start_percentile//0.01))\n",
    "                prob = np.average(label_temporal[int(start_percentile//0.01):], axis=0)\n",
    "            elif int(start_percentile//0.01) == int(end_percentile//0.01):\n",
    "                #print(int(start_percentile//0.01))\n",
    "                prob = label_temporal[int(start_percentile//0.01)]\n",
    "            else:\n",
    "                #print(int(start_percentile//0.01), int(end_percentile//0.01))\n",
    "                prob = np.average(label_temporal[int(start_percentile//0.01): int(end_percentile//0.01)], axis=0)\n",
    "        #y_rand_predict[i] = prob\n",
    "        y_rand_predict[i] = prob / np.sum(prob)\n",
    "        #print(y_rand_predict[i])\n",
    "        \n",
    "    if eval_method == 'similarity':\n",
    "        similarity = np.zeros(y_restore.shape[0],)\n",
    "        for i in range(y_restore.shape[0]):\n",
    "            similarity[i] = compute_cosine_similarity(y_restore[i], y_rand_predict[i])\n",
    "        return np.nanmean(similarity)\n",
    "    \n",
    "    if eval_method == 'kl_divergence':\n",
    "        kl_divergence = np.zeros(y_restore.shape[0])\n",
    "        for i in range(y_restore.shape[0]):\n",
    "            kl = compute_kl_divergence(y_restore[i], y_rand_predict[i])\n",
    "            kl_divergence[i] = kl if kl != np.inf else compute_kl_divergence(y_restore[i], y_rand_predict[i] + 1e-10)\n",
    "        return np.nanmean(kl_divergence)\n",
    "        \n",
    "    if eval_method == 'label_similarity':\n",
    "        similarity = np.zeros((y_restore.shape[1]))\n",
    "        for i in range(y_restore.shape[1]):\n",
    "            similarity[i] = compute_cosine_similarity(y_restore[:, i], y_rand_predict[:, i])\n",
    "        return similarity\n",
    "    \n",
    "    if eval_method == 'label_kl_divergence':\n",
    "        kl_divergence = np.zeros((y_restore.shape[1]))\n",
    "        for i in range(y_restore.shape[1]):\n",
    "            kl = compute_kl_divergence(y_restore[:, i], y_rand_predict[:, i])\n",
    "            kl_divergence[i] = kl if kl != np.inf else compute_kl_divergence(y_restore[:, i], y_rand_predict[:, i] + 1e-10)\n",
    "        return kl_divergence       "
   ]
  },
  {
   "cell_type": "code",
   "execution_count": 196,
   "metadata": {
    "ExecuteTime": {
     "end_time": "2019-09-02T08:49:40.859482Z",
     "start_time": "2019-09-02T08:49:39.469909Z"
    }
   },
   "outputs": [
    {
     "ename": "ValueError",
     "evalue": "could not broadcast input array from shape (10) into shape (7)",
     "output_type": "error",
     "traceback": [
      "\u001b[0;31m---------------------------------------------------------------------------\u001b[0m",
      "\u001b[0;31mValueError\u001b[0m                                Traceback (most recent call last)",
      "\u001b[0;32m<ipython-input-196-59f7d559202a>\u001b[0m in \u001b[0;36m<module>\u001b[0;34m\u001b[0m\n\u001b[1;32m     11\u001b[0m     \u001b[0;32melse\u001b[0m\u001b[0;34m:\u001b[0m\u001b[0;34m\u001b[0m\u001b[0;34m\u001b[0m\u001b[0m\n\u001b[1;32m     12\u001b[0m         \u001b[0mtest_label\u001b[0m \u001b[0;34m=\u001b[0m \u001b[0my_reduced\u001b[0m\u001b[0;34m[\u001b[0m\u001b[0mnp\u001b[0m\u001b[0;34m.\u001b[0m\u001b[0marray\u001b[0m\u001b[0;34m(\u001b[0m\u001b[0mGROUP_EP\u001b[0m\u001b[0;34m)\u001b[0m\u001b[0;34m==\u001b[0m\u001b[0mi\u001b[0m\u001b[0;34m]\u001b[0m\u001b[0;34m\u001b[0m\u001b[0;34m\u001b[0m\u001b[0m\n\u001b[0;32m---> 13\u001b[0;31m     \u001b[0mbench_similarity_most_common\u001b[0m\u001b[0;34m[\u001b[0m\u001b[0;34m'similarity'\u001b[0m\u001b[0;34m]\u001b[0m\u001b[0;34m.\u001b[0m\u001b[0mappend\u001b[0m\u001b[0;34m(\u001b[0m\u001b[0mevaluation\u001b[0m\u001b[0;34m(\u001b[0m\u001b[0mtest_data\u001b[0m\u001b[0;34m,\u001b[0m \u001b[0mtest_label\u001b[0m\u001b[0;34m,\u001b[0m \u001b[0meval_method\u001b[0m\u001b[0;34m=\u001b[0m\u001b[0;34m'similarity'\u001b[0m\u001b[0;34m)\u001b[0m\u001b[0;34m)\u001b[0m\u001b[0;34m\u001b[0m\u001b[0;34m\u001b[0m\u001b[0m\n\u001b[0m\u001b[1;32m     14\u001b[0m     \u001b[0mbench_similarity_most_common\u001b[0m\u001b[0;34m[\u001b[0m\u001b[0;34m'kl_divergence'\u001b[0m\u001b[0;34m]\u001b[0m\u001b[0;34m.\u001b[0m\u001b[0mappend\u001b[0m\u001b[0;34m(\u001b[0m\u001b[0mevaluation\u001b[0m\u001b[0;34m(\u001b[0m\u001b[0mtest_data\u001b[0m\u001b[0;34m,\u001b[0m \u001b[0mtest_label\u001b[0m\u001b[0;34m,\u001b[0m \u001b[0meval_method\u001b[0m\u001b[0;34m=\u001b[0m\u001b[0;34m'kl_divergence'\u001b[0m\u001b[0;34m)\u001b[0m\u001b[0;34m)\u001b[0m\u001b[0;34m\u001b[0m\u001b[0;34m\u001b[0m\u001b[0m\n\u001b[1;32m     15\u001b[0m     \u001b[0mbench_similarity_most_common\u001b[0m\u001b[0;34m[\u001b[0m\u001b[0;34m'label_similarity'\u001b[0m\u001b[0;34m]\u001b[0m\u001b[0;34m.\u001b[0m\u001b[0mappend\u001b[0m\u001b[0;34m(\u001b[0m\u001b[0mevaluation\u001b[0m\u001b[0;34m(\u001b[0m\u001b[0mtest_data\u001b[0m\u001b[0;34m,\u001b[0m \u001b[0mtest_label\u001b[0m\u001b[0;34m,\u001b[0m \u001b[0meval_method\u001b[0m\u001b[0;34m=\u001b[0m\u001b[0;34m'label_similarity'\u001b[0m\u001b[0;34m)\u001b[0m\u001b[0;34m)\u001b[0m\u001b[0;34m\u001b[0m\u001b[0;34m\u001b[0m\u001b[0m\n",
      "\u001b[0;32m<ipython-input-34-52ce8f8e2ab4>\u001b[0m in \u001b[0;36mevaluation\u001b[0;34m(X, y, ignore_non_key, rand_method, label_dist, label_temporal_dist, eval_method)\u001b[0m\n\u001b[1;32m     35\u001b[0m                 \u001b[0mprob\u001b[0m \u001b[0;34m=\u001b[0m \u001b[0mnp\u001b[0m\u001b[0;34m.\u001b[0m\u001b[0maverage\u001b[0m\u001b[0;34m(\u001b[0m\u001b[0mlabel_temporal\u001b[0m\u001b[0;34m[\u001b[0m\u001b[0mint\u001b[0m\u001b[0;34m(\u001b[0m\u001b[0mstart_percentile\u001b[0m\u001b[0;34m//\u001b[0m\u001b[0;36m0.01\u001b[0m\u001b[0;34m)\u001b[0m\u001b[0;34m:\u001b[0m \u001b[0mint\u001b[0m\u001b[0;34m(\u001b[0m\u001b[0mend_percentile\u001b[0m\u001b[0;34m//\u001b[0m\u001b[0;36m0.01\u001b[0m\u001b[0;34m)\u001b[0m\u001b[0;34m]\u001b[0m\u001b[0;34m,\u001b[0m \u001b[0maxis\u001b[0m\u001b[0;34m=\u001b[0m\u001b[0;36m0\u001b[0m\u001b[0;34m)\u001b[0m\u001b[0;34m\u001b[0m\u001b[0;34m\u001b[0m\u001b[0m\n\u001b[1;32m     36\u001b[0m         \u001b[0;31m#y_rand_predict[i] = prob\u001b[0m\u001b[0;34m\u001b[0m\u001b[0;34m\u001b[0m\u001b[0;34m\u001b[0m\u001b[0m\n\u001b[0;32m---> 37\u001b[0;31m         \u001b[0my_rand_predict\u001b[0m\u001b[0;34m[\u001b[0m\u001b[0mi\u001b[0m\u001b[0;34m]\u001b[0m \u001b[0;34m=\u001b[0m \u001b[0mprob\u001b[0m \u001b[0;34m/\u001b[0m \u001b[0mnp\u001b[0m\u001b[0;34m.\u001b[0m\u001b[0msum\u001b[0m\u001b[0;34m(\u001b[0m\u001b[0mprob\u001b[0m\u001b[0;34m)\u001b[0m\u001b[0;34m\u001b[0m\u001b[0;34m\u001b[0m\u001b[0m\n\u001b[0m\u001b[1;32m     38\u001b[0m         \u001b[0;31m#print(y_rand_predict[i])\u001b[0m\u001b[0;34m\u001b[0m\u001b[0;34m\u001b[0m\u001b[0;34m\u001b[0m\u001b[0m\n\u001b[1;32m     39\u001b[0m \u001b[0;34m\u001b[0m\u001b[0m\n",
      "\u001b[0;31mValueError\u001b[0m: could not broadcast input array from shape (10) into shape (7)"
     ]
    }
   ],
   "source": [
    "bench_similarity_most_common = {\n",
    "    'similarity': [],\n",
    "    'kl_divergence': [],\n",
    "    'label_similarity': [],\n",
    "    'label_kl_divergence': []\n",
    "}\n",
    "for i in range(1, 61):\n",
    "    test_data = X[np.array(GROUP_EP)==i]\n",
    "    if not reduce_list:\n",
    "        test_label = y[np.array(GROUP_EP)==i]\n",
    "    else:\n",
    "        test_label = y_reduced[np.array(GROUP_EP)==i]\n",
    "    bench_similarity_most_common['similarity'].append(evaluation(test_data, test_label, eval_method='similarity'))\n",
    "    bench_similarity_most_common['kl_divergence'].append(evaluation(test_data, test_label, eval_method='kl_divergence'))\n",
    "    bench_similarity_most_common['label_similarity'].append(evaluation(test_data, test_label, eval_method='label_similarity'))\n",
    "    bench_similarity_most_common['label_kl_divergence'].append(evaluation(test_data, test_label, eval_method='label_kl_divergence'))"
   ]
  },
  {
   "cell_type": "code",
   "execution_count": 190,
   "metadata": {
    "ExecuteTime": {
     "end_time": "2019-09-02T08:49:43.298052Z",
     "start_time": "2019-09-02T08:49:43.288798Z"
    }
   },
   "outputs": [
    {
     "name": "stdout",
     "output_type": "stream",
     "text": [
      "Similarity, most common vector: ava. nan, std. nan\n",
      "KL_divergence, most common vector: ava. nan, std. nan\n"
     ]
    },
    {
     "name": "stderr",
     "output_type": "stream",
     "text": [
      "/Users/liu/anaconda3/lib/python3.7/site-packages/numpy/lib/function_base.py:356: RuntimeWarning: Mean of empty slice.\n",
      "  avg = a.mean(axis)\n",
      "/Users/liu/anaconda3/lib/python3.7/site-packages/numpy/core/_methods.py:85: RuntimeWarning: invalid value encountered in double_scalars\n",
      "  ret = ret.dtype.type(ret / rcount)\n",
      "/Users/liu/anaconda3/lib/python3.7/site-packages/numpy/core/_methods.py:140: RuntimeWarning: Degrees of freedom <= 0 for slice\n",
      "  keepdims=keepdims)\n",
      "/Users/liu/anaconda3/lib/python3.7/site-packages/numpy/core/_methods.py:110: RuntimeWarning: invalid value encountered in true_divide\n",
      "  arrmean, rcount, out=arrmean, casting='unsafe', subok=False)\n",
      "/Users/liu/anaconda3/lib/python3.7/site-packages/numpy/core/_methods.py:132: RuntimeWarning: invalid value encountered in double_scalars\n",
      "  ret = ret.dtype.type(ret / rcount)\n"
     ]
    }
   ],
   "source": [
    "print('Similarity, most common vector: ava. %.3f, std. %.3f' % \n",
    "      (np.average(bench_similarity_most_common['similarity']), sem(bench_similarity_most_common['similarity'])))\n",
    "print('KL_divergence, most common vector: ava. %.3f, std. %.3f' % \n",
    "      (np.average(bench_similarity_most_common['kl_divergence']), sem(bench_similarity_most_common['kl_divergence'])))"
   ]
  },
  {
   "cell_type": "code",
   "execution_count": 37,
   "metadata": {
    "ExecuteTime": {
     "end_time": "2019-09-02T08:49:44.885410Z",
     "start_time": "2019-09-02T08:49:44.874189Z"
    }
   },
   "outputs": [
    {
     "name": "stdout",
     "output_type": "stream",
     "text": [
      "Label similarity, most common vector:\n",
      "[       nan        nan        nan        nan        nan        nan\n",
      "        nan        nan        nan 0.83928258]\n",
      "[-- -- -- -- -- -- -- -- -- 0.008636880347586928]\n"
     ]
    },
    {
     "name": "stderr",
     "output_type": "stream",
     "text": [
      "/Users/liu/anaconda3/lib/python3.7/site-packages/ipykernel_launcher.py:2: RuntimeWarning: Mean of empty slice\n",
      "  \n"
     ]
    }
   ],
   "source": [
    "print('Label similarity, most common vector:')\n",
    "print(np.nanmean(bench_similarity_most_common['label_similarity'], axis=0))\n",
    "print(sem(bench_similarity_most_common['label_similarity'], axis=0, nan_policy='omit'))"
   ]
  },
  {
   "cell_type": "code",
   "execution_count": 38,
   "metadata": {
    "ExecuteTime": {
     "end_time": "2019-09-02T08:49:46.669654Z",
     "start_time": "2019-09-02T08:49:46.658539Z"
    }
   },
   "outputs": [
    {
     "name": "stdout",
     "output_type": "stream",
     "text": [
      "Label kl_divergence, most common vector:\n",
      "[       nan        nan        nan        nan        nan        nan\n",
      "        nan        nan        nan 0.30388379]\n",
      "[-- -- -- -- -- -- -- -- -- 0.019781841605005443]\n"
     ]
    },
    {
     "name": "stderr",
     "output_type": "stream",
     "text": [
      "/Users/liu/anaconda3/lib/python3.7/site-packages/ipykernel_launcher.py:2: RuntimeWarning: Mean of empty slice\n",
      "  \n"
     ]
    }
   ],
   "source": [
    "print('Label kl_divergence, most common vector:')\n",
    "print(np.nanmean(bench_similarity_most_common['label_kl_divergence'], axis=0))\n",
    "print(sem(bench_similarity_most_common['label_kl_divergence'], axis=0, nan_policy='omit'))"
   ]
  },
  {
   "cell_type": "code",
   "execution_count": 39,
   "metadata": {
    "ExecuteTime": {
     "end_time": "2019-09-02T08:49:47.966170Z",
     "start_time": "2019-09-02T08:49:47.960663Z"
    }
   },
   "outputs": [],
   "source": [
    "def compute_label_distribution(train_y):\n",
    "    cnt = Counter(train_y)\n",
    "    label_prob = sorted([(i, cnt[i] / len(train_y)) for i in cnt])\n",
    "    return [pair[1] for pair in label_prob]  "
   ]
  },
  {
   "cell_type": "code",
   "execution_count": 40,
   "metadata": {
    "ExecuteTime": {
     "end_time": "2019-09-02T08:49:51.517444Z",
     "start_time": "2019-09-02T08:49:48.861607Z"
    }
   },
   "outputs": [
    {
     "name": "stderr",
     "output_type": "stream",
     "text": [
      "/Users/liu/anaconda3/lib/python3.7/site-packages/ipykernel_launcher.py:9: RuntimeWarning: invalid value encountered in double_scalars\n",
      "  if __name__ == '__main__':\n"
     ]
    }
   ],
   "source": [
    "bench_label_dist = {\n",
    "    'similarity': [],\n",
    "    'kl_divergence': [],\n",
    "    'label_similarity': [],\n",
    "    'label_kl_divergence': []\n",
    "}\n",
    "#bench_similarity_normal = []\n",
    "for i in range(1, 61):\n",
    "    train_y = y[np.array(GROUP_EP)!=i]\n",
    "    label_dist = compute_label_distribution(train_y)\n",
    "    test_data = X[np.array(GROUP_EP)==i]\n",
    "    test_label = y[np.array(GROUP_EP)==i]\n",
    "    bench_label_dist['similarity'].append(evaluation(test_data, test_label, \n",
    "                                                     rand_method='dist', \n",
    "                                                     label_dist=label_dist, \n",
    "                                                     eval_method='similarity'))\n",
    "    bench_label_dist['kl_divergence'].append(evaluation(test_data, test_label, \n",
    "                                                        rand_method='dist', \n",
    "                                                        label_dist=label_dist, \n",
    "                                                        eval_method='kl_divergence'))\n",
    "    bench_label_dist['label_similarity'].append(evaluation(test_data, test_label, \n",
    "                                                           rand_method='dist', \n",
    "                                                           label_dist=label_dist, \n",
    "                                                           eval_method='label_similarity'))\n",
    "    bench_label_dist['label_kl_divergence'].append(evaluation(test_data, test_label, \n",
    "                                                              rand_method='dist', \n",
    "                                                              label_dist=label_dist, \n",
    "                                                              eval_method='label_kl_divergence'))"
   ]
  },
  {
   "cell_type": "code",
   "execution_count": 41,
   "metadata": {
    "ExecuteTime": {
     "end_time": "2019-09-02T08:49:52.273378Z",
     "start_time": "2019-09-02T08:49:52.265646Z"
    }
   },
   "outputs": [
    {
     "name": "stdout",
     "output_type": "stream",
     "text": [
      "Similarity, label distribution: ava. 0.712, std. 0.013\n",
      "KL_divergence, label distribution: ava. 1.090, std. 0.032\n"
     ]
    }
   ],
   "source": [
    "print('Similarity, label distribution: ava. %.3f, std. %.3f' % \n",
    "      (np.average(bench_label_dist['similarity']), sem(bench_label_dist['similarity'])))\n",
    "print('KL_divergence, label distribution: ava. %.3f, std. %.3f' % \n",
    "      (np.average(bench_label_dist['kl_divergence']), sem(bench_label_dist['kl_divergence'])))"
   ]
  },
  {
   "cell_type": "code",
   "execution_count": 42,
   "metadata": {
    "ExecuteTime": {
     "end_time": "2019-09-02T08:49:53.553321Z",
     "start_time": "2019-09-02T08:49:53.542661Z"
    }
   },
   "outputs": [
    {
     "name": "stdout",
     "output_type": "stream",
     "text": [
      "Label similarity, label distribution:\n",
      "[0.34374005 0.28500921 0.43116259 0.30750266 0.27296214 0.26231644\n",
      " 0.31215032 0.25625599 0.2190544  0.83928258]\n",
      "[0.009900772316170507 0.009824116559795822 0.011484812107479862\n",
      " 0.009944325424968422 0.010016491024033894 0.008801608265086483\n",
      " 0.009060199895969106 0.0079020135682141 0.00551378110157391\n",
      " 0.008636880347586922]\n"
     ]
    }
   ],
   "source": [
    "print('Label similarity, label distribution:')\n",
    "print(np.nanmean(bench_label_dist['label_similarity'], axis=0))\n",
    "print(sem(bench_label_dist['label_similarity'], axis=0, nan_policy='omit'))"
   ]
  },
  {
   "cell_type": "code",
   "execution_count": 43,
   "metadata": {
    "ExecuteTime": {
     "end_time": "2019-09-02T08:49:54.711707Z",
     "start_time": "2019-09-02T08:49:54.703142Z"
    }
   },
   "outputs": [
    {
     "name": "stdout",
     "output_type": "stream",
     "text": [
      "Label kl_divergence, label distribution:\n",
      "[2.09167073 2.52883893 1.65538952 2.37358569 2.64972245 2.7180484\n",
      " 2.33927145 2.74619425 3.06306522 0.30388379]\n",
      "[0.06421326909848146 0.06929317014393359 0.05581357645089018\n",
      " 0.06316107207857279 0.07110854435468986 0.06559038407904354\n",
      " 0.058852536929914934 0.062388430501429476 0.051231597952331336\n",
      " 0.019781841605005453]\n"
     ]
    }
   ],
   "source": [
    "print('Label kl_divergence, label distribution:')\n",
    "print(np.nanmean(bench_label_dist['label_kl_divergence'], axis=0))\n",
    "print(sem(bench_label_dist['label_kl_divergence'], axis=0, nan_policy='omit'))"
   ]
  },
  {
   "cell_type": "code",
   "execution_count": 44,
   "metadata": {
    "ExecuteTime": {
     "end_time": "2019-09-02T08:49:56.099656Z",
     "start_time": "2019-09-02T08:49:56.079608Z"
    }
   },
   "outputs": [],
   "source": [
    "def load_ep_label_temporal(ep_list):\n",
    "    X_column_headers = ['r_t_loc']\n",
    "    y_column_headers = ['Label']\n",
    "    \n",
    "    ep_label_temporal = {}\n",
    "    \n",
    "    for ep in ep_list:\n",
    "        X = pd.DataFrame(columns=X_column_headers)\n",
    "        y = pd.DataFrame(columns=y_column_headers)\n",
    "        \n",
    "        data_file = raw_feature_dir + ep + '-Scenes.csv'\n",
    "        label_file = raw_label_dir + 'Final_Labels_' + ep + '.csv'\n",
    "        \n",
    "        ep_df = pd.read_csv(data_file, usecols=X_column_headers)\n",
    "        label_df = pd.read_csv(label_file, header=None, usecols=[1], names=y_column_headers)\n",
    "        \n",
    "        label_tuple = label_string_to_tuple(label_df)\n",
    "        label_vector_full = full_label_vector(label_tuple)\n",
    "        \n",
    "        ep_label_temporal[ep] = pd.concat([ep_df, pd.DataFrame(label_vector_full)], axis=1, sort=False)\n",
    "    \n",
    "    return ep_label_temporal\n",
    "\n",
    "def compute_temporal_label_dist(ep_label_temporal):\n",
    "    percentile = 0.01\n",
    "\n",
    "    label_temporal = np.zeros((int(1/percentile), 10))\n",
    "\n",
    "    for i, _ in enumerate(label_temporal):\n",
    "        start_time = i * percentile\n",
    "        label_vector = np.zeros((10,))\n",
    "\n",
    "        for ep in ep_label_temporal:\n",
    "            for j, scene in enumerate(ep_label_temporal[ep].values):\n",
    "                if scene[0] <= start_time:\n",
    "                    if j == (ep_label_temporal[ep].values.shape[0] - 1):\n",
    "                        label_vector += scene[1:]\n",
    "                    elif ep_label_temporal[ep].values[j+1][0] <= start_time:\n",
    "                        continue\n",
    "                    else:\n",
    "                        label_vector += scene[1:]\n",
    "                else:\n",
    "                    continue\n",
    "        label_temporal[i] = label_vector/60\n",
    "    return label_temporal"
   ]
  },
  {
   "cell_type": "code",
   "execution_count": 45,
   "metadata": {
    "ExecuteTime": {
     "end_time": "2019-09-02T08:49:57.621244Z",
     "start_time": "2019-09-02T08:49:57.044672Z"
    }
   },
   "outputs": [],
   "source": [
    "ep_label_temporal_all = load_ep_label_temporal(EP_LIST)"
   ]
  },
  {
   "cell_type": "code",
   "execution_count": 46,
   "metadata": {
    "ExecuteTime": {
     "end_time": "2019-09-02T08:57:03.113738Z",
     "start_time": "2019-09-02T08:49:58.049443Z"
    }
   },
   "outputs": [
    {
     "name": "stderr",
     "output_type": "stream",
     "text": [
      "/Users/liu/anaconda3/lib/python3.7/site-packages/ipykernel_launcher.py:9: RuntimeWarning: invalid value encountered in double_scalars\n",
      "  if __name__ == '__main__':\n"
     ]
    }
   ],
   "source": [
    "bench_temporal_label_dist = {\n",
    "                            'similarity': [],\n",
    "                            'kl_divergence': [],\n",
    "                            'label_similarity': [],\n",
    "                            'label_kl_divergence': []\n",
    "}\n",
    "for i in range(1, 61):\n",
    "    current_ep = group_ep[str(i)]\n",
    "    ep_label_temporal = {j: ep_label_temporal_all[j] for j in ep_label_temporal_all if j != current_ep}\n",
    "    label_temporal_dist = compute_temporal_label_dist(ep_label_temporal)\n",
    "    \n",
    "    test_data = X[np.array(GROUP_EP)==i]\n",
    "    test_label = y[np.array(GROUP_EP)==i]\n",
    "    bench_temporal_label_dist['similarity'].append(evaluation(test_data, test_label, \n",
    "                                                              rand_method='temporal_dist', \n",
    "                                                              label_temporal_dist=label_temporal_dist,\n",
    "                                                              eval_method='similarity'))\n",
    "    bench_temporal_label_dist['kl_divergence'].append(evaluation(test_data, test_label, \n",
    "                                                                 rand_method='temporal_dist', \n",
    "                                                                 label_temporal_dist=label_temporal_dist,\n",
    "                                                                 eval_method='kl_divergence'))\n",
    "    bench_temporal_label_dist['label_similarity'].append(evaluation(test_data, test_label, \n",
    "                                                                    rand_method='temporal_dist', \n",
    "                                                                    label_temporal_dist=label_temporal_dist,\n",
    "                                                                    eval_method='label_similarity'))\n",
    "    bench_temporal_label_dist['label_kl_divergence'].append(evaluation(test_data, test_label, \n",
    "                                                                       rand_method='temporal_dist', \n",
    "                                                                       label_temporal_dist=label_temporal_dist,\n",
    "                                                                       eval_method='label_kl_divergence'))"
   ]
  },
  {
   "cell_type": "code",
   "execution_count": 47,
   "metadata": {
    "ExecuteTime": {
     "end_time": "2019-09-02T08:58:04.471079Z",
     "start_time": "2019-09-02T08:58:04.462072Z"
    }
   },
   "outputs": [
    {
     "name": "stdout",
     "output_type": "stream",
     "text": [
      "Similarity, temporal label distribution: ava. 0.728, std. 0.007\n",
      "KL_divergence, temporal label distribution: ava. 0.867, std. 0.018\n"
     ]
    }
   ],
   "source": [
    "print('Similarity, temporal label distribution: ava. %.3f, std. %.3f' % \n",
    "      (np.average(bench_temporal_label_dist['similarity']), sem(bench_temporal_label_dist['similarity'])))\n",
    "print('KL_divergence, temporal label distribution: ava. %.3f, std. %.3f' % \n",
    "      (np.average(bench_temporal_label_dist['kl_divergence']), sem(bench_temporal_label_dist['kl_divergence'])))"
   ]
  },
  {
   "cell_type": "code",
   "execution_count": 48,
   "metadata": {
    "ExecuteTime": {
     "end_time": "2019-09-02T08:58:08.197112Z",
     "start_time": "2019-09-02T08:58:08.187329Z"
    }
   },
   "outputs": [
    {
     "name": "stdout",
     "output_type": "stream",
     "text": [
      "Label similarity, baseline_temporal_dist:\n",
      "[0.58695735 0.46109701 0.49103178 0.40440269 0.38502735 0.39060002\n",
      " 0.50311022 0.63290586 0.85650431 0.84354254]\n",
      "[0.022567349424050417 0.019359073786530564 0.018472480312295952\n",
      " 0.016902762239603814 0.023695584453979308 0.023755909544280043\n",
      " 0.023392896162186073 0.02518971509106889 0.026999170716484854\n",
      " 0.008469308817316286]\n"
     ]
    }
   ],
   "source": [
    "print('Label similarity, baseline_temporal_dist:')\n",
    "print(np.nanmean(bench_temporal_label_dist['label_similarity'], axis=0))\n",
    "print(sem(bench_temporal_label_dist['label_similarity'], axis=0, nan_policy='omit'))"
   ]
  },
  {
   "cell_type": "code",
   "execution_count": 49,
   "metadata": {
    "ExecuteTime": {
     "end_time": "2019-09-02T08:58:10.804468Z",
     "start_time": "2019-09-02T08:58:10.794642Z"
    }
   },
   "outputs": [
    {
     "name": "stdout",
     "output_type": "stream",
     "text": [
      "Label kl_divergence, baseline_temporal_dist:\n",
      "[1.36890971 1.7276017  1.45686028 1.97723051 2.11389909 2.18313797\n",
      " 1.61365279 1.14798648 0.54134431 0.29732828]\n",
      "[0.08639304951771092 0.0704788604333193 0.07439783823201153\n",
      " 0.09259870696675024 0.09328339824527061 0.13203145188122595\n",
      " 0.08313814672987062 0.07796128997795591 0.08021323389697352\n",
      " 0.018992242546813726]\n"
     ]
    }
   ],
   "source": [
    "print('Label kl_divergence, baseline_temporal_dist:')\n",
    "print(np.nanmean(bench_temporal_label_dist['label_kl_divergence'], axis=0))\n",
    "print(sem(bench_temporal_label_dist['label_kl_divergence'], axis=0, nan_policy='omit'))"
   ]
  },
  {
   "cell_type": "code",
   "execution_count": 50,
   "metadata": {
    "ExecuteTime": {
     "end_time": "2019-09-02T08:58:48.744340Z",
     "start_time": "2019-09-02T08:58:48.728553Z"
    }
   },
   "outputs": [
    {
     "name": "stdout",
     "output_type": "stream",
     "text": [
      "P-value: label_dist vs most_common: \n",
      "Ttest_relResult(statistic=24.814305819671297, pvalue=6.520588999539723e-33)\n",
      "\n",
      "\n",
      "P-value: logistic regression vs label_dist: \n",
      "Ttest_relResult(statistic=-14.728119706786327, pvalue=2.0051470166209603e-21)\n",
      "\n",
      "\n",
      "P-value: temporal label dist vs logistic regression: \n",
      "Ttest_relResult(statistic=6.152280029919212, pvalue=7.216501346409252e-08)\n",
      "\n",
      "\n",
      "P-value: XGBoost vs temporal label dist: \n",
      "Ttest_relResult(statistic=-41.223383337349354, pvalue=3.39812362196497e-45)\n"
     ]
    }
   ],
   "source": [
    "print(\"P-value: label_dist vs most_common: \")\n",
    "print(ttest_rel(bench_similarity_most_common['kl_divergence'], \n",
    "                bench_label_dist['kl_divergence'], \n",
    "                nan_policy='omit'))\n",
    "print('\\n')\n",
    "print(\"P-value: logistic regression vs label_dist: \")\n",
    "print(ttest_rel(-logistic_baseline['test_KL_divergence'], \n",
    "                bench_label_dist['kl_divergence'], \n",
    "                nan_policy='omit'))\n",
    "print('\\n')\n",
    "print(\"P-value: temporal label dist vs logistic regression: \")\n",
    "print(ttest_rel(-logistic_baseline['test_KL_divergence'], \n",
    "                bench_temporal_label_dist['kl_divergence'], \n",
    "                nan_policy='omit'))\n",
    "print('\\n')\n",
    "print(\"P-value: XGBoost vs temporal label dist: \")\n",
    "print(ttest_rel(scores_ova_xgb_all['test_KL_divergence'], \n",
    "                bench_temporal_label_dist['kl_divergence'], \n",
    "                nan_policy='omit'))"
   ]
  },
  {
   "cell_type": "markdown",
   "metadata": {},
   "source": [
    "## Feature importance"
   ]
  },
  {
   "cell_type": "code",
   "execution_count": 75,
   "metadata": {
    "ExecuteTime": {
     "end_time": "2019-12-24T10:34:10.037132Z",
     "start_time": "2019-12-24T10:33:39.306879Z"
    }
   },
   "outputs": [
    {
     "data": {
      "text/plain": [
       "XGBClassifier(base_score=0.5, booster='gbtree', colsample_bylevel=1,\n",
       "       colsample_bytree=1, gamma=0, learning_rate=0.1, max_delta_step=0,\n",
       "       max_depth=3, min_child_weight=1, missing=None, n_estimators=100,\n",
       "       n_jobs=1, nthread=None, objective='multi:softprob', random_state=0,\n",
       "       reg_alpha=0, reg_lambda=1, scale_pos_weight=1, seed=None,\n",
       "       silent=True, subsample=1)"
      ]
     },
     "execution_count": 75,
     "metadata": {},
     "output_type": "execute_result"
    }
   ],
   "source": [
    "data_train = xgboost.DMatrix(X_normed, label=y, feature_names=feature_list)\n",
    "\n",
    "feature_selection_model = XGBClassifier()\n",
    "\n",
    "feature_selection_model.fit(X_normed, y)"
   ]
  },
  {
   "cell_type": "code",
   "execution_count": 113,
   "metadata": {
    "ExecuteTime": {
     "end_time": "2019-12-24T13:39:13.316132Z",
     "start_time": "2019-12-24T13:39:12.346061Z"
    }
   },
   "outputs": [
    {
     "data": {
      "text/plain": [
       "<matplotlib.axes._subplots.AxesSubplot at 0x206a7bb748>"
      ]
     },
     "execution_count": 113,
     "metadata": {},
     "output_type": "execute_result"
    },
    {
     "data": {
      "image/png": "[encoded data removed]",
      "text/plain": [
       "<Figure size 360x360 with 1 Axes>"
      ]
     },
     "metadata": {
      "needs_background": "light"
     },
     "output_type": "display_data"
    },
    {
     "data": {
      "image/png": "[encoded data removed]",
      "text/plain": [
       "<Figure size 360x360 with 1 Axes>"
      ]
     },
     "metadata": {
      "needs_background": "light"
     },
     "output_type": "display_data"
    },
    {
     "data": {
      "image/png": "[encoded data removed]",
      "text/plain": [
       "<Figure size 360x360 with 1 Axes>"
      ]
     },
     "metadata": {
      "needs_background": "light"
     },
     "output_type": "display_data"
    }
   ],
   "source": [
    "feature_selection_model.get_booster().feature_names = feature_list\n",
    "plot_importance(feature_selection_model, title=None, xlabel='feature importance - weight', \n",
    "                importance_type='weight', show_values=False)\n",
    "plot_importance(feature_selection_model, title=None, xlabel='feature importance - gain', \n",
    "                importance_type='gain', show_values=False)\n",
    "plot_importance(feature_selection_model, title=None, xlabel='feature importance - cover',\n",
    "                importance_type='cover', show_values=False)\n",
    "\n",
    "# plt.rcParams['font.size'] = 12\n",
    "# plt.rcParams['figure.figsize'] = [5, 5]\n",
    "# plt.show()"
   ]
  },
  {
   "cell_type": "code",
   "execution_count": 50,
   "metadata": {
    "ExecuteTime": {
     "end_time": "2019-12-24T09:50:23.157085Z",
     "start_time": "2019-12-24T09:50:23.144977Z"
    }
   },
   "outputs": [
    {
     "name": "stdout",
     "output_type": "stream",
     "text": [
      "0 id\n",
      "1 clos_beg_id\n",
      "2 r_id_loc\n",
      "3 start_time\n",
      "4 dur\n",
      "5 r_t_loc\n",
      "6 sec\n",
      "7 clock_drift\n",
      "8 protagonist_appear\n",
      "9 ava_charNet_score\n"
     ]
    }
   ],
   "source": [
    "for i, f in enumerate(feature_list):\n",
    "    print(i, f)"
   ]
  },
  {
   "cell_type": "code",
   "execution_count": 54,
   "metadata": {
    "ExecuteTime": {
     "end_time": "2019-06-26T19:03:24.117997Z",
     "start_time": "2019-06-26T19:03:23.884770Z"
    }
   },
   "outputs": [
    {
     "name": "stdout",
     "output_type": "stream",
     "text": [
      "[0.07904351 0.01411491 0.21388243 0.13699767 0.18382597 0.16672201\n",
      " 0.         0.12371305 0.00564596 0.07605447]\n"
     ]
    },
    {
     "data": {
      "image/png": "[encoded data removed]",
      "text/plain": [
       "<Figure size 432x288 with 1 Axes>"
      ]
     },
     "metadata": {
      "needs_background": "light"
     },
     "output_type": "display_data"
    }
   ],
   "source": [
    "print(feature_selection_model.feature_importances_)\n",
    "# plot\n",
    "pyplot.bar(range(len(feature_selection_model.feature_importances_)), feature_selection_model.feature_importances_)\n",
    "pyplot.show()"
   ]
  },
  {
   "cell_type": "markdown",
   "metadata": {},
   "source": [
    "## Label wise statistical analysis"
   ]
  },
  {
   "cell_type": "code",
   "execution_count": 40,
   "metadata": {
    "ExecuteTime": {
     "end_time": "2019-09-02T08:59:03.501371Z",
     "start_time": "2019-09-02T08:59:03.479488Z"
    },
    "collapsed": true
   },
   "outputs": [
    {
     "name": "stdout",
     "output_type": "stream",
     "text": [
      "P-value for label: Inciting incident\n",
      "0.00030242259032517074\n",
      "P-value for label: Climax 1\n",
      "2.8686547441116516e-05\n",
      "P-value for label: Obstacle\n",
      "0.01757164104151064\n",
      "P-value for label: Midpoint\n",
      "0.47970846692851077\n",
      "P-value for label: Disaster\n",
      "0.15224664672950192\n",
      "P-value for label: Crisis\n",
      "0.6491956530487681\n",
      "P-value for label: Climax 2\n",
      "0.47830049392459173\n",
      "P-value for label: Climax 3\n",
      "0.5530345558550355\n",
      "P-value for label: Wrap-up\n",
      "0.06299518314891642\n",
      "P-value for label: Non-Key\n",
      "4.9994242512399395e-11\n"
     ]
    }
   ],
   "source": [
    "for i in range(10):\n",
    "    xgboost_label_similarity = [ep[i] for ep in model_label_similarity['XGBoost']]\n",
    "    temporal_label_similarity = [ep[i] for ep in bench_temporal_label_dist['label_similarity']]\n",
    "    print(\"P-value for label:\", label_list[i])\n",
    "    print(ttest_rel(temporal_label_similarity, xgboost_label_similarity, nan_policy='omit')[1])"
   ]
  },
  {
   "cell_type": "code",
   "execution_count": 41,
   "metadata": {
    "ExecuteTime": {
     "end_time": "2019-09-02T08:59:04.415259Z",
     "start_time": "2019-09-02T08:59:04.398823Z"
    },
    "collapsed": true
   },
   "outputs": [
    {
     "name": "stdout",
     "output_type": "stream",
     "text": [
      "P-value for label: Inciting incident\n",
      "0.012139856156990933\n",
      "P-value for label: Climax 1\n",
      "6.550354708789892e-05\n",
      "P-value for label: Obstacle\n",
      "0.01820344109073089\n",
      "P-value for label: Midpoint\n",
      "0.8384014490866363\n",
      "P-value for label: Disaster\n",
      "0.6231705198910318\n",
      "P-value for label: Crisis\n",
      "0.9029716912092267\n",
      "P-value for label: Climax 2\n",
      "0.8188144176898707\n",
      "P-value for label: Climax 3\n",
      "0.22015840043596968\n",
      "P-value for label: Wrap-up\n",
      "0.6280372526758884\n",
      "P-value for label: Non-Key\n",
      "1.9845247162822096e-07\n"
     ]
    }
   ],
   "source": [
    "for i in range(10):\n",
    "    xgboost_label_kl = [ep[i] for ep in model_kl_divergence['XGBoost']]\n",
    "    temporal_label_kl = [ep[i] for ep in bench_temporal_label_dist['label_kl_divergence']]\n",
    "    print(\"P-value for label:\", label_list[i])\n",
    "    print(ttest_rel(temporal_label_kl, xgboost_label_kl, nan_policy='omit')[1])"
   ]
  },
  {
   "cell_type": "code",
   "execution_count": 109,
   "metadata": {
    "ExecuteTime": {
     "end_time": "2019-09-02T10:27:01.063585Z",
     "start_time": "2019-09-02T10:27:00.711910Z"
    }
   },
   "outputs": [
    {
     "data": {
      "image/png": "[encoded data removed]",
      "text/plain": [
       "<Figure size 864x576 with 1 Axes>"
      ]
     },
     "metadata": {
      "needs_background": "light"
     },
     "output_type": "display_data"
    }
   ],
   "source": [
    "bar_width = 0.4\n",
    "r1 = 2*np.arange(10)\n",
    "r2 = [x + bar_width for x in r1]\n",
    "r3 = [x + bar_width for x in r2]\n",
    "r4 = [x + bar_width for x in r3]\n",
    "\n",
    "pyplot.rcParams.update({'font.size': 16})\n",
    "\n",
    "fig = pyplot.figure(figsize=(12,8))\n",
    "\n",
    "pyplot.bar(r1, \n",
    "           np.nanmean(bench_label_dist['label_kl_divergence'], axis=0), \n",
    "           yerr=1.95*sem(bench_label_dist['label_kl_divergence'], nan_policy='omit'),\n",
    "           width=bar_width,\n",
    "           capsize=3,\n",
    "           color='red',\n",
    "           label='Label_dist'\n",
    "          )\n",
    "pyplot.bar(r2, \n",
    "           np.nanmean(model_kl_divergence['Logistic'], axis=0), \n",
    "           yerr=1.95*sem(model_kl_divergence['Logistic'], nan_policy='omit'),\n",
    "           width=bar_width,\n",
    "           capsize=3,\n",
    "           color='purple',\n",
    "           label='Logistic_regression'\n",
    "          )\n",
    "pyplot.bar(r3, \n",
    "           np.nanmean(bench_temporal_label_dist['label_kl_divergence'], axis=0), \n",
    "           yerr=1.95*sem(bench_temporal_label_dist['label_kl_divergence'], nan_policy='omit'),\n",
    "           width=bar_width,\n",
    "           capsize=3,\n",
    "           color='blue',\n",
    "           label='Temporal_label_dist'\n",
    "          )\n",
    "\n",
    "pyplot.bar(r4, \n",
    "           np.nanmean(model_kl_divergence['XGBoost'], axis=0), \n",
    "           yerr=1.95*sem(model_kl_divergence['XGBoost'], nan_policy='omit'),\n",
    "           width=bar_width,\n",
    "           capsize=3,\n",
    "           color='cyan',\n",
    "           label='XGBoost'\n",
    "          )\n",
    "\n",
    "pyplot.xticks([2*(r + 0.75*bar_width) for r in range(10)], label_list, rotation='60')\n",
    "pyplot.ylabel('KL_divergence')\n",
    "pyplot.legend(ncol=2)\n",
    "\n",
    "pyplot.show()"
   ]
  },
  {
   "cell_type": "code",
   "execution_count": 111,
   "metadata": {
    "ExecuteTime": {
     "end_time": "2019-09-03T11:40:27.251502Z",
     "start_time": "2019-09-03T11:40:26.750248Z"
    }
   },
   "outputs": [
    {
     "data": {
      "image/png": "[encoded data removed]",
      "text/plain": [
       "<Figure size 864x576 with 1 Axes>"
      ]
     },
     "metadata": {
      "needs_background": "light"
     },
     "output_type": "display_data"
    }
   ],
   "source": [
    "fig2 = pyplot.figure(figsize=(12,8))\n",
    "\n",
    "pyplot.bar(r1, \n",
    "           np.nanmean(bench_label_dist['label_similarity'], axis=0), \n",
    "           yerr=1.95*sem(bench_label_dist['label_similarity'], nan_policy='omit'),\n",
    "           width=bar_width,\n",
    "           capsize=3,\n",
    "           color='red',\n",
    "           label='Label_dist'\n",
    "          )\n",
    "pyplot.bar(r2, \n",
    "           np.nanmean(model_label_similarity['Logistic'], axis=0), \n",
    "           yerr=1.95*sem(model_label_similarity['Logistic'], nan_policy='omit'),\n",
    "           width=bar_width,\n",
    "           capsize=3,\n",
    "           color='purple',\n",
    "           label='Logistic_regression'\n",
    "          )\n",
    "pyplot.bar(r3, \n",
    "           np.nanmean(bench_temporal_label_dist['label_similarity'], axis=0), \n",
    "           yerr=1.95*sem(bench_temporal_label_dist['label_similarity'], nan_policy='omit'),\n",
    "           width=bar_width,\n",
    "           capsize=3,\n",
    "           color='blue',\n",
    "           label='Temporal_label_dist'\n",
    "          )\n",
    "\n",
    "pyplot.bar(r4, \n",
    "           np.nanmean(model_label_similarity['XGBoost'], axis=0), \n",
    "           yerr=1.95*sem(model_label_similarity['XGBoost'], nan_policy='omit'),\n",
    "           width=bar_width,\n",
    "           capsize=3,\n",
    "           color='cyan',\n",
    "           label='XGBoost'\n",
    "          )\n",
    "\n",
    "pyplot.xticks([2*(r + 0.75*bar_width) for r in range(10)], label_list, rotation='60')\n",
    "pyplot.ylabel('Cosine similarity')\n",
    "pyplot.legend(ncol=2)\n",
    "\n",
    "pyplot.show()"
   ]
  },
  {
   "cell_type": "code",
   "execution_count": null,
   "metadata": {},
   "outputs": [],
   "source": []
  }
 ],
 "metadata": {
  "kernelspec": {
   "display_name": "Python 3",
   "language": "python",
   "name": "python3"
  },
  "language_info": {
   "codemirror_mode": {
    "name": "ipython",
    "version": 3
   },
   "file_extension": ".py",
   "mimetype": "text/x-python",
   "name": "python",
   "nbconvert_exporter": "python",
   "pygments_lexer": "ipython3",
   "version": "3.7.1"
  },
  "toc": {
   "base_numbering": 1,
   "nav_menu": {},
   "number_sections": true,
   "sideBar": true,
   "skip_h1_title": false,
   "title_cell": "Table of Contents",
   "title_sidebar": "Contents",
   "toc_cell": false,
   "toc_position": {},
   "toc_section_display": true,
   "toc_window_display": true
  },
  "varInspector": {
   "cols": {
    "lenName": 16,
    "lenType": 16,
    "lenVar": 40
   },
   "kernels_config": {
    "python": {
     "delete_cmd_postfix": "",
     "delete_cmd_prefix": "del ",
     "library": "var_list.py",
     "varRefreshCmd": "print(var_dic_list())"
    },
    "r": {
     "delete_cmd_postfix": ") ",
     "delete_cmd_prefix": "rm(",
     "library": "var_list.r",
     "varRefreshCmd": "cat(var_dic_list()) "
    }
   },
   "oldHeight": 122,
   "position": {
    "height": "40px",
    "left": "1010px",
    "right": "20px",
    "top": "120px",
    "width": "250px"
   },
   "types_to_exclude": [
    "module",
    "function",
    "builtin_function_or_method",
    "instance",
    "_Feature"
   ],
   "varInspector_section_display": "none",
   "window_display": true
  }
 },
 "nbformat": 4,
 "nbformat_minor": 2
}
