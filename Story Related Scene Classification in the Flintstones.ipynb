{
 "cells": [
  {
   "cell_type": "markdown",
   "metadata": {},
   "source": [
    "# Introduction\n",
    "This notebook is an implementation of experiments described in the paper \"Towards story-related classification of movie scenes\", which is submitted to the collection of \"Science of Stories\", at Plos One (url of the paper will be updated after acceptance).\n",
    "\n",
    "The features are stored in `data/features/` and the labels are stored in `data/final_annotations`, which are used in this notebook. If you are interested in the feature extraction and label computation process, please contact me: liuc@post.bgu.ac.il."
   ]
  },
  {
   "cell_type": "markdown",
   "metadata": {},
   "source": [
    "# Basic Settings\n",
    "\n",
    "First we set up the data and label directories, indicate the episodes we are going to use in the experiments, and define the feature and label list."
   ]
  },
  {
   "cell_type": "code",
   "execution_count": 19,
   "metadata": {
    "ExecuteTime": {
     "end_time": "2020-01-14T10:11:05.248943Z",
     "start_time": "2020-01-14T10:11:05.236925Z"
    }
   },
   "outputs": [],
   "source": [
    "SEASON_EP = {'1': 28,\n",
    "             '2': 32,\n",
    "             '3': 1}\n",
    "def generate_ep(SEASON_EP):\n",
    "    ep_list = []\n",
    "    for season in SEASON_EP:\n",
    "        ep_list += ['S'+season+'E'+str(ep) for ep in range(1, SEASON_EP[season]+1)]\n",
    "    ep_list.remove('S1E1')\n",
    "    return ep_list\n",
    "\n",
    "EP_LIST = generate_ep(SEASON_EP)\n",
    "\n",
    "group_ep = {}\n",
    "for i in range(60):\n",
    "    group_ep[str(i+1)] = EP_LIST[i]\n",
    "\n",
    "label_list = list([\n",
    "    \"Inciting incident\",\n",
    "    \"Climax 1\",\n",
    "    \"Obstacle\",\n",
    "    \"Midpoint\",\n",
    "    \"Disaster\",\n",
    "    \"Crisis\",\n",
    "    \"Climax 2\",\n",
    "    \"Climax 3\",\n",
    "    \"Wrap-up\",\n",
    "    \"Non-Key\"\n",
    "])\n",
    "\n",
    "reduce_list = []\n",
    "\n",
    "raw_feature_dir = './data/features/'\n",
    "raw_label_dir = './data/final_annotations/'\n",
    "\n",
    "feature_list = ['id', 'clos_beg_id', 'r_id_loc', 'start_time', 'dur', 'r_t_loc', 'sec', \n",
    "                'clock_drift', 'protagonist_appear', 'ava_charNet_score']"
   ]
  },
  {
   "cell_type": "markdown",
   "metadata": {},
   "source": [
    "Then import the packages we are going to use, and define some useful functions."
   ]
  },
  {
   "cell_type": "code",
   "execution_count": 2,
   "metadata": {
    "ExecuteTime": {
     "end_time": "2020-01-14T09:59:53.848283Z",
     "start_time": "2020-01-14T09:59:49.647271Z"
    }
   },
   "outputs": [],
   "source": [
    "import os\n",
    "import re\n",
    "from fractions import Fraction\n",
    "import pandas as pd\n",
    "import numpy as np\n",
    "from numpy.linalg import norm\n",
    "import shap\n",
    "import xgboost\n",
    "\n",
    "from scipy.stats import entropy, ttest_rel, sem\n",
    "\n",
    "from sklearn.linear_model import LogisticRegression\n",
    "from sklearn.preprocessing import normalize\n",
    "from sklearn.preprocessing import LabelBinarizer\n",
    "from sklearn.multiclass import OneVsRestClassifier\n",
    "from sklearn.model_selection import cross_validate\n",
    "from sklearn.model_selection import LeaveOneGroupOut\n",
    "from sklearn.preprocessing import normalize\n",
    "from sklearn.metrics import make_scorer\n",
    "\n",
    "from xgboost import XGBClassifier\n",
    "from xgboost import plot_importance\n",
    "\n",
    "from collections import Counter\n",
    "\n",
    "from matplotlib import pyplot\n",
    "import matplotlib.pyplot as plt"
   ]
  },
  {
   "cell_type": "markdown",
   "metadata": {},
   "source": [
    "# Data analytics and preprocessing\n",
    "Now we will load the data and labels and analyze the agreement among human annotators. The data will be over-sampled for training. "
   ]
  },
  {
   "cell_type": "code",
   "execution_count": 4,
   "metadata": {
    "ExecuteTime": {
     "end_time": "2020-01-14T09:59:53.925344Z",
     "start_time": "2020-01-14T09:59:53.860422Z"
    }
   },
   "outputs": [],
   "source": [
    "def label_string_to_tuple(y, class_reduce_list=[]):\n",
    "    \"\"\"\n",
    "    Originally, the annotations are in the format of strings.\n",
    "    We need to convert it into tuple format for future operating.\n",
    "    \n",
    "    @input: df_label, a DataFrame format data structure that is read from csv using pd.read_csv()\n",
    "    @output: labels_tuple, a list, each element is a list of tuples: (label, prob)\n",
    "    \"\"\"\n",
    "    \n",
    "    y_tuple = []\n",
    "    \n",
    "    for label in y['Label'].values:\n",
    "        labels = re.findall('\\(([^)]+)', label[1:-1])\n",
    "        label_per_scene = []\n",
    "        prob_nk = 0\n",
    "        for l in labels:\n",
    "            lab = l.split(',')[0][1:-1]\n",
    "            prob = float(l.split(',')[1][1:])\n",
    "            if lab in class_reduce_list:\n",
    "                prob_nk += prob\n",
    "            else:\n",
    "                label_per_scene.append((lab, prob))\n",
    "        if prob_nk != 0:\n",
    "            label_per_scene.append(('Non-Key', prob_nk))\n",
    "        scene_label = np.array(label_per_scene, dtype=object)\n",
    "        y_tuple.append(scene_label)\n",
    "    return np.array(y_tuple)\n",
    "\n",
    "def find_least_multiple(y_tuple):\n",
    "    num_annotators = []\n",
    "    \n",
    "    for scene in y_tuple:\n",
    "        for s in scene:\n",
    "            num_annotators.append(Fraction(s[1]).limit_denominator().denominator)\n",
    "    unique = np.unique(num_annotators)\n",
    "    least_multiple = np.lcm.reduce(unique)\n",
    "    print(\"Found least common multiple: \", least_multiple)\n",
    "    \n",
    "    return least_multiple\n",
    "\n",
    "def oversample_label(y_tuple, scale):  \n",
    "    oversampled_label = []\n",
    "    for scene in y_tuple:\n",
    "        oversampled_scene_labels = []\n",
    "        for i in range(1, len(scene) + 1):\n",
    "            oversampled_scene_labels += [scene[i-1][0]] * round(scene[i-1][1] * int(scale))\n",
    "        oversampled_label.append(oversampled_scene_labels)\n",
    "        \n",
    "    oversample_label = np.array(oversampled_label)\n",
    "    print(oversample_label.shape)\n",
    "    \n",
    "    y_sampled = []\n",
    "    for i in range(oversample_label.shape[1]):\n",
    "        y_sampled += list(oversample_label[:,i])\n",
    "    \n",
    "    return np.array(y_sampled)\n",
    "\n",
    "def least_multiple_oversample(X, y):\n",
    "    oversample_scale = find_least_multiple(y)\n",
    "    \n",
    "    # oversample features\n",
    "    X_sampled = np.tile(X, (oversample_scale, 1))\n",
    "\n",
    "    # oversample labels\n",
    "    y_sampled = oversample_label(y, oversample_scale)\n",
    "    \n",
    "    return X_sampled, y_sampled, oversample_scale\n",
    "\n",
    "def label_to_numbers(y_sampled):\n",
    "    y_number_sampled = []\n",
    "    \n",
    "    for y in y_sampled:\n",
    "        y_number_sampled.append(label_list.index(y) + 1)\n",
    "        \n",
    "    return np.array(y_number_sampled)"
   ]
  },
  {
   "cell_type": "code",
   "execution_count": 5,
   "metadata": {
    "ExecuteTime": {
     "end_time": "2020-01-14T09:59:55.205964Z",
     "start_time": "2020-01-14T09:59:55.191480Z"
    }
   },
   "outputs": [],
   "source": [
    "def load_data(EP_LIST, \n",
    "              sample=True, \n",
    "              class_reduce=False, \n",
    "              return_tuple=False):\n",
    "    X_column_headers = feature_list\n",
    "    y_column_headers = ['Label']\n",
    "    X = pd.DataFrame(columns=X_column_headers)\n",
    "    y = pd.DataFrame(columns=y_column_headers)\n",
    "    \n",
    "    for ep in EP_LIST:\n",
    "        data_file = raw_feature_dir + ep + '-Scenes.csv'\n",
    "        label_file = raw_label_dir + 'Final_Labels_' + ep + '.csv'\n",
    "        \n",
    "        ep_df = pd.read_csv(data_file, usecols=X_column_headers)\n",
    "        label_df = pd.read_csv(label_file, header=None, usecols=[1] ,names=y_column_headers)\n",
    "        \n",
    "        X = X.append(ep_df, sort=False)\n",
    "        y = pd.concat([y, label_df])\n",
    "    if not class_reduce:\n",
    "        y_tuple = label_string_to_tuple(y)\n",
    "    else:\n",
    "        y_tuple = label_string_to_tuple(y, class_reduce_list=reduce_list)\n",
    "    \n",
    "    if sample:\n",
    "        X_data, y_data, scale = least_multiple_oversample(X.values, y_tuple)\n",
    "        y_data = label_to_numbers(y_data)\n",
    "    else:\n",
    "        pass\n",
    "    \n",
    "    if return_tuple:\n",
    "        return y_tuple\n",
    "    else:\n",
    "        return X_data, y_data, scale\n",
    "\n",
    "def group_generation(X, scale):\n",
    "    scene_id = list(X[:int(len(X)/scale),0])\n",
    "    group_ep = []\n",
    "\n",
    "    num_scenes = []\n",
    "    count = 1\n",
    "    for i in range(len(scene_id)):\n",
    "        if scene_id[i] == 1.0:\n",
    "            num_scenes.append(count)\n",
    "            count = 1\n",
    "        else:\n",
    "            count += 1\n",
    "\n",
    "    num_scenes.remove(1.0)\n",
    "    num_scenes.append(scene_id[-1])\n",
    "\n",
    "    for i in range(1, len(num_scenes) + 1):\n",
    "        group_ep += [i] * int(num_scenes[i-1])\n",
    "    \n",
    "    groups = group_ep * scale\n",
    "    return groups"
   ]
  },
  {
   "cell_type": "code",
   "execution_count": 6,
   "metadata": {
    "ExecuteTime": {
     "end_time": "2020-01-14T09:59:55.984846Z",
     "start_time": "2020-01-14T09:59:55.977937Z"
    }
   },
   "outputs": [],
   "source": [
    "def get_scene_majority(scene_annotations):\n",
    "    if len(scene_annotations) == 1:\n",
    "        label = scene_annotations[0][0]\n",
    "        prob = scene_annotations[0][1]\n",
    "        return label, prob\n",
    "    else:\n",
    "        for annotation in scene_annotations:\n",
    "            label = annotation[0]\n",
    "            prob = annotation[1]\n",
    "            if prob >= 0.5:\n",
    "                return label, prob\n",
    "    return None, None"
   ]
  },
  {
   "cell_type": "markdown",
   "metadata": {},
   "source": [
    "Set `return_tuple` to `True` in order to obtain the label in tuples, so that we can compute the human agreement."
   ]
  },
  {
   "cell_type": "code",
   "execution_count": 7,
   "metadata": {
    "ExecuteTime": {
     "end_time": "2020-01-14T09:59:57.200708Z",
     "start_time": "2020-01-14T09:59:56.535100Z"
    }
   },
   "outputs": [
    {
     "name": "stdout",
     "output_type": "stream",
     "text": [
      "Found least common multiple:  60\n",
      "(1569, 60)\n"
     ]
    }
   ],
   "source": [
    "y_tuple = load_data(EP_LIST, return_tuple=True)"
   ]
  },
  {
   "cell_type": "code",
   "execution_count": 8,
   "metadata": {
    "ExecuteTime": {
     "end_time": "2020-01-14T09:59:58.145831Z",
     "start_time": "2020-01-14T09:59:58.136643Z"
    }
   },
   "outputs": [],
   "source": [
    "label_statistic = {\n",
    "    'disagree': 0,\n",
    "    'agree': 0,\n",
    "    'major_nk': 0,\n",
    "    'all_nk': 0,\n",
    "    'major_k': 0,\n",
    "    'all_k': 0\n",
    "}\n",
    "for a in y_tuple:\n",
    "    label, prob = get_scene_majority(a)\n",
    "    if not label:\n",
    "        label_statistic['disagree'] += 1\n",
    "    else:\n",
    "        label_statistic['agree'] += 1\n",
    "        if label == 'Non-Key':\n",
    "            label_statistic['major_nk'] += 1\n",
    "            if prob == 1.0:\n",
    "                label_statistic['all_nk'] += 1\n",
    "        else:\n",
    "            label_statistic['major_k'] += 1\n",
    "            if prob == 1.0:\n",
    "                label_statistic['all_k'] += 1"
   ]
  },
  {
   "cell_type": "code",
   "execution_count": 9,
   "metadata": {
    "ExecuteTime": {
     "end_time": "2020-01-14T09:59:58.984788Z",
     "start_time": "2020-01-14T09:59:58.974221Z"
    }
   },
   "outputs": [
    {
     "data": {
      "text/plain": [
       "{'disagree': 117,\n",
       " 'agree': 1452,\n",
       " 'major_nk': 999,\n",
       " 'all_nk': 625,\n",
       " 'major_k': 453,\n",
       " 'all_k': 92}"
      ]
     },
     "execution_count": 9,
     "metadata": {},
     "output_type": "execute_result"
    }
   ],
   "source": [
    "label_statistic"
   ]
  },
  {
   "cell_type": "markdown",
   "metadata": {},
   "source": [
    "Now we load the data for classification, and the data is automatically oversampled."
   ]
  },
  {
   "cell_type": "code",
   "execution_count": 10,
   "metadata": {
    "ExecuteTime": {
     "end_time": "2020-01-14T10:00:00.931305Z",
     "start_time": "2020-01-14T10:00:00.304962Z"
    }
   },
   "outputs": [
    {
     "name": "stdout",
     "output_type": "stream",
     "text": [
      "Found least common multiple:  60\n",
      "(1569, 60)\n",
      "(94140, 10) (94140,)\n"
     ]
    }
   ],
   "source": [
    "X, y, scale = load_data(EP_LIST)\n",
    "GROUP_EP=group_generation(X, scale)\n",
    "print(X.shape, y.shape)"
   ]
  },
  {
   "cell_type": "markdown",
   "metadata": {},
   "source": [
    "# Build models\n",
    "In this section we define the custome scoring metrics, build up baseline models and XGBoost models.\n",
    "## Define custome scoring metrics used by sklearn\n",
    "We define two custome scoring metrics: cosine similarity and KL divergence. "
   ]
  },
  {
   "cell_type": "code",
   "execution_count": 13,
   "metadata": {
    "ExecuteTime": {
     "end_time": "2020-01-14T10:06:28.969687Z",
     "start_time": "2020-01-14T10:06:28.957945Z"
    }
   },
   "outputs": [],
   "source": [
    "def sampling_restore(X_sampled, y_sampled):\n",
    "    if int(len(X_sampled)/60) != int(len(y_sampled)/60):\n",
    "        print(\"Wrong shape when doing sampling restore!\")\n",
    "    \n",
    "    ep_len = int(len(X_sampled)/60)\n",
    "    X_restore = X_sampled[:ep_len]\n",
    "\n",
    "    y_restore = np.zeros((ep_len, len(label_list)))\n",
    "\n",
    "    for i, label in enumerate(y_sampled):\n",
    "        y_restore[i%ep_len, (label-1)] += 1\n",
    "\n",
    "    y_restore = y_restore/60\n",
    "    \n",
    "    if not reduce_list:\n",
    "        return X_restore, y_restore\n",
    "    else:\n",
    "        reduce_idx = np.array([label_list.index(l) for l in reduce_list if l != 'Non-Key'])\n",
    "        y_restore = np.delete(y_restore, reduce_idx, axis=1)\n",
    "        return X_restore, y_restore\n",
    "\n",
    "def full_label_vector(y):\n",
    "    y_full = np.zeros((y.shape[0], len(label_list)), dtype=np.float32)\n",
    "    for index, new_y in enumerate(y_full):\n",
    "        for annotation in y[index]:\n",
    "            label, prob = annotation[0], annotation[1]\n",
    "            new_y[label_list.index(label)] = prob  \n",
    "    return y_full"
   ]
  },
  {
   "cell_type": "code",
   "execution_count": 14,
   "metadata": {
    "ExecuteTime": {
     "end_time": "2020-01-14T10:06:30.077645Z",
     "start_time": "2020-01-14T10:06:30.072358Z"
    }
   },
   "outputs": [],
   "source": [
    "def compute_kl_divergence(pk, qk):\n",
    "    '''\n",
    "    pk: true distribution\n",
    "    qk: predicted distribution\n",
    "    '''\n",
    "    return entropy(pk, qk)\n",
    "\n",
    "def compute_cosine_similarity(pk, qk):\n",
    "    return np.inner(pk, qk)/(norm(pk) * norm(qk))"
   ]
  },
  {
   "cell_type": "markdown",
   "metadata": {},
   "source": [
    "Here we need a back up of results from different models, so that they will not be overrided and we can further analyze the results later."
   ]
  },
  {
   "cell_type": "code",
   "execution_count": 15,
   "metadata": {
    "ExecuteTime": {
     "end_time": "2020-01-14T10:06:31.675796Z",
     "start_time": "2020-01-14T10:06:31.669644Z"
    }
   },
   "outputs": [],
   "source": [
    "the_model = None\n",
    "model_label_similarity = {'Logistic': [],\n",
    "                          'XGBoost': [],\n",
    "                          'XGBoost_basic': [],\n",
    "                          'XGBoost_Label_reduce': []\n",
    "                         }\n",
    "\n",
    "model_kl_divergence = {'Logistic': [],\n",
    "                       'XGBoost': [],\n",
    "                       'XGBoost_basic': [],\n",
    "                       'XGBoost_Label_reduce': []\n",
    "                      }"
   ]
  },
  {
   "cell_type": "code",
   "execution_count": 17,
   "metadata": {
    "ExecuteTime": {
     "end_time": "2020-01-14T10:07:55.871558Z",
     "start_time": "2020-01-14T10:07:55.856477Z"
    }
   },
   "outputs": [],
   "source": [
    "## Implementation of our customized score function\n",
    "## It measure the similarity and Kl divergence between predict class probability vectors and the true class distribution\n",
    "def similarity_scoring(model, X, y):\n",
    "    X_restore, y_restore = sampling_restore(X, y)\n",
    "    y_predict_proba = model.predict_proba(X_restore)\n",
    "    \n",
    "    if the_model not in model_label_similarity:\n",
    "        model_label_similarity[the_model] = []\n",
    "    \n",
    "    similarity = np.zeros(y_restore.shape[0])\n",
    "    if y_restore.shape == y_predict_proba.shape:\n",
    "        for i in range(y_restore.shape[0]):\n",
    "            similarity[i] = compute_cosine_similarity(y_restore[i], y_predict_proba[i])\n",
    "    else:\n",
    "        print(\"Wrong shape when calculating similarity!\")\n",
    "        print(\"Predicted shape: \", y_predict_proba.shape)\n",
    "        print(\"Restored shape: \", y_restore.shape)\n",
    "    \n",
    "    label_similarity = np.zeros((y_restore.shape[1]))\n",
    "    for i in range(y_restore.shape[1]):\n",
    "        label_similarity[i] = compute_cosine_similarity(y_restore[:, i], y_predict_proba[:, i])\n",
    "    \n",
    "    model_label_similarity[the_model].append(label_similarity)\n",
    "    \n",
    "    return np.average(similarity)\n",
    "\n",
    "def kl_divergence_scoring(model, X, y):\n",
    "    X_restore, y_restore = sampling_restore(X, y)\n",
    "    y_predict_proba = model.predict_proba(X_restore)\n",
    "    \n",
    "    if the_model not in model_kl_divergence:\n",
    "        model_kl_divergence[the_model] = []\n",
    "    \n",
    "    kl_divergence = np.zeros(y_restore.shape[0])\n",
    "    if y_restore.shape == y_predict_proba.shape:\n",
    "        for i in range(y_restore.shape[0]):\n",
    "            #Negative KL divergence because we need the score to be the higher the better.\n",
    "            kl_divergence[i] = -compute_kl_divergence(y_restore[i], y_predict_proba[i])\n",
    "    else:\n",
    "        print(\"Wrong shape when calculating kl divergence!\")\n",
    "    \n",
    "    label_kl_divergence = np.zeros((y_restore.shape[1]))\n",
    "    for i in range(y_restore.shape[1]):\n",
    "        label_kl_divergence[i] = compute_kl_divergence(y_restore[:, i], y_predict_proba[:, i])\n",
    "        \n",
    "\n",
    "    model_kl_divergence[the_model].append(label_kl_divergence)\n",
    "    \n",
    "    return np.average(kl_divergence)"
   ]
  },
  {
   "cell_type": "markdown",
   "metadata": {},
   "source": [
    "## Baseline: Logistic Regression with all features"
   ]
  },
  {
   "cell_type": "code",
   "execution_count": 53,
   "metadata": {
    "ExecuteTime": {
     "end_time": "2020-01-14T10:40:43.344943Z",
     "start_time": "2020-01-14T10:38:37.689407Z"
    },
    "scrolled": true
   },
   "outputs": [
    {
     "name": "stderr",
     "output_type": "stream",
     "text": [
      "[Parallel(n_jobs=1)]: Using backend SequentialBackend with 1 concurrent workers.\n"
     ]
    },
    {
     "name": "stdout",
     "output_type": "stream",
     "text": [
      "[CV]  ................................................................\n",
      "[CV] ................................................. , total=   1.7s\n",
      "[CV]  ................................................................\n"
     ]
    },
    {
     "name": "stderr",
     "output_type": "stream",
     "text": [
      "[Parallel(n_jobs=1)]: Done   1 out of   1 | elapsed:    1.7s remaining:    0.0s\n"
     ]
    },
    {
     "name": "stdout",
     "output_type": "stream",
     "text": [
      "[CV] ................................................. , total=   2.0s\n",
      "[CV]  ................................................................\n",
      "[CV] ................................................. , total=   2.2s\n",
      "[CV]  ................................................................\n",
      "[CV] ................................................. , total=   1.9s\n",
      "[CV]  ................................................................\n",
      "[CV] ................................................. , total=   1.8s\n",
      "[CV]  ................................................................\n"
     ]
    },
    {
     "name": "stderr",
     "output_type": "stream",
     "text": [
      "/Users/liu/anaconda3/lib/python3.7/site-packages/ipykernel_launcher.py:9: RuntimeWarning: invalid value encountered in double_scalars\n",
      "  if __name__ == '__main__':\n",
      "/Users/liu/anaconda3/lib/python3.7/site-packages/scipy/stats/_distn_infrastructure.py:2507: RuntimeWarning: invalid value encountered in true_divide\n",
      "  pk = 1.0*pk / np.sum(pk, axis=0)\n"
     ]
    },
    {
     "name": "stdout",
     "output_type": "stream",
     "text": [
      "[CV] ................................................. , total=   1.9s\n",
      "[CV]  ................................................................\n",
      "[CV] ................................................. , total=   1.9s\n",
      "[CV]  ................................................................\n",
      "[CV] ................................................. , total=   1.7s\n",
      "[CV]  ................................................................\n",
      "[CV] ................................................. , total=   1.9s\n",
      "[CV]  ................................................................\n",
      "[CV] ................................................. , total=   1.7s\n",
      "[CV]  ................................................................\n",
      "[CV] ................................................. , total=   1.8s\n",
      "[CV]  ................................................................\n",
      "[CV] ................................................. , total=   1.8s\n",
      "[CV]  ................................................................\n",
      "[CV] ................................................. , total=   2.1s\n",
      "[CV]  ................................................................\n",
      "[CV] ................................................. , total=   1.9s\n",
      "[CV]  ................................................................\n",
      "[CV] ................................................. , total=   1.8s\n",
      "[CV]  ................................................................\n",
      "[CV] ................................................. , total=   1.7s\n",
      "[CV]  ................................................................\n",
      "[CV] ................................................. , total=   1.6s\n",
      "[CV]  ................................................................\n",
      "[CV] ................................................. , total=   1.7s\n",
      "[CV]  ................................................................\n",
      "[CV] ................................................. , total=   1.7s\n",
      "[CV]  ................................................................\n",
      "[CV] ................................................. , total=   1.5s\n",
      "[CV]  ................................................................\n",
      "[CV] ................................................. , total=   1.8s\n",
      "[CV]  ................................................................\n",
      "[CV] ................................................. , total=   1.7s\n",
      "[CV]  ................................................................\n",
      "[CV] ................................................. , total=   1.8s\n",
      "[CV]  ................................................................\n",
      "[CV] ................................................. , total=   1.4s\n",
      "[CV]  ................................................................\n",
      "[CV] ................................................. , total=   2.7s\n",
      "[CV]  ................................................................\n"
     ]
    },
    {
     "name": "stderr",
     "output_type": "stream",
     "text": [
      "/Users/liu/anaconda3/lib/python3.7/site-packages/ipykernel_launcher.py:9: RuntimeWarning: invalid value encountered in double_scalars\n",
      "  if __name__ == '__main__':\n",
      "/Users/liu/anaconda3/lib/python3.7/site-packages/scipy/stats/_distn_infrastructure.py:2507: RuntimeWarning: invalid value encountered in true_divide\n",
      "  pk = 1.0*pk / np.sum(pk, axis=0)\n"
     ]
    },
    {
     "name": "stdout",
     "output_type": "stream",
     "text": [
      "[CV] ................................................. , total=   1.6s\n",
      "[CV]  ................................................................\n",
      "[CV] ................................................. , total=   4.4s\n",
      "[CV]  ................................................................\n",
      "[CV] ................................................. , total=   4.0s\n",
      "[CV]  ................................................................\n",
      "[CV] ................................................. , total=   3.6s\n",
      "[CV]  ................................................................\n",
      "[CV] ................................................. , total=   2.5s\n",
      "[CV]  ................................................................\n",
      "[CV] ................................................. , total=   1.5s\n",
      "[CV]  ................................................................\n",
      "[CV] ................................................. , total=   1.4s\n",
      "[CV]  ................................................................\n",
      "[CV] ................................................. , total=   1.5s\n",
      "[CV]  ................................................................\n",
      "[CV] ................................................. , total=   1.5s\n",
      "[CV]  ................................................................\n",
      "[CV] ................................................. , total=   1.5s\n",
      "[CV]  ................................................................\n",
      "[CV] ................................................. , total=   1.4s\n",
      "[CV]  ................................................................\n",
      "[CV] ................................................. , total=   1.6s\n",
      "[CV]  ................................................................\n",
      "[CV] ................................................. , total=   1.5s\n",
      "[CV]  ................................................................\n",
      "[CV] ................................................. , total=   1.4s\n",
      "[CV]  ................................................................\n",
      "[CV] ................................................. , total=   1.4s\n",
      "[CV]  ................................................................\n",
      "[CV] ................................................. , total=   3.9s\n",
      "[CV]  ................................................................\n",
      "[CV] ................................................. , total=   2.6s\n",
      "[CV]  ................................................................\n",
      "[CV] ................................................. , total=   2.9s\n",
      "[CV]  ................................................................\n",
      "[CV] ................................................. , total=   3.0s\n",
      "[CV]  ................................................................\n",
      "[CV] ................................................. , total=   2.7s\n",
      "[CV]  ................................................................\n",
      "[CV] ................................................. , total=   2.7s\n",
      "[CV]  ................................................................\n",
      "[CV] ................................................. , total=   2.2s\n",
      "[CV]  ................................................................\n",
      "[CV] ................................................. , total=   2.3s\n",
      "[CV]  ................................................................\n"
     ]
    },
    {
     "name": "stderr",
     "output_type": "stream",
     "text": [
      "/Users/liu/anaconda3/lib/python3.7/site-packages/ipykernel_launcher.py:9: RuntimeWarning: invalid value encountered in double_scalars\n",
      "  if __name__ == '__main__':\n",
      "/Users/liu/anaconda3/lib/python3.7/site-packages/scipy/stats/_distn_infrastructure.py:2507: RuntimeWarning: invalid value encountered in true_divide\n",
      "  pk = 1.0*pk / np.sum(pk, axis=0)\n"
     ]
    },
    {
     "name": "stdout",
     "output_type": "stream",
     "text": [
      "[CV] ................................................. , total=   1.8s\n",
      "[CV]  ................................................................\n",
      "[CV] ................................................. , total=   1.9s\n",
      "[CV]  ................................................................\n",
      "[CV] ................................................. , total=   2.6s\n",
      "[CV]  ................................................................\n",
      "[CV] ................................................. , total=   3.4s\n",
      "[CV]  ................................................................\n",
      "[CV] ................................................. , total=   2.1s\n",
      "[CV]  ................................................................\n",
      "[CV] ................................................. , total=   1.9s\n",
      "[CV]  ................................................................\n",
      "[CV] ................................................. , total=   1.9s\n",
      "[CV]  ................................................................\n",
      "[CV] ................................................. , total=   2.4s\n",
      "[CV]  ................................................................\n",
      "[CV] ................................................. , total=   2.5s\n",
      "[CV]  ................................................................\n",
      "[CV] ................................................. , total=   2.2s\n",
      "[CV]  ................................................................\n",
      "[CV] ................................................. , total=   2.0s\n",
      "[CV]  ................................................................\n",
      "[CV] ................................................. , total=   2.4s\n"
     ]
    },
    {
     "name": "stderr",
     "output_type": "stream",
     "text": [
      "[Parallel(n_jobs=1)]: Done  60 out of  60 | elapsed:  2.1min finished\n"
     ]
    }
   ],
   "source": [
    "# Logistic Regression Baseline\n",
    "X_normed = normalize(X, axis=0)\n",
    "\n",
    "logo = LeaveOneGroupOut()\n",
    "split = logo.split(X_normed, y, GROUP_EP)\n",
    "scoring = {'Similarity': similarity_scoring,\n",
    "           'KL_divergence': kl_divergence_scoring}\n",
    "\n",
    "model = LogisticRegression(solver='lbfgs', multi_class='multinomial')\n",
    "\n",
    "the_model = 'Logistic'\n",
    "\n",
    "logistic_baseline = cross_validate(model, X_normed, y, cv=split, \n",
    "                                   scoring=scoring, \n",
    "                                   return_train_score=False, return_estimator=True, verbose=2)"
   ]
  },
  {
   "cell_type": "code",
   "execution_count": 54,
   "metadata": {
    "ExecuteTime": {
     "end_time": "2020-01-14T10:40:54.642728Z",
     "start_time": "2020-01-14T10:40:54.635419Z"
    }
   },
   "outputs": [
    {
     "name": "stdout",
     "output_type": "stream",
     "text": [
      "Logistic similarity: ava. 0.718, std. 0.013\n",
      "Logistic kl_divergence: ava. 1.046, std. 0.031\n"
     ]
    }
   ],
   "source": [
    "print('Logistic similarity: ava. %.3f, std. %.3f' % \n",
    "      (np.average(logistic_baseline['test_Similarity']), sem(logistic_baseline['test_Similarity'])))\n",
    "\n",
    "print('Logistic kl_divergence: ava. %.3f, std. %.3f' % \n",
    "      (np.average(-logistic_baseline['test_KL_divergence']), sem(-logistic_baseline['test_KL_divergence'])))"
   ]
  },
  {
   "cell_type": "code",
   "execution_count": 18,
   "metadata": {
    "ExecuteTime": {
     "end_time": "2019-09-03T13:45:03.160934Z",
     "start_time": "2019-09-03T13:45:03.147562Z"
    }
   },
   "outputs": [
    {
     "name": "stdout",
     "output_type": "stream",
     "text": [
      "Label similarity, logistic_regression:\n",
      "[0.39681255 0.30731824 0.43604488 0.31855511 0.29038782 0.27896306\n",
      " 0.34265871 0.28815421 0.24543012 0.8522055 ]\n",
      "[0.0103945552203636 0.010760821066093789 0.011048450063420564\n",
      " 0.01045791082063875 0.011179893658396783 0.010030956839975213\n",
      " 0.010397671834218756 0.009022410356482902 0.005538135756269406\n",
      " 0.007970536693395938]\n"
     ]
    }
   ],
   "source": [
    "print('Label similarity, logistic_regression:')\n",
    "print(np.nanmean(model_label_similarity['Logistic'], axis=0))\n",
    "print(sem(model_label_similarity['Logistic'], axis=0, nan_policy='omit'))"
   ]
  },
  {
   "cell_type": "code",
   "execution_count": 19,
   "metadata": {
    "ExecuteTime": {
     "end_time": "2019-09-03T13:45:03.763006Z",
     "start_time": "2019-09-03T13:45:03.744750Z"
    }
   },
   "outputs": [
    {
     "name": "stdout",
     "output_type": "stream",
     "text": [
      "Label kl_divergence, logistic_regression:\n",
      "[1.94221775 2.45344329 1.64057095 2.33842889 2.58801494 2.65900122\n",
      " 2.24461334 2.62540847 2.94150719 0.28739579]\n",
      "[0.06040955106577388 0.06897400493097892 0.05430068546893383\n",
      " 0.06383541765513992 0.07181458102070792 0.06769048860374526\n",
      " 0.05890117881374444 0.062310744444273494 0.04863056666285239\n",
      " 0.018756049387736236]\n"
     ]
    }
   ],
   "source": [
    "print('Label kl_divergence, logistic_regression:')\n",
    "print(np.nanmean(model_kl_divergence['Logistic'], axis=0))\n",
    "print(sem(model_kl_divergence['Logistic'], axis=0, nan_policy='omit'))"
   ]
  },
  {
   "cell_type": "markdown",
   "metadata": {},
   "source": [
    "## XGBoost with all features"
   ]
  },
  {
   "cell_type": "code",
   "execution_count": null,
   "metadata": {
    "ExecuteTime": {
     "end_time": "2019-12-24T08:07:03.392368Z",
     "start_time": "2019-12-24T07:25:23.683671Z"
    }
   },
   "outputs": [],
   "source": [
    "# All features\n",
    "scoring = {'Similarity': similarity_scoring,\n",
    "           'KL_divergence': kl_divergence_scoring}\n",
    "\n",
    "X_normed = normalize(X, axis=0)\n",
    "\n",
    "the_model = 'XGBoost'\n",
    "reduce_list = []\n",
    "\n",
    "logo = LeaveOneGroupOut()\n",
    "split = logo.split(X_normed, y, GROUP_EP)\n",
    "model = OneVsRestClassifier(XGBClassifier())\n",
    "\n",
    "scores_ova_xgb_all = cross_validate(model, X_normed, y, cv=split, \n",
    "                                    scoring=scoring, \n",
    "                                    return_train_score=False, return_estimator=True, verbose=2)"
   ]
  },
  {
   "cell_type": "code",
   "execution_count": 28,
   "metadata": {
    "ExecuteTime": {
     "end_time": "2019-12-24T09:23:04.517281Z",
     "start_time": "2019-12-24T09:23:04.490193Z"
    }
   },
   "outputs": [
    {
     "name": "stdout",
     "output_type": "stream",
     "text": [
      "XGBoost similarity: ava. 0.806, std. 0.009\n",
      "XGBoost kl_divergence: ava. 0.668, std. 0.023\n"
     ]
    }
   ],
   "source": [
    "print('XGBoost similarity: ava. %.3f, std. %.3f' % \n",
    "      (np.average(scores_ova_xgb_all['test_Similarity']), sem(scores_ova_xgb_all['test_Similarity'])))\n",
    "\n",
    "print('XGBoost kl_divergence: ava. %.3f, std. %.3f' % \n",
    "      (np.average(-scores_ova_xgb_all['test_KL_divergence']), sem(-scores_ova_xgb_all['test_KL_divergence'])))"
   ]
  },
  {
   "cell_type": "code",
   "execution_count": 23,
   "metadata": {
    "ExecuteTime": {
     "end_time": "2019-09-03T14:36:45.553318Z",
     "start_time": "2019-09-03T14:36:45.512887Z"
    }
   },
   "outputs": [
    {
     "name": "stdout",
     "output_type": "stream",
     "text": [
      "Label similarity, XGBoost:\n",
      "[0.66709136 0.59020341 0.52033838 0.41998875 0.42481847 0.37981626\n",
      " 0.51842901 0.64798601 0.88817035 0.9011951 ]\n",
      "[0.031115688584546598 0.0310974329007635 0.019180633135531904\n",
      " 0.028917820463926335 0.03485760598426559 0.03301419728205311\n",
      " 0.029244596261169865 0.03479539808956835 0.031367616152629285\n",
      " 0.00790185745099855]\n"
     ]
    }
   ],
   "source": [
    "print('Label similarity, XGBoost:')\n",
    "print(np.nanmean(model_label_similarity['XGBoost'], axis=0))\n",
    "print(sem(model_label_similarity['XGBoost'], axis=0, nan_policy='omit'))"
   ]
  },
  {
   "cell_type": "code",
   "execution_count": 24,
   "metadata": {
    "ExecuteTime": {
     "end_time": "2019-09-03T14:36:46.170990Z",
     "start_time": "2019-09-03T14:36:46.158822Z"
    }
   },
   "outputs": [
    {
     "name": "stdout",
     "output_type": "stream",
     "text": [
      "Label kl_divergence, XGBoost:\n",
      "[1.19994831 1.40314008 1.35840234 1.95879272 2.06564567 2.19657656\n",
      " 1.60004081 1.0775122  0.49107016 0.21393546]\n",
      "[0.0875762769349859 0.09473523033050071 0.06476402371114441\n",
      " 0.10968270403013756 0.14458415521384205 0.12488462441997683\n",
      " 0.10815179414931496 0.09588225213614898 0.16575944794036807\n",
      " 0.019554795912735855]\n"
     ]
    }
   ],
   "source": [
    "print('Label kl_divergence, XGBoost:')\n",
    "print(np.nanmean(model_kl_divergence['XGBoost'], axis=0))\n",
    "print(sem(model_kl_divergence['XGBoost'], axis=0, nan_policy='omit'))"
   ]
  },
  {
   "cell_type": "markdown",
   "metadata": {},
   "source": [
    "## XGBoost with basic features"
   ]
  },
  {
   "cell_type": "code",
   "execution_count": null,
   "metadata": {
    "ExecuteTime": {
     "end_time": "2019-12-24T08:36:40.640574Z",
     "start_time": "2019-12-24T08:10:48.302009Z"
    }
   },
   "outputs": [],
   "source": [
    "# Basic feature\n",
    "scoring = {'Similarity': similarity_scoring,\n",
    "           'KL_divergence': kl_divergence_scoring}\n",
    "\n",
    "the_model = 'XGBoost_basic'\n",
    "\n",
    "X_basic = X[:, :-3]\n",
    "X_normed_basic = normalize(X_basic, axis=0)\n",
    "\n",
    "logo = LeaveOneGroupOut()\n",
    "split = logo.split(X_normed_basic, y, GROUP_EP)\n",
    "model = OneVsRestClassifier(XGBClassifier())\n",
    "\n",
    "scores_ova_xgb_basic = cross_validate(model, X_normed_basic, y, cv=split, scoring=scoring, \n",
    "                                      return_train_score=False, return_estimator=True, verbose=2)"
   ]
  },
  {
   "cell_type": "code",
   "execution_count": 22,
   "metadata": {
    "ExecuteTime": {
     "end_time": "2019-12-24T08:38:54.729399Z",
     "start_time": "2019-12-24T08:38:54.694427Z"
    }
   },
   "outputs": [
    {
     "name": "stdout",
     "output_type": "stream",
     "text": [
      "XGBoost_basic similarity: ava. 0.808, std. 0.009\n",
      "XGBoost_basic kl_divergence: ava. 0.663, std. 0.023\n"
     ]
    }
   ],
   "source": [
    "print('XGBoost_basic similarity: ava. %.3f, std. %.3f' % \n",
    "      (np.average(scores_ova_xgb_basic['test_Similarity']), sem(scores_ova_xgb_basic['test_Similarity'])))\n",
    "\n",
    "print('XGBoost_basic kl_divergence: ava. %.3f, std. %.3f' % \n",
    "      (np.average(-scores_ova_xgb_basic['test_KL_divergence']), sem(-scores_ova_xgb_basic['test_KL_divergence'])))"
   ]
  },
  {
   "cell_type": "code",
   "execution_count": 28,
   "metadata": {
    "ExecuteTime": {
     "end_time": "2019-09-03T15:19:15.942586Z",
     "start_time": "2019-09-03T15:19:15.897175Z"
    }
   },
   "outputs": [
    {
     "name": "stdout",
     "output_type": "stream",
     "text": [
      "Label similarity, XGBoost_basic:\n",
      "[0.66772135 0.58098244 0.52069817 0.41130185 0.43329407 0.36635892\n",
      " 0.53250524 0.66176313 0.89344334 0.90243347]\n",
      "[0.03138088908106871 0.031316666151705565 0.018946670415924703\n",
      " 0.028172518930573293 0.03338685361380185 0.03257181966069677\n",
      " 0.02990588557058852 0.03545228138408217 0.02975692853775661\n",
      " 0.008152491448584702]\n"
     ]
    }
   ],
   "source": [
    "print('Label similarity, XGBoost_basic:')\n",
    "print(np.nanmean(model_label_similarity['XGBoost_basic'], axis=0))\n",
    "print(sem(model_label_similarity['XGBoost_basic'], axis=0, nan_policy='omit'))"
   ]
  },
  {
   "cell_type": "code",
   "execution_count": 29,
   "metadata": {
    "ExecuteTime": {
     "end_time": "2019-09-03T15:19:37.436532Z",
     "start_time": "2019-09-03T15:19:37.398767Z"
    }
   },
   "outputs": [
    {
     "name": "stdout",
     "output_type": "stream",
     "text": [
      "Label kl_divergence, XGBoost_basic:\n",
      "[1.19562096 1.42884629 1.35243266 1.96036933 2.01300152 2.23514002\n",
      " 1.56288003 1.06364443 0.48491121 0.21159819]\n",
      "[0.08767547217414529 0.0982546696378912 0.06595498857318845\n",
      " 0.10148275323451107 0.13473647924990612 0.12613647207990267\n",
      " 0.10739710522067157 0.09825663913678881 0.16395453100284746\n",
      " 0.020203324608377895]\n"
     ]
    }
   ],
   "source": [
    "print('Label kl_divergence, XGBoost_basic:')\n",
    "print(np.nanmean(model_kl_divergence['XGBoost_basic'], axis=0))\n",
    "print(sem(model_kl_divergence['XGBoost_basic'], axis=0, nan_policy='omit'))"
   ]
  },
  {
   "cell_type": "markdown",
   "metadata": {},
   "source": [
    "## XGBoost with basic + two clocks features"
   ]
  },
  {
   "cell_type": "code",
   "execution_count": null,
   "metadata": {
    "ExecuteTime": {
     "end_time": "2019-09-03T15:52:12.546321Z",
     "start_time": "2019-09-03T15:24:13.475942Z"
    }
   },
   "outputs": [],
   "source": [
    "# Basic feature + vtc\n",
    "scoring = {'Similarity': similarity_scoring,\n",
    "           'KL_divergence': kl_divergence_scoring}\n",
    "\n",
    "X_basic_vtc = X[:, :-2]\n",
    "X_normed_basic_vtc = normalize(X_basic_vtc, axis=0)\n",
    "\n",
    "the_model = 'XGBoost_basic_twoclock'\n",
    "\n",
    "logo = LeaveOneGroupOut()\n",
    "split = logo.split(X_normed_basic_vtc, y, GROUP_EP)\n",
    "model = OneVsRestClassifier(XGBClassifier())\n",
    "\n",
    "scores_ova_xgb_basic_vtc = cross_validate(model, X_normed_basic_vtc, y, cv=split, scoring=scoring, \n",
    "                                          return_train_score=False, return_estimator=True, verbose=2)"
   ]
  },
  {
   "cell_type": "code",
   "execution_count": 31,
   "metadata": {
    "ExecuteTime": {
     "end_time": "2019-09-03T16:42:10.214916Z",
     "start_time": "2019-09-03T16:42:10.187999Z"
    }
   },
   "outputs": [
    {
     "name": "stdout",
     "output_type": "stream",
     "text": [
      "XGBoost_basic_twoclock similarity: ava. 0.807, std. 0.009\n",
      "XGBoost_basic_twoclock kl_divergence: ava. 0.666, std. 0.023\n"
     ]
    }
   ],
   "source": [
    "print('XGBoost_basic_twoclock similarity: ava. %.3f, std. %.3f' % \n",
    "      (np.average(scores_ova_xgb_basic_vtc['test_Similarity']), sem(scores_ova_xgb_basic_vtc['test_Similarity'])))\n",
    "\n",
    "print('XGBoost_basic_twoclock kl_divergence: ava. %.3f, std. %.3f' % \n",
    "      (np.average(-scores_ova_xgb_basic_vtc['test_KL_divergence']), sem(-scores_ova_xgb_basic_vtc['test_KL_divergence'])))"
   ]
  },
  {
   "cell_type": "code",
   "execution_count": 32,
   "metadata": {
    "ExecuteTime": {
     "end_time": "2019-09-03T16:43:01.141701Z",
     "start_time": "2019-09-03T16:43:01.068552Z"
    }
   },
   "outputs": [
    {
     "name": "stdout",
     "output_type": "stream",
     "text": [
      "Label similarity, XGBoost_basic_twoclock:\n",
      "[0.66324834 0.58686533 0.51977412 0.42462086 0.43533706 0.36623655\n",
      " 0.52895931 0.65196591 0.89035652 0.90184358]\n",
      "[0.03121905908882709 0.03215061406795535 0.019549302745846698\n",
      " 0.028616176325914452 0.03375967017525571 0.031770994976427776\n",
      " 0.02976086987671591 0.034834787813763854 0.03086571820733869\n",
      " 0.008143205728349662]\n"
     ]
    }
   ],
   "source": [
    "print('Label similarity, XGBoost_basic_twoclock:')\n",
    "print(np.nanmean(model_label_similarity['XGBoost_basic_twoclock'], axis=0))\n",
    "print(sem(model_label_similarity['XGBoost_basic_twoclock'], axis=0, nan_policy='omit'))"
   ]
  },
  {
   "cell_type": "code",
   "execution_count": 33,
   "metadata": {
    "ExecuteTime": {
     "end_time": "2019-09-03T16:43:04.116539Z",
     "start_time": "2019-09-03T16:43:04.069179Z"
    }
   },
   "outputs": [
    {
     "name": "stdout",
     "output_type": "stream",
     "text": [
      "Label kl_divergence, XGBoost_basic_twoclock:\n",
      "[1.21229926 1.41882827 1.35425765 1.93432531 2.03570194 2.22083552\n",
      " 1.57494136 1.06939215 0.48515849 0.21213347]\n",
      "[0.0888094915839906 0.09789880728867957 0.06577019432429701\n",
      " 0.10921262517949422 0.13982216791116137 0.12255528675913586\n",
      " 0.10559343905726143 0.095161781990422 0.16181449387617838\n",
      " 0.0199161975566405]\n"
     ]
    }
   ],
   "source": [
    "print('Label kl_divergence, XGBoost_basic_twoclock:')\n",
    "print(np.nanmean(model_kl_divergence['XGBoost_basic_twoclock'], axis=0))\n",
    "print(sem(model_kl_divergence['XGBoost_basic_twoclock'], axis=0, nan_policy='omit'))"
   ]
  },
  {
   "cell_type": "markdown",
   "metadata": {},
   "source": [
    "# Evaluate other baselines\n",
    "In thie section we will evaluation other baselines:\n",
    "1. Most common vector: predict Non-key for all scenes\n",
    "2. Label distribution baseline: predict the same label distribution vector (computed from the label distribution after over-sampling) for all scenes\n",
    "3. Temporal label distribution baseline: predict labe distribution vector based on its relative location\n",
    "\n",
    "All baseline approaches will be evaluted with the same to metrics: cosine similarity and KL divergence. We also run label-wise evalution."
   ]
  },
  {
   "cell_type": "code",
   "execution_count": 30,
   "metadata": {
    "ExecuteTime": {
     "end_time": "2020-01-14T10:22:34.064233Z",
     "start_time": "2020-01-14T10:22:34.037927Z"
    }
   },
   "outputs": [],
   "source": [
    "#label_dist = [0.0656, 0.0372, 0.0864, 0.0338, 0.0260, 0.0223, 0.0338, 0.0329, 0.0306, 0.6313]\n",
    "def evaluation(X, y, \n",
    "               ignore_non_key=False, \n",
    "               rand_method=None, \n",
    "               label_dist=None, \n",
    "               label_temporal_dist=None,\n",
    "               eval_method='similarity'\n",
    "              ):\n",
    "    \n",
    "    X_restore, y_restore = sampling_restore(X, y)\n",
    "    if ignore_non_key:\n",
    "        y_restore = y_restore[:,:-1]\n",
    "    y_rand_predict = np.zeros_like(y_restore)\n",
    "    \n",
    "    for i, y_true in enumerate(y_restore):\n",
    "        if rand_method is None:\n",
    "            prob = [0, 0, 0, 0, 0, 0, 0, 0, 0, 1.0] if not ignore_non_key else [0, 0, 1.0, 0, 0, 0, 0, 0, 0]\n",
    "        elif rand_method == 'dist':\n",
    "            prob = label_dist if not ignore_non_key else label_dist[:-1]\n",
    "        elif rand_method == 'temporal_dist':\n",
    "            if ignore_non_key:\n",
    "                label_temporal = label_temporal_dist[:, :-1]\n",
    "            else:\n",
    "                label_temporal = label_temporal_dist\n",
    "            start_percentile = X_restore[i, feature_list.index('r_t_loc')]\n",
    "            end_percentile = X_restore[i + 1, feature_list.index('r_t_loc')] if i < X_restore.shape[0] - 1 else None\n",
    "            if i == X_restore.shape[0] - 1:\n",
    "                #print(int(start_percentile//0.01))\n",
    "                prob = np.average(label_temporal[int(start_percentile//0.01):], axis=0)\n",
    "            elif int(start_percentile//0.01) == int(end_percentile//0.01):\n",
    "                #print(int(start_percentile//0.01))\n",
    "                prob = label_temporal[int(start_percentile//0.01)]\n",
    "            else:\n",
    "                #print(int(start_percentile//0.01), int(end_percentile//0.01))\n",
    "                prob = np.average(label_temporal[int(start_percentile//0.01): int(end_percentile//0.01)], axis=0)\n",
    "        #y_rand_predict[i] = prob\n",
    "        y_rand_predict[i] = prob / np.sum(prob)\n",
    "        #print(y_rand_predict[i])\n",
    "        \n",
    "    if eval_method == 'similarity':\n",
    "        similarity = np.zeros(y_restore.shape[0],)\n",
    "        for i in range(y_restore.shape[0]):\n",
    "            similarity[i] = compute_cosine_similarity(y_restore[i], y_rand_predict[i])\n",
    "        return np.nanmean(similarity)\n",
    "    \n",
    "    if eval_method == 'kl_divergence':\n",
    "        kl_divergence = np.zeros(y_restore.shape[0])\n",
    "        for i in range(y_restore.shape[0]):\n",
    "            kl = compute_kl_divergence(y_restore[i], y_rand_predict[i])\n",
    "            kl_divergence[i] = kl if kl != np.inf else compute_kl_divergence(y_restore[i], y_rand_predict[i] + 1e-10)\n",
    "        return np.nanmean(kl_divergence)\n",
    "        \n",
    "    if eval_method == 'label_similarity':\n",
    "        similarity = np.zeros((y_restore.shape[1]))\n",
    "        for i in range(y_restore.shape[1]):\n",
    "            similarity[i] = compute_cosine_similarity(y_restore[:, i], y_rand_predict[:, i])\n",
    "        return similarity\n",
    "    \n",
    "    if eval_method == 'label_kl_divergence':\n",
    "        kl_divergence = np.zeros((y_restore.shape[1]))\n",
    "        for i in range(y_restore.shape[1]):\n",
    "            kl = compute_kl_divergence(y_restore[:, i], y_rand_predict[:, i])\n",
    "            kl_divergence[i] = kl if kl != np.inf else compute_kl_divergence(y_restore[:, i], y_rand_predict[:, i] + 1e-10)\n",
    "        return kl_divergence       "
   ]
  },
  {
   "cell_type": "markdown",
   "metadata": {},
   "source": [
    "## Baseline: Most Common Vector"
   ]
  },
  {
   "cell_type": "code",
   "execution_count": 31,
   "metadata": {
    "ExecuteTime": {
     "end_time": "2020-01-14T10:22:37.760486Z",
     "start_time": "2020-01-14T10:22:35.622746Z"
    }
   },
   "outputs": [
    {
     "name": "stderr",
     "output_type": "stream",
     "text": [
      "/Users/liu/anaconda3/lib/python3.7/site-packages/ipykernel_launcher.py:9: RuntimeWarning: invalid value encountered in double_scalars\n",
      "  if __name__ == '__main__':\n"
     ]
    }
   ],
   "source": [
    "bench_similarity_most_common = {\n",
    "    'similarity': [],\n",
    "    'kl_divergence': [],\n",
    "    'label_similarity': [],\n",
    "    'label_kl_divergence': []\n",
    "}\n",
    "for i in range(1, 61):\n",
    "    test_data = X[np.array(GROUP_EP)==i]\n",
    "    if not reduce_list:\n",
    "        test_label = y[np.array(GROUP_EP)==i]\n",
    "    else:\n",
    "        test_label = y_reduced[np.array(GROUP_EP)==i]\n",
    "    bench_similarity_most_common['similarity'].append(evaluation(test_data, test_label, eval_method='similarity'))\n",
    "    bench_similarity_most_common['kl_divergence'].append(evaluation(test_data, test_label, eval_method='kl_divergence'))\n",
    "    bench_similarity_most_common['label_similarity'].append(evaluation(test_data, test_label, eval_method='label_similarity'))\n",
    "    bench_similarity_most_common['label_kl_divergence'].append(evaluation(test_data, test_label, eval_method='label_kl_divergence'))"
   ]
  },
  {
   "cell_type": "code",
   "execution_count": 32,
   "metadata": {
    "ExecuteTime": {
     "end_time": "2020-01-14T10:22:37.780249Z",
     "start_time": "2020-01-14T10:22:37.769247Z"
    }
   },
   "outputs": [
    {
     "name": "stdout",
     "output_type": "stream",
     "text": [
      "Similarity, most common vector: ava. 0.685, std. 0.015\n",
      "KL_divergence, most common vector: ava. 8.808, std. 0.341\n"
     ]
    }
   ],
   "source": [
    "print('Similarity, most common vector: ava. %.3f, std. %.3f' % \n",
    "      (np.average(bench_similarity_most_common['similarity']), sem(bench_similarity_most_common['similarity'])))\n",
    "print('KL_divergence, most common vector: ava. %.3f, std. %.3f' % \n",
    "      (np.average(bench_similarity_most_common['kl_divergence']), sem(bench_similarity_most_common['kl_divergence'])))"
   ]
  },
  {
   "cell_type": "code",
   "execution_count": 33,
   "metadata": {
    "ExecuteTime": {
     "end_time": "2020-01-14T10:22:39.169046Z",
     "start_time": "2020-01-14T10:22:39.153450Z"
    }
   },
   "outputs": [
    {
     "name": "stdout",
     "output_type": "stream",
     "text": [
      "Label similarity, most common vector:\n",
      "[       nan        nan        nan        nan        nan        nan\n",
      "        nan        nan        nan 0.83928258]\n",
      "[-- -- -- -- -- -- -- -- -- 0.008636880347586928]\n"
     ]
    },
    {
     "name": "stderr",
     "output_type": "stream",
     "text": [
      "/Users/liu/anaconda3/lib/python3.7/site-packages/ipykernel_launcher.py:2: RuntimeWarning: Mean of empty slice\n",
      "  \n"
     ]
    }
   ],
   "source": [
    "print('Label similarity, most common vector:')\n",
    "print(np.nanmean(bench_similarity_most_common['label_similarity'], axis=0))\n",
    "print(sem(bench_similarity_most_common['label_similarity'], axis=0, nan_policy='omit'))"
   ]
  },
  {
   "cell_type": "code",
   "execution_count": 34,
   "metadata": {
    "ExecuteTime": {
     "end_time": "2020-01-14T10:22:42.006407Z",
     "start_time": "2020-01-14T10:22:41.990139Z"
    }
   },
   "outputs": [
    {
     "name": "stdout",
     "output_type": "stream",
     "text": [
      "Label kl_divergence, most common vector:\n",
      "[       nan        nan        nan        nan        nan        nan\n",
      "        nan        nan        nan 0.30388379]\n",
      "[-- -- -- -- -- -- -- -- -- 0.019781841605005443]\n"
     ]
    },
    {
     "name": "stderr",
     "output_type": "stream",
     "text": [
      "/Users/liu/anaconda3/lib/python3.7/site-packages/ipykernel_launcher.py:2: RuntimeWarning: Mean of empty slice\n",
      "  \n"
     ]
    }
   ],
   "source": [
    "print('Label kl_divergence, most common vector:')\n",
    "print(np.nanmean(bench_similarity_most_common['label_kl_divergence'], axis=0))\n",
    "print(sem(bench_similarity_most_common['label_kl_divergence'], axis=0, nan_policy='omit'))"
   ]
  },
  {
   "cell_type": "markdown",
   "metadata": {},
   "source": [
    "## Baseline: Label Distribution"
   ]
  },
  {
   "cell_type": "code",
   "execution_count": 35,
   "metadata": {
    "ExecuteTime": {
     "end_time": "2020-01-14T10:23:30.154470Z",
     "start_time": "2020-01-14T10:23:30.148025Z"
    }
   },
   "outputs": [],
   "source": [
    "def compute_label_distribution(train_y):\n",
    "    cnt = Counter(train_y)\n",
    "    label_prob = sorted([(i, cnt[i] / len(train_y)) for i in cnt])\n",
    "    return [pair[1] for pair in label_prob]  "
   ]
  },
  {
   "cell_type": "code",
   "execution_count": 36,
   "metadata": {
    "ExecuteTime": {
     "end_time": "2020-01-14T10:23:34.420188Z",
     "start_time": "2020-01-14T10:23:31.162810Z"
    }
   },
   "outputs": [
    {
     "name": "stderr",
     "output_type": "stream",
     "text": [
      "/Users/liu/anaconda3/lib/python3.7/site-packages/ipykernel_launcher.py:9: RuntimeWarning: invalid value encountered in double_scalars\n",
      "  if __name__ == '__main__':\n"
     ]
    }
   ],
   "source": [
    "bench_label_dist = {\n",
    "    'similarity': [],\n",
    "    'kl_divergence': [],\n",
    "    'label_similarity': [],\n",
    "    'label_kl_divergence': []\n",
    "}\n",
    "#bench_similarity_normal = []\n",
    "for i in range(1, 61):\n",
    "    train_y = y[np.array(GROUP_EP)!=i]\n",
    "    label_dist = compute_label_distribution(train_y)\n",
    "    test_data = X[np.array(GROUP_EP)==i]\n",
    "    test_label = y[np.array(GROUP_EP)==i]\n",
    "    bench_label_dist['similarity'].append(evaluation(test_data, test_label, \n",
    "                                                     rand_method='dist', \n",
    "                                                     label_dist=label_dist, \n",
    "                                                     eval_method='similarity'))\n",
    "    bench_label_dist['kl_divergence'].append(evaluation(test_data, test_label, \n",
    "                                                        rand_method='dist', \n",
    "                                                        label_dist=label_dist, \n",
    "                                                        eval_method='kl_divergence'))\n",
    "    bench_label_dist['label_similarity'].append(evaluation(test_data, test_label, \n",
    "                                                           rand_method='dist', \n",
    "                                                           label_dist=label_dist, \n",
    "                                                           eval_method='label_similarity'))\n",
    "    bench_label_dist['label_kl_divergence'].append(evaluation(test_data, test_label, \n",
    "                                                              rand_method='dist', \n",
    "                                                              label_dist=label_dist, \n",
    "                                                              eval_method='label_kl_divergence'))"
   ]
  },
  {
   "cell_type": "code",
   "execution_count": 37,
   "metadata": {
    "ExecuteTime": {
     "end_time": "2020-01-14T10:23:35.301392Z",
     "start_time": "2020-01-14T10:23:35.294300Z"
    }
   },
   "outputs": [
    {
     "name": "stdout",
     "output_type": "stream",
     "text": [
      "Similarity, label distribution: ava. 0.712, std. 0.013\n",
      "KL_divergence, label distribution: ava. 1.090, std. 0.032\n"
     ]
    }
   ],
   "source": [
    "print('Similarity, label distribution: ava. %.3f, std. %.3f' % \n",
    "      (np.average(bench_label_dist['similarity']), sem(bench_label_dist['similarity'])))\n",
    "print('KL_divergence, label distribution: ava. %.3f, std. %.3f' % \n",
    "      (np.average(bench_label_dist['kl_divergence']), sem(bench_label_dist['kl_divergence'])))"
   ]
  },
  {
   "cell_type": "code",
   "execution_count": 38,
   "metadata": {
    "ExecuteTime": {
     "end_time": "2020-01-14T10:23:37.321009Z",
     "start_time": "2020-01-14T10:23:37.311735Z"
    }
   },
   "outputs": [
    {
     "name": "stdout",
     "output_type": "stream",
     "text": [
      "Label similarity, label distribution:\n",
      "[0.34374005 0.28500921 0.43116259 0.30750266 0.27296214 0.26231644\n",
      " 0.31215032 0.25625599 0.2190544  0.83928258]\n",
      "[0.009900772316170507 0.009824116559795822 0.011484812107479862\n",
      " 0.009944325424968422 0.010016491024033894 0.008801608265086483\n",
      " 0.009060199895969106 0.0079020135682141 0.00551378110157391\n",
      " 0.008636880347586922]\n"
     ]
    }
   ],
   "source": [
    "print('Label similarity, label distribution:')\n",
    "print(np.nanmean(bench_label_dist['label_similarity'], axis=0))\n",
    "print(sem(bench_label_dist['label_similarity'], axis=0, nan_policy='omit'))"
   ]
  },
  {
   "cell_type": "code",
   "execution_count": 39,
   "metadata": {
    "ExecuteTime": {
     "end_time": "2020-01-14T10:23:39.041720Z",
     "start_time": "2020-01-14T10:23:39.028981Z"
    }
   },
   "outputs": [
    {
     "name": "stdout",
     "output_type": "stream",
     "text": [
      "Label kl_divergence, label distribution:\n",
      "[2.09167073 2.52883893 1.65538952 2.37358569 2.64972245 2.7180484\n",
      " 2.33927145 2.74619425 3.06306522 0.30388379]\n",
      "[0.06421326909848146 0.06929317014393359 0.05581357645089018\n",
      " 0.06316107207857279 0.07110854435468986 0.06559038407904354\n",
      " 0.058852536929914934 0.062388430501429476 0.051231597952331336\n",
      " 0.019781841605005453]\n"
     ]
    }
   ],
   "source": [
    "print('Label kl_divergence, label distribution:')\n",
    "print(np.nanmean(bench_label_dist['label_kl_divergence'], axis=0))\n",
    "print(sem(bench_label_dist['label_kl_divergence'], axis=0, nan_policy='omit'))"
   ]
  },
  {
   "cell_type": "markdown",
   "metadata": {},
   "source": [
    "## Baseline: Temporal Label Distribution"
   ]
  },
  {
   "cell_type": "code",
   "execution_count": 40,
   "metadata": {
    "ExecuteTime": {
     "end_time": "2020-01-14T10:23:54.554217Z",
     "start_time": "2020-01-14T10:23:54.541599Z"
    }
   },
   "outputs": [],
   "source": [
    "def load_ep_label_temporal(ep_list):\n",
    "    X_column_headers = ['r_t_loc']\n",
    "    y_column_headers = ['Label']\n",
    "    \n",
    "    ep_label_temporal = {}\n",
    "    \n",
    "    for ep in ep_list:\n",
    "        X = pd.DataFrame(columns=X_column_headers)\n",
    "        y = pd.DataFrame(columns=y_column_headers)\n",
    "        \n",
    "        data_file = raw_feature_dir + ep + '-Scenes.csv'\n",
    "        label_file = raw_label_dir + 'Final_Labels_' + ep + '.csv'\n",
    "        \n",
    "        ep_df = pd.read_csv(data_file, usecols=X_column_headers)\n",
    "        label_df = pd.read_csv(label_file, header=None, usecols=[1], names=y_column_headers)\n",
    "        \n",
    "        label_tuple = label_string_to_tuple(label_df)\n",
    "        label_vector_full = full_label_vector(label_tuple)\n",
    "        \n",
    "        ep_label_temporal[ep] = pd.concat([ep_df, pd.DataFrame(label_vector_full)], axis=1, sort=False)\n",
    "    \n",
    "    return ep_label_temporal\n",
    "\n",
    "def compute_temporal_label_dist(ep_label_temporal):\n",
    "    percentile = 0.01\n",
    "\n",
    "    label_temporal = np.zeros((int(1/percentile), 10))\n",
    "\n",
    "    for i, _ in enumerate(label_temporal):\n",
    "        start_time = i * percentile\n",
    "        label_vector = np.zeros((10,))\n",
    "\n",
    "        for ep in ep_label_temporal:\n",
    "            for j, scene in enumerate(ep_label_temporal[ep].values):\n",
    "                if scene[0] <= start_time:\n",
    "                    if j == (ep_label_temporal[ep].values.shape[0] - 1):\n",
    "                        label_vector += scene[1:]\n",
    "                    elif ep_label_temporal[ep].values[j+1][0] <= start_time:\n",
    "                        continue\n",
    "                    else:\n",
    "                        label_vector += scene[1:]\n",
    "                else:\n",
    "                    continue\n",
    "        label_temporal[i] = label_vector/60\n",
    "    return label_temporal"
   ]
  },
  {
   "cell_type": "markdown",
   "metadata": {},
   "source": [
    "Before running the baseline approach, we first visualize the temporal distribution on the entire dataset."
   ]
  },
  {
   "cell_type": "code",
   "execution_count": 47,
   "metadata": {
    "ExecuteTime": {
     "end_time": "2020-01-14T10:28:10.710374Z",
     "start_time": "2020-01-14T10:28:00.261133Z"
    }
   },
   "outputs": [
    {
     "data": {
      "image/png": "[encoded data removed]",
      "text/plain": [
       "<Figure size 720x576 with 1 Axes>"
      ]
     },
     "metadata": {
      "needs_background": "light"
     },
     "output_type": "display_data"
    }
   ],
   "source": [
    "from mpl_toolkits.mplot3d import Axes3D\n",
    "from matplotlib.collections import PolyCollection\n",
    "from matplotlib.collections import LineCollection\n",
    "import matplotlib.pyplot as plt\n",
    "from matplotlib import colors as mcolors\n",
    "import numpy as np\n",
    "\n",
    "ep_label_temporal_all = load_ep_label_temporal(EP_LIST)\n",
    "\n",
    "label_temporal = compute_temporal_label_dist(ep_label_temporal_all)\n",
    "label_temporal = label_temporal.transpose()\n",
    "\n",
    "fig = plt.figure(figsize=(10,8))\n",
    "ax = fig.gca(projection='3d')\n",
    "\n",
    "\n",
    "def cc(arg):\n",
    "    return mcolors.to_rgba(arg, alpha=0.6)\n",
    "\n",
    "xs = np.arange(0, 1, 0.01)\n",
    "verts = []\n",
    "zs = range(len(label_list))\n",
    "for i, z in enumerate(zs):\n",
    "    ys = label_temporal[i]\n",
    "    ys[0], ys[-1] = 0, 0\n",
    "    verts.append(list(zip(xs, ys)))\n",
    "\n",
    "poly = PolyCollection(verts, facecolors=[cc('C0'), cc('C1'), cc('C2'),\n",
    "                                         cc('C3'),cc('C4'), cc('C5'), \n",
    "                                         cc('C6'), cc('C7'),cc('C8'), cc('C9')])\n",
    "poly.set_alpha(0.8)\n",
    "ax.add_collection3d(poly, zs=zs, zdir='y')\n",
    "\n",
    "ax.set_xlabel('Percentile of episode length')\n",
    "ax.set_xlim3d(0, 1)\n",
    "ax.set_ylabel('Class labels')\n",
    "ax.set_ylim3d(-1, 10)\n",
    "ax.set_zlabel('Label probability')\n",
    "ax.set_zlim3d(0, 1)\n",
    "\n",
    "plt.show()"
   ]
  },
  {
   "cell_type": "markdown",
   "metadata": {},
   "source": [
    "When running this baseline, the temporal distribution will be computed with only the training data instead of all episodes. This process may take some time (8 - 10 minutes)."
   ]
  },
  {
   "cell_type": "code",
   "execution_count": 48,
   "metadata": {
    "ExecuteTime": {
     "end_time": "2020-01-14T10:37:38.509582Z",
     "start_time": "2020-01-14T10:29:43.141388Z"
    }
   },
   "outputs": [
    {
     "name": "stderr",
     "output_type": "stream",
     "text": [
      "/Users/liu/anaconda3/lib/python3.7/site-packages/ipykernel_launcher.py:9: RuntimeWarning: invalid value encountered in double_scalars\n",
      "  if __name__ == '__main__':\n",
      "/Users/liu/anaconda3/lib/python3.7/site-packages/scipy/stats/_distn_infrastructure.py:2507: RuntimeWarning: invalid value encountered in true_divide\n",
      "  pk = 1.0*pk / np.sum(pk, axis=0)\n"
     ]
    }
   ],
   "source": [
    "bench_temporal_label_dist = {\n",
    "                            'similarity': [],\n",
    "                            'kl_divergence': [],\n",
    "                            'label_similarity': [],\n",
    "                            'label_kl_divergence': []\n",
    "}\n",
    "for i in range(1, 61):\n",
    "    current_ep = group_ep[str(i)]\n",
    "    ep_label_temporal = {j: ep_label_temporal_all[j] for j in ep_label_temporal_all if j != current_ep}\n",
    "    label_temporal_dist = compute_temporal_label_dist(ep_label_temporal)\n",
    "    \n",
    "    test_data = X[np.array(GROUP_EP)==i]\n",
    "    test_label = y[np.array(GROUP_EP)==i]\n",
    "    bench_temporal_label_dist['similarity'].append(evaluation(test_data, test_label, \n",
    "                                                              rand_method='temporal_dist', \n",
    "                                                              label_temporal_dist=label_temporal_dist,\n",
    "                                                              eval_method='similarity'))\n",
    "    bench_temporal_label_dist['kl_divergence'].append(evaluation(test_data, test_label, \n",
    "                                                                 rand_method='temporal_dist', \n",
    "                                                                 label_temporal_dist=label_temporal_dist,\n",
    "                                                                 eval_method='kl_divergence'))\n",
    "    bench_temporal_label_dist['label_similarity'].append(evaluation(test_data, test_label, \n",
    "                                                                    rand_method='temporal_dist', \n",
    "                                                                    label_temporal_dist=label_temporal_dist,\n",
    "                                                                    eval_method='label_similarity'))\n",
    "    bench_temporal_label_dist['label_kl_divergence'].append(evaluation(test_data, test_label, \n",
    "                                                                       rand_method='temporal_dist', \n",
    "                                                                       label_temporal_dist=label_temporal_dist,\n",
    "                                                                       eval_method='label_kl_divergence'))"
   ]
  },
  {
   "cell_type": "code",
   "execution_count": 49,
   "metadata": {
    "ExecuteTime": {
     "end_time": "2020-01-14T10:37:42.765254Z",
     "start_time": "2020-01-14T10:37:42.755171Z"
    }
   },
   "outputs": [
    {
     "name": "stdout",
     "output_type": "stream",
     "text": [
      "Similarity, temporal label distribution: ava. 0.728, std. 0.007\n",
      "KL_divergence, temporal label distribution: ava. 0.867, std. 0.018\n"
     ]
    }
   ],
   "source": [
    "print('Similarity, temporal label distribution: ava. %.3f, std. %.3f' % \n",
    "      (np.average(bench_temporal_label_dist['similarity']), sem(bench_temporal_label_dist['similarity'])))\n",
    "print('KL_divergence, temporal label distribution: ava. %.3f, std. %.3f' % \n",
    "      (np.average(bench_temporal_label_dist['kl_divergence']), sem(bench_temporal_label_dist['kl_divergence'])))"
   ]
  },
  {
   "cell_type": "code",
   "execution_count": 50,
   "metadata": {
    "ExecuteTime": {
     "end_time": "2020-01-14T10:37:44.561299Z",
     "start_time": "2020-01-14T10:37:44.543172Z"
    }
   },
   "outputs": [
    {
     "name": "stdout",
     "output_type": "stream",
     "text": [
      "Label similarity, baseline_temporal_dist:\n",
      "[0.58695735 0.46109701 0.49103178 0.40440269 0.38502735 0.39060002\n",
      " 0.50311022 0.63290586 0.85650431 0.84354254]\n",
      "[0.022567349424050417 0.019359073786530564 0.018472480312295952\n",
      " 0.016902762239603814 0.023695584453979308 0.023755909544280043\n",
      " 0.023392896162186073 0.02518971509106889 0.026999170716484854\n",
      " 0.008469308817316286]\n"
     ]
    }
   ],
   "source": [
    "print('Label similarity, baseline_temporal_dist:')\n",
    "print(np.nanmean(bench_temporal_label_dist['label_similarity'], axis=0))\n",
    "print(sem(bench_temporal_label_dist['label_similarity'], axis=0, nan_policy='omit'))"
   ]
  },
  {
   "cell_type": "code",
   "execution_count": 51,
   "metadata": {
    "ExecuteTime": {
     "end_time": "2020-01-14T10:37:46.226514Z",
     "start_time": "2020-01-14T10:37:46.214666Z"
    }
   },
   "outputs": [
    {
     "name": "stdout",
     "output_type": "stream",
     "text": [
      "Label kl_divergence, baseline_temporal_dist:\n",
      "[1.36890971 1.7276017  1.45686028 1.97723051 2.11389909 2.18313797\n",
      " 1.61365279 1.14798648 0.54134431 0.29732828]\n",
      "[0.08639304951771092 0.0704788604333193 0.07439783823201153\n",
      " 0.09259870696675024 0.09328339824527061 0.13203145188122595\n",
      " 0.08313814672987062 0.07796128997795591 0.08021323389697352\n",
      " 0.018992242546813726]\n"
     ]
    }
   ],
   "source": [
    "print('Label kl_divergence, baseline_temporal_dist:')\n",
    "print(np.nanmean(bench_temporal_label_dist['label_kl_divergence'], axis=0))\n",
    "print(sem(bench_temporal_label_dist['label_kl_divergence'], axis=0, nan_policy='omit'))"
   ]
  },
  {
   "cell_type": "markdown",
   "metadata": {},
   "source": [
    "## Run t-test"
   ]
  },
  {
   "cell_type": "code",
   "execution_count": null,
   "metadata": {
    "ExecuteTime": {
     "end_time": "2020-01-14T10:41:17.206229Z",
     "start_time": "2020-01-14T10:41:17.180247Z"
    },
    "scrolled": true
   },
   "outputs": [],
   "source": [
    "print(\"P-value: label_dist vs most_common: \")\n",
    "print(ttest_rel(bench_similarity_most_common['kl_divergence'], \n",
    "                bench_label_dist['kl_divergence'], \n",
    "                nan_policy='omit'))\n",
    "print('\\n')\n",
    "print(\"P-value: logistic regression vs label_dist: \")\n",
    "print(ttest_rel(-logistic_baseline['test_KL_divergence'], \n",
    "                bench_label_dist['kl_divergence'], \n",
    "                nan_policy='omit'))\n",
    "print('\\n')\n",
    "print(\"P-value: temporal label dist vs logistic regression: \")\n",
    "print(ttest_rel(-logistic_baseline['test_KL_divergence'], \n",
    "                bench_temporal_label_dist['kl_divergence'], \n",
    "                nan_policy='omit'))\n",
    "print('\\n')\n",
    "print(\"P-value: XGBoost vs temporal label dist: \")\n",
    "print(ttest_rel(scores_ova_xgb_all['test_KL_divergence'], \n",
    "                bench_temporal_label_dist['kl_divergence'], \n",
    "                nan_policy='omit'))"
   ]
  },
  {
   "cell_type": "markdown",
   "metadata": {},
   "source": [
    "## Label wise statistical analysis\n",
    "Since temporal label distribution baseline is the strongest, we only run statistical analysis between this baseline and XGBoost rather than all baselines."
   ]
  },
  {
   "cell_type": "code",
   "execution_count": null,
   "metadata": {
    "ExecuteTime": {
     "end_time": "2020-01-14T10:42:48.327998Z",
     "start_time": "2020-01-14T10:42:48.307194Z"
    }
   },
   "outputs": [],
   "source": [
    "# Similarity\n",
    "for i in range(10):\n",
    "    xgboost_label_similarity = [ep[i] for ep in model_label_similarity['XGBoost']]\n",
    "    temporal_label_similarity = [ep[i] for ep in bench_temporal_label_dist['label_similarity']]\n",
    "    print(\"P-value for label:\", label_list[i])\n",
    "    print(ttest_rel(temporal_label_similarity, xgboost_label_similarity, nan_policy='omit')[1])"
   ]
  },
  {
   "cell_type": "code",
   "execution_count": null,
   "metadata": {
    "ExecuteTime": {
     "end_time": "2019-09-02T08:59:04.415259Z",
     "start_time": "2019-09-02T08:59:04.398823Z"
    }
   },
   "outputs": [],
   "source": [
    "# KL divergence\n",
    "for i in range(10):\n",
    "    xgboost_label_kl = [ep[i] for ep in model_kl_divergence['XGBoost']]\n",
    "    temporal_label_kl = [ep[i] for ep in bench_temporal_label_dist['label_kl_divergence']]\n",
    "    print(\"P-value for label:\", label_list[i])\n",
    "    print(ttest_rel(temporal_label_kl, xgboost_label_kl, nan_policy='omit')[1])"
   ]
  },
  {
   "cell_type": "markdown",
   "metadata": {},
   "source": [
    "Plotting label wise performance."
   ]
  },
  {
   "cell_type": "code",
   "execution_count": null,
   "metadata": {
    "ExecuteTime": {
     "end_time": "2020-01-14T10:44:56.587108Z",
     "start_time": "2020-01-14T10:44:55.945122Z"
    }
   },
   "outputs": [],
   "source": [
    "#KL divergence\n",
    "bar_width = 0.4\n",
    "r1 = 2*np.arange(10)\n",
    "r2 = [x + bar_width for x in r1]\n",
    "r3 = [x + bar_width for x in r2]\n",
    "r4 = [x + bar_width for x in r3]\n",
    "\n",
    "pyplot.rcParams.update({'font.size': 16})\n",
    "\n",
    "fig = pyplot.figure(figsize=(12,8))\n",
    "\n",
    "pyplot.bar(r1, \n",
    "           np.nanmean(bench_label_dist['label_kl_divergence'], axis=0), \n",
    "           yerr=1.95*sem(bench_label_dist['label_kl_divergence'], nan_policy='omit'),\n",
    "           width=bar_width,\n",
    "           capsize=3,\n",
    "           color='red',\n",
    "           label='Label_dist'\n",
    "          )\n",
    "pyplot.bar(r2, \n",
    "           np.nanmean(model_kl_divergence['Logistic'], axis=0), \n",
    "           yerr=1.95*sem(model_kl_divergence['Logistic'], nan_policy='omit'),\n",
    "           width=bar_width,\n",
    "           capsize=3,\n",
    "           color='purple',\n",
    "           label='Logistic_regression'\n",
    "          )\n",
    "pyplot.bar(r3, \n",
    "           np.nanmean(bench_temporal_label_dist['label_kl_divergence'], axis=0), \n",
    "           yerr=1.95*sem(bench_temporal_label_dist['label_kl_divergence'], nan_policy='omit'),\n",
    "           width=bar_width,\n",
    "           capsize=3,\n",
    "           color='blue',\n",
    "           label='Temporal_label_dist'\n",
    "          )\n",
    "\n",
    "pyplot.bar(r4, \n",
    "           np.nanmean(model_kl_divergence['XGBoost'], axis=0), \n",
    "           yerr=1.95*sem(model_kl_divergence['XGBoost'], nan_policy='omit'),\n",
    "           width=bar_width,\n",
    "           capsize=3,\n",
    "           color='cyan',\n",
    "           label='XGBoost'\n",
    "          )\n",
    "\n",
    "pyplot.xticks([2*(r + 0.75*bar_width) for r in range(10)], label_list, rotation='60')\n",
    "pyplot.ylabel('KL_divergence')\n",
    "pyplot.legend(ncol=2)\n",
    "\n",
    "pyplot.show()"
   ]
  },
  {
   "cell_type": "code",
   "execution_count": null,
   "metadata": {
    "ExecuteTime": {
     "end_time": "2019-09-03T11:40:27.251502Z",
     "start_time": "2019-09-03T11:40:26.750248Z"
    }
   },
   "outputs": [],
   "source": [
    "# Cosine similarity\n",
    "fig2 = pyplot.figure(figsize=(12,8))\n",
    "\n",
    "pyplot.bar(r1, \n",
    "           np.nanmean(bench_label_dist['label_similarity'], axis=0), \n",
    "           yerr=1.95*sem(bench_label_dist['label_similarity'], nan_policy='omit'),\n",
    "           width=bar_width,\n",
    "           capsize=3,\n",
    "           color='red',\n",
    "           label='Label_dist'\n",
    "          )\n",
    "pyplot.bar(r2, \n",
    "           np.nanmean(model_label_similarity['Logistic'], axis=0), \n",
    "           yerr=1.95*sem(model_label_similarity['Logistic'], nan_policy='omit'),\n",
    "           width=bar_width,\n",
    "           capsize=3,\n",
    "           color='purple',\n",
    "           label='Logistic_regression'\n",
    "          )\n",
    "pyplot.bar(r3, \n",
    "           np.nanmean(bench_temporal_label_dist['label_similarity'], axis=0), \n",
    "           yerr=1.95*sem(bench_temporal_label_dist['label_similarity'], nan_policy='omit'),\n",
    "           width=bar_width,\n",
    "           capsize=3,\n",
    "           color='blue',\n",
    "           label='Temporal_label_dist'\n",
    "          )\n",
    "\n",
    "pyplot.bar(r4, \n",
    "           np.nanmean(model_label_similarity['XGBoost'], axis=0), \n",
    "           yerr=1.95*sem(model_label_similarity['XGBoost'], nan_policy='omit'),\n",
    "           width=bar_width,\n",
    "           capsize=3,\n",
    "           color='cyan',\n",
    "           label='XGBoost'\n",
    "          )\n",
    "\n",
    "pyplot.xticks([2*(r + 0.75*bar_width) for r in range(10)], label_list, rotation='60')\n",
    "pyplot.ylabel('Cosine similarity')\n",
    "pyplot.legend(ncol=2)\n",
    "\n",
    "pyplot.show()"
   ]
  }
 ],
 "metadata": {
  "kernelspec": {
   "display_name": "Python 3",
   "language": "python",
   "name": "python3"
  },
  "language_info": {
   "codemirror_mode": {
    "name": "ipython",
    "version": 3
   },
   "file_extension": ".py",
   "mimetype": "text/x-python",
   "name": "python",
   "nbconvert_exporter": "python",
   "pygments_lexer": "ipython3",
   "version": "3.7.1"
  },
  "toc": {
   "base_numbering": 1,
   "nav_menu": {},
   "number_sections": true,
   "sideBar": true,
   "skip_h1_title": false,
   "title_cell": "Table of Contents",
   "title_sidebar": "Contents",
   "toc_cell": false,
   "toc_position": {},
   "toc_section_display": true,
   "toc_window_display": true
  },
  "varInspector": {
   "cols": {
    "lenName": 16,
    "lenType": 16,
    "lenVar": 40
   },
   "kernels_config": {
    "python": {
     "delete_cmd_postfix": "",
     "delete_cmd_prefix": "del ",
     "library": "var_list.py",
     "varRefreshCmd": "print(var_dic_list())"
    },
    "r": {
     "delete_cmd_postfix": ") ",
     "delete_cmd_prefix": "rm(",
     "library": "var_list.r",
     "varRefreshCmd": "cat(var_dic_list()) "
    }
   },
   "oldHeight": 122,
   "position": {
    "height": "40px",
    "left": "1010px",
    "right": "20px",
    "top": "120px",
    "width": "250px"
   },
   "types_to_exclude": [
    "module",
    "function",
    "builtin_function_or_method",
    "instance",
    "_Feature"
   ],
   "varInspector_section_display": "none",
   "window_display": true
  }
 },
 "nbformat": 4,
 "nbformat_minor": 2
}
